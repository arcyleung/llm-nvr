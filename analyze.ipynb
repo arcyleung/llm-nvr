{
 "cells": [
  {
   "cell_type": "code",
   "execution_count": 1,
   "metadata": {},
   "outputs": [
    {
     "name": "stdout",
     "output_type": "stream",
     "text": [
      "Tables:\n",
      "migratehistory\n",
      "recordings\n",
      "timeline\n",
      "event\n",
      "regions\n",
      "start_time: 1722739350.902436\n",
      "end_time: 1722825750.902436\n",
      "136 events found\n",
      "['front-1722818479.36576-2y22cv', 'front-1722818476.88936-7k21b5', 'front-1722815507.428464-wxpzlj', 'front-1722815501.166458-xp6bqb', 'front-1722814631.375881-wza9un', 'front-1722814627.028648-0yreg8', 'front-1722812710.037991-93xrxj', 'front-1722812696.283096-oxk84h', 'front-1722812689.273292-jmxlz6', 'front-1722811510.775395-k4dzld', 'front-1722811506.360419-7ubo8b', 'front-1722811330.364074-f4e2rv', 'front-1722810597.211508-od8wmw', 'front-1722810399.889922-2091ah', 'front-1722810399.83827-1pid0u', 'front-1722810397.028705-sf940v', 'front-1722810250.32689-727phi', 'front-1722810217.716625-7ri4uz', 'front-1722810217.201836-ld6ox4', 'front-1722810214.260108-3ac7jr', 'front-1722810212.726919-jufj46', 'front-1722810212.225093-cduplt', 'front-1722810211.889601-2sxwfg', 'front-1722809373.755573-w573qf', 'front-1722809371.221085-g3jfzd', 'front-1722809355.651525-orlg7p', 'front-1722809355.483597-uelekm', 'front-1722809348.147341-115o4u', 'front-1722809187.139019-94ipon', 'front-1722807236.246528-upu4ke', 'front-1722807230.684592-50imak', 'front-1722807216.192457-fac7hb', 'front-1722806905.077282-m5o64m', 'front-1722806898.527802-ytvuhn', 'front-1722806877.806552-3onyle', 'front-1722806877.163411-fj826n', 'front-1722806876.996122-jk67g3', 'front-1722806860.566503-xbs3as', 'front-1722806857.369914-gecwhh', 'front-1722806797.884813-8x6uoo', 'front-1722806795.8036-lam7uf', 'front-1722806702.999045-470t8v', 'front-1722806696.189064-2b8pm0', 'front-1722806660.972531-tan8mr', 'front-1722806637.385544-fhbb1j', 'front-1722806624.781485-2g9qmm', 'front-1722806619.790428-b9s5gg', 'front-1722806581.613767-asoqpp', 'front-1722806457.550563-v21nuf', 'front-1722806454.528605-zx5ugi', 'front-1722805813.204059-q0l7ah', 'front-1722805733.097624-2g2451', 'front-1722805718.439811-sdycte', 'front-1722805715.774576-ujzmym', 'front-1722805611.95682-1z31sw', 'front-1722805092.833008-p1zw0e', 'front-1722805090.704416-9k61yq', 'front-1722804611.36944-pwbjp5', 'front-1722804347.764626-5qchdf', 'front-1722803670.010401-frtsyk', 'front-1722803665.872126-mcp5je', 'front-1722803664.98484-yvcd1z', 'front-1722803487.962145-jfyjs0', 'front-1722803463.632915-9gd958', 'front-1722803448.524397-t31let', 'front-1722802860.45027-zjtf3k', 'front-1722801457.604793-oa36f5', 'front-1722801454.476092-256i1d', 'front-1722800369.856728-6pzjve', 'front-1722800359.074969-k42cu1', 'front-1722800357.0823-7k41ty', 'front-1722800092.486055-jrbsm4', 'front-1722799373.082766-7b3vtf', 'front-1722799365.929691-4lmkmg', 'front-1722799345.821894-f08xik', 'front-1722799033.968697-d6idxo', 'front-1722798908.175004-66gpo1', 'front-1722797260.545888-nzzpm1', 'front-1722797257.133099-otddaz', 'front-1722795894.253328-yz1ywq', 'front-1722795892.394624-c3bt9a', 'front-1722793910.348885-403c63', 'front-1722793488.09179-l5idaf', 'front-1722793449.366451-i8gnds', 'front-1722793443.384229-x97kun', 'front-1722793424.990264-3dvtnu', 'front-1722793009.66488-zgr0ca', 'front-1722793004.35608-6wkpjb', 'front-1722793001.373817-1vpic1', 'front-1722792660.039553-wxdokx', 'front-1722790294.980918-9abyrb', 'front-1722790289.992581-7phait', 'front-1722789481.374154-lusrgg', 'front-1722789283.269898-jydx8n', 'front-1722788453.059519-bb5g5q', 'front-1722787007.676523-yd2jry', 'front-1722786851.985759-7rlo3f', 'front-1722786845.650557-4a53jt', 'front-1722786824.822429-uka084', 'front-1722786389.444566-6kb2xb', 'front-1722786384.348937-5yl5uf', 'front-1722786351.326647-rabnxb', 'front-1722785238.458191-so7sw6', 'front-1722785219.578399-vjqzlu', 'front-1722785186.157532-e83i1p', 'front-1722785184.36829-1a92fs', 'front-1722785178.201483-gfok5q', 'front-1722784280.502125-g19g9j', 'front-1722784275.292545-e9uhki', 'front-1722784262.032369-capbg8', 'front-1722783619.543527-k7f539', 'front-1722782728.513069-nugmmr', 'front-1722782717.976632-b6zvit', 'front-1722782709.215829-pok4k9', 'front-1722782674.162191-pkjoqj', 'front-1722782671.616958-w6hnbq', 'front-1722782236.638288-g9ohab', 'front-1722781193.38171-px66m8', 'front-1722779756.453588-54u22u', 'front-1722779747.411268-7xbrst', 'front-1722779449.239518-tk3ez5', 'front-1722779394.789454-bikgp6', 'front-1722778571.497269-aialv8', 'front-1722778564.496518-ggtljs', 'front-1722778141.151058-5ketz6', 'front-1722778129.109968-qkkmvu', 'front-1722778121.841805-b38ewe', 'front-1722778110.870605-xybcl1', 'front-1722778105.096-coyh66', 'front-1722778102.19413-p2d4ba', 'front-1722777789.631745-o5fde3', 'front-1722777787.016028-ml25s5', 'front-1722776498.849242-h3lkwf', 'front-1722775239.527045-87drix', 'front-1722774172.890696-4okyxc', 'front-1722774172.220247-sguyc2']\n"
     ]
    }
   ],
   "source": [
    "import sqlite3\n",
    "import datetime\n",
    "conn = sqlite3.connect('/home/arcyleung/Projects/frigate/config/frigate.db')\n",
    "cursor = conn.cursor()\n",
    "\n",
    "print(\"Tables:\")\n",
    "for row in cursor.execute(\"SELECT name FROM sqlite_master WHERE type='table';\"):\n",
    "    print(row[0])\n",
    "\n",
    "# Define the start time (now - 24 hours)\n",
    "end_time = datetime.datetime.now()\n",
    "start_time = end_time - datetime.timedelta(hours=24)\n",
    "\n",
    "# print(\"schema:\", cursor.execute(\"SELECT * FROM event\").description)\n",
    "\n",
    "# Read the \"event\" table and filter records with \"start_time\" within the last 24 hours\n",
    "print(\"start_time:\", start_time.timestamp())\n",
    "print(\"end_time:\", end_time.timestamp())\n",
    "cursor.execute(\"SELECT * FROM event WHERE start_time >= :start_time AND start_time <= :end_time\", {'start_time': start_time.timestamp(), 'end_time': end_time.timestamp()})\n",
    "events = cursor.fetchall()\n",
    "\n",
    "# Print the filtered events\n",
    "print(len(events), \"events found\")\n",
    "ids = [ f\"{event[2]}-{event[0]}\" for event in events]\n",
    "# for event in events:\n",
    "#     print(event)\n",
    "#     print(event[0], event[1])\n",
    "print(ids)\n",
    "\n",
    "conn.close()\n"
   ]
  },
  {
   "cell_type": "code",
   "execution_count": 2,
   "metadata": {},
   "outputs": [
    {
     "name": "stdout",
     "output_type": "stream",
     "text": [
      "['/tmp/storage/clips/front-1722818479.36576-2y22cv-clean.png', '/tmp/storage/clips/front-1722818476.88936-7k21b5-clean.png', '/tmp/storage/clips/front-1722815507.428464-wxpzlj-clean.png', '/tmp/storage/clips/front-1722815501.166458-xp6bqb-clean.png', '/tmp/storage/clips/front-1722814631.375881-wza9un-clean.png', '/tmp/storage/clips/front-1722814627.028648-0yreg8-clean.png', '/tmp/storage/clips/front-1722812710.037991-93xrxj-clean.png', '/tmp/storage/clips/front-1722812696.283096-oxk84h-clean.png', '/tmp/storage/clips/front-1722812689.273292-jmxlz6-clean.png', '/tmp/storage/clips/front-1722811510.775395-k4dzld-clean.png', '/tmp/storage/clips/front-1722811506.360419-7ubo8b-clean.png', '/tmp/storage/clips/front-1722811330.364074-f4e2rv-clean.png', '/tmp/storage/clips/front-1722810597.211508-od8wmw-clean.png', '/tmp/storage/clips/front-1722810399.889922-2091ah-clean.png', '/tmp/storage/clips/front-1722810399.83827-1pid0u-clean.png', '/tmp/storage/clips/front-1722810397.028705-sf940v-clean.png', '/tmp/storage/clips/front-1722810250.32689-727phi-clean.png', '/tmp/storage/clips/front-1722810217.716625-7ri4uz-clean.png', '/tmp/storage/clips/front-1722810217.201836-ld6ox4-clean.png', '/tmp/storage/clips/front-1722810214.260108-3ac7jr-clean.png', '/tmp/storage/clips/front-1722810212.726919-jufj46-clean.png', '/tmp/storage/clips/front-1722810212.225093-cduplt-clean.png', '/tmp/storage/clips/front-1722810211.889601-2sxwfg-clean.png', '/tmp/storage/clips/front-1722809373.755573-w573qf-clean.png', '/tmp/storage/clips/front-1722809371.221085-g3jfzd-clean.png', '/tmp/storage/clips/front-1722809355.651525-orlg7p-clean.png', '/tmp/storage/clips/front-1722809355.483597-uelekm-clean.png', '/tmp/storage/clips/front-1722809348.147341-115o4u-clean.png', '/tmp/storage/clips/front-1722809187.139019-94ipon-clean.png', '/tmp/storage/clips/front-1722807236.246528-upu4ke-clean.png', '/tmp/storage/clips/front-1722807230.684592-50imak-clean.png', '/tmp/storage/clips/front-1722807216.192457-fac7hb-clean.png', '/tmp/storage/clips/front-1722806905.077282-m5o64m-clean.png', '/tmp/storage/clips/front-1722806898.527802-ytvuhn-clean.png', '/tmp/storage/clips/front-1722806877.806552-3onyle-clean.png', '/tmp/storage/clips/front-1722806877.163411-fj826n-clean.png', '/tmp/storage/clips/front-1722806876.996122-jk67g3-clean.png', '/tmp/storage/clips/front-1722806860.566503-xbs3as-clean.png', '/tmp/storage/clips/front-1722806857.369914-gecwhh-clean.png', '/tmp/storage/clips/front-1722806797.884813-8x6uoo-clean.png', '/tmp/storage/clips/front-1722806795.8036-lam7uf-clean.png', '/tmp/storage/clips/front-1722806702.999045-470t8v-clean.png', '/tmp/storage/clips/front-1722806696.189064-2b8pm0-clean.png', '/tmp/storage/clips/front-1722806660.972531-tan8mr-clean.png', '/tmp/storage/clips/front-1722806637.385544-fhbb1j-clean.png', '/tmp/storage/clips/front-1722806624.781485-2g9qmm-clean.png', '/tmp/storage/clips/front-1722806619.790428-b9s5gg-clean.png', '/tmp/storage/clips/front-1722806581.613767-asoqpp-clean.png', '/tmp/storage/clips/front-1722806457.550563-v21nuf-clean.png', '/tmp/storage/clips/front-1722806454.528605-zx5ugi-clean.png', '/tmp/storage/clips/front-1722805813.204059-q0l7ah-clean.png', '/tmp/storage/clips/front-1722805733.097624-2g2451-clean.png', '/tmp/storage/clips/front-1722805718.439811-sdycte-clean.png', '/tmp/storage/clips/front-1722805715.774576-ujzmym-clean.png', '/tmp/storage/clips/front-1722805611.95682-1z31sw-clean.png', '/tmp/storage/clips/front-1722805092.833008-p1zw0e-clean.png', '/tmp/storage/clips/front-1722805090.704416-9k61yq-clean.png', '/tmp/storage/clips/front-1722804611.36944-pwbjp5-clean.png', '/tmp/storage/clips/front-1722804347.764626-5qchdf-clean.png', '/tmp/storage/clips/front-1722803670.010401-frtsyk-clean.png', '/tmp/storage/clips/front-1722803665.872126-mcp5je-clean.png', '/tmp/storage/clips/front-1722803664.98484-yvcd1z-clean.png', '/tmp/storage/clips/front-1722803487.962145-jfyjs0-clean.png', '/tmp/storage/clips/front-1722803463.632915-9gd958-clean.png', '/tmp/storage/clips/front-1722803448.524397-t31let-clean.png', '/tmp/storage/clips/front-1722802860.45027-zjtf3k-clean.png', '/tmp/storage/clips/front-1722801457.604793-oa36f5-clean.png', '/tmp/storage/clips/front-1722801454.476092-256i1d-clean.png', '/tmp/storage/clips/front-1722800369.856728-6pzjve-clean.png', '/tmp/storage/clips/front-1722800359.074969-k42cu1-clean.png', '/tmp/storage/clips/front-1722800357.0823-7k41ty-clean.png', '/tmp/storage/clips/front-1722800092.486055-jrbsm4-clean.png', '/tmp/storage/clips/front-1722799373.082766-7b3vtf-clean.png', '/tmp/storage/clips/front-1722799365.929691-4lmkmg-clean.png', '/tmp/storage/clips/front-1722799345.821894-f08xik-clean.png', '/tmp/storage/clips/front-1722799033.968697-d6idxo-clean.png', '/tmp/storage/clips/front-1722798908.175004-66gpo1-clean.png', '/tmp/storage/clips/front-1722797260.545888-nzzpm1-clean.png', '/tmp/storage/clips/front-1722797257.133099-otddaz-clean.png', '/tmp/storage/clips/front-1722795894.253328-yz1ywq-clean.png', '/tmp/storage/clips/front-1722795892.394624-c3bt9a-clean.png', '/tmp/storage/clips/front-1722793910.348885-403c63-clean.png', '/tmp/storage/clips/front-1722793488.09179-l5idaf-clean.png', '/tmp/storage/clips/front-1722793449.366451-i8gnds-clean.png', '/tmp/storage/clips/front-1722793443.384229-x97kun-clean.png', '/tmp/storage/clips/front-1722793424.990264-3dvtnu-clean.png', '/tmp/storage/clips/front-1722793009.66488-zgr0ca-clean.png', '/tmp/storage/clips/front-1722793004.35608-6wkpjb-clean.png', '/tmp/storage/clips/front-1722793001.373817-1vpic1-clean.png', '/tmp/storage/clips/front-1722792660.039553-wxdokx-clean.png', '/tmp/storage/clips/front-1722790294.980918-9abyrb-clean.png', '/tmp/storage/clips/front-1722790289.992581-7phait-clean.png', '/tmp/storage/clips/front-1722789481.374154-lusrgg-clean.png', '/tmp/storage/clips/front-1722789283.269898-jydx8n-clean.png', '/tmp/storage/clips/front-1722788453.059519-bb5g5q-clean.png', '/tmp/storage/clips/front-1722787007.676523-yd2jry-clean.png', '/tmp/storage/clips/front-1722786851.985759-7rlo3f-clean.png', '/tmp/storage/clips/front-1722786845.650557-4a53jt-clean.png', '/tmp/storage/clips/front-1722786824.822429-uka084-clean.png', '/tmp/storage/clips/front-1722786389.444566-6kb2xb-clean.png', '/tmp/storage/clips/front-1722786384.348937-5yl5uf-clean.png', '/tmp/storage/clips/front-1722786351.326647-rabnxb-clean.png', '/tmp/storage/clips/front-1722785238.458191-so7sw6-clean.png', '/tmp/storage/clips/front-1722785219.578399-vjqzlu-clean.png', '/tmp/storage/clips/front-1722785186.157532-e83i1p-clean.png', '/tmp/storage/clips/front-1722785184.36829-1a92fs-clean.png', '/tmp/storage/clips/front-1722785178.201483-gfok5q-clean.png', '/tmp/storage/clips/front-1722784280.502125-g19g9j-clean.png', '/tmp/storage/clips/front-1722784275.292545-e9uhki-clean.png', '/tmp/storage/clips/front-1722784262.032369-capbg8-clean.png', '/tmp/storage/clips/front-1722783619.543527-k7f539-clean.png', '/tmp/storage/clips/front-1722782728.513069-nugmmr-clean.png', '/tmp/storage/clips/front-1722782717.976632-b6zvit-clean.png', '/tmp/storage/clips/front-1722782709.215829-pok4k9-clean.png', '/tmp/storage/clips/front-1722782674.162191-pkjoqj-clean.png', '/tmp/storage/clips/front-1722782671.616958-w6hnbq-clean.png', '/tmp/storage/clips/front-1722782236.638288-g9ohab-clean.png', '/tmp/storage/clips/front-1722781193.38171-px66m8-clean.png', '/tmp/storage/clips/front-1722779756.453588-54u22u-clean.png', '/tmp/storage/clips/front-1722779747.411268-7xbrst-clean.png', '/tmp/storage/clips/front-1722779449.239518-tk3ez5-clean.png', '/tmp/storage/clips/front-1722779394.789454-bikgp6-clean.png', '/tmp/storage/clips/front-1722778571.497269-aialv8-clean.png', '/tmp/storage/clips/front-1722778564.496518-ggtljs-clean.png', '/tmp/storage/clips/front-1722778141.151058-5ketz6-clean.png', '/tmp/storage/clips/front-1722778129.109968-qkkmvu-clean.png', '/tmp/storage/clips/front-1722778121.841805-b38ewe-clean.png', '/tmp/storage/clips/front-1722778110.870605-xybcl1-clean.png', '/tmp/storage/clips/front-1722778105.096-coyh66-clean.png', '/tmp/storage/clips/front-1722778102.19413-p2d4ba-clean.png', '/tmp/storage/clips/front-1722777789.631745-o5fde3-clean.png', '/tmp/storage/clips/front-1722777787.016028-ml25s5-clean.png', '/tmp/storage/clips/front-1722776498.849242-h3lkwf-clean.png', '/tmp/storage/clips/front-1722775239.527045-87drix-clean.png', '/tmp/storage/clips/front-1722774172.890696-4okyxc-clean.png', '/tmp/storage/clips/front-1722774172.220247-sguyc2-clean.png']\n"
     ]
    }
   ],
   "source": [
    "import os\n",
    "\n",
    "def get_filenames(path, ids=None):\n",
    "    filenames = []\n",
    "    if ids is not None:\n",
    "        for id in ids:\n",
    "            filenames.append(os.path.join(path, id) + \"-clean.png\")\n",
    "    else:\n",
    "        for root, dirs, files in os.walk(path):\n",
    "            for file in files:\n",
    "                if file.endswith('-clean.png'):\n",
    "                    filenames.append(os.path.join(root, file))\n",
    "    return filenames\n",
    "\n",
    "filenames = get_filenames('/tmp/storage/clips', ids)\n",
    "print(filenames)"
   ]
  },
  {
   "cell_type": "code",
   "execution_count": 3,
   "metadata": {},
   "outputs": [
    {
     "name": "stderr",
     "output_type": "stream",
     "text": [
      "/home/arcyleung/Projects/llm-nvr/venv/lib/python3.12/site-packages/tqdm/auto.py:21: TqdmWarning: IProgress not found. Please update jupyter and ipywidgets. See https://ipywidgets.readthedocs.io/en/stable/user_install.html\n",
      "  from .autonotebook import tqdm as notebook_tqdm\n",
      "The `load_in_4bit` and `load_in_8bit` arguments are deprecated and will be removed in the future versions. Please, pass a `BitsAndBytesConfig` object in `quantization_config` argument instead.\n",
      "Loading checkpoint shards: 100%|██████████| 4/4 [00:16<00:00,  4.01s/it]\n"
     ]
    }
   ],
   "source": [
    "from transformers import LlavaNextProcessor, LlavaNextForConditionalGeneration\n",
    "import torch\n",
    "\n",
    "processor = LlavaNextProcessor.from_pretrained(\"llava-hf/llava-v1.6-mistral-7b-hf\")\n",
    "\n",
    "model = LlavaNextForConditionalGeneration.from_pretrained(\"llava-hf/llava-v1.6-mistral-7b-hf\", torch_dtype=torch.float16, low_cpu_mem_usage=True, load_in_4bit=True, use_flash_attention_2=False)\n",
    "# model.to(\"cuda:0\")\n",
    "\n"
   ]
  },
  {
   "cell_type": "code",
   "execution_count": 4,
   "metadata": {},
   "outputs": [],
   "source": [
    "\n",
    "\n",
    "# Define a chat histiry and use `apply_chat_template` to get correctly formatted prompt\n",
    "# Each value in \"content\" has to be a list of dicts with types (\"text\", \"image\")\n",
    "conversation = [\n",
    "    {\n",
    "\n",
    "      \"role\": \"user\",\n",
    "      \"content\": [\n",
    "          {\"type\": \"text\", \"text\": \"Describe any people in the scene, what clothing they are wearing, orientation with other objects, anything they are holding and what do they appear to be doing. Also describe prominent vehicles or legible text, and do not mention anything that shoule be ordinary.\"},\n",
    "          {\"type\": \"image\"},\n",
    "        ],\n",
    "    },\n",
    "]\n",
    "prompt = processor.apply_chat_template(conversation, add_generation_prompt=True)\n"
   ]
  },
  {
   "cell_type": "code",
   "execution_count": 5,
   "metadata": {},
   "outputs": [
    {
     "name": "stderr",
     "output_type": "stream",
     "text": [
      "Setting `pad_token_id` to `eos_token_id`:2 for open-end generation.\n",
      "/home/arcyleung/Projects/llm-nvr/venv/lib/python3.12/site-packages/bitsandbytes/nn/modules.py:435: UserWarning: Input type into Linear4bit is torch.float16, but bnb_4bit_compute_dtype=torch.float32 (default). This will lead to slow inference or training speed.\n",
      "  warnings.warn(\n",
      "We detected that you are passing `past_key_values` as a tuple and this is deprecated and will be removed in v4.43. Please use an appropriate `Cache` class (https://huggingface.co/docs/transformers/v4.41.3/en/internal/generation_utils#transformers.Cache)\n"
     ]
    },
    {
     "name": "stdout",
     "output_type": "stream",
     "text": [
      "{'/tmp/storage/clips/front-1722009392.383259-1jcmy8-clean.png': 'In the scene, there is a person operating a green lawn mower. The person is wearing a light-colored shirt and dark pants. They are standing on the grass next to the mower, which is positioned on the sidewalk. The mower is facing towards the right side of the image.\\n\\nProminent vehicles in the scene include several cars parked along the street. There is a black SUV parked in front of a house, and a white van is parked on the street. There is also a white truck parked in front of a house.\\n\\nThe person operating the mower appears to be in the process of mowing the grass, as they are standing on the grass and the mower is turned on. The mower'}\n"
     ]
    }
   ],
   "source": [
    "\n",
    "from PIL import Image\n",
    "import datetime\n",
    "import json\n",
    "\n",
    "def transcribe_one(filename, responses):\n",
    "    image = Image.open(filename)\n",
    "    inputs = processor(prompt, image, return_tensors=\"pt\").to(\"cuda:0\")\n",
    "\n",
    "    # autoregressively complete prompt\n",
    "    output = model.generate(**inputs, max_new_tokens=150)\n",
    "\n",
    "    text = processor.decode(output[0], skip_special_tokens=True)\n",
    "    responses[filename] = text[len(prompt) - 5:]\n",
    "\n",
    "responses = {}\n",
    "today = datetime.datetime.now().isoformat()\n",
    "\n",
    "for idx, filename in enumerate(filenames):\n",
    "    print(f\"{idx + 1} of {len(filenames)}\")\n",
    "    transcribe_one(filename, responses)\n",
    "\n",
    "# transcribe_one(\"/tmp/storage/clips/front-1722009392.383259-1jcmy8-clean.png\", responses)\n",
    "\n",
    "print(responses)\n",
    "\n",
    "json.dump(responses, open(f\"transcribed/analyze_{today}.json\", \"w\"))\n"
   ]
  }
 ],
 "metadata": {
  "kernelspec": {
   "display_name": "venv",
   "language": "python",
   "name": "python3"
  },
  "language_info": {
   "codemirror_mode": {
    "name": "ipython",
    "version": 3
   },
   "file_extension": ".py",
   "mimetype": "text/x-python",
   "name": "python",
   "nbconvert_exporter": "python",
   "pygments_lexer": "ipython3",
   "version": "3.12.3"
  }
 },
 "nbformat": 4,
 "nbformat_minor": 2
}
