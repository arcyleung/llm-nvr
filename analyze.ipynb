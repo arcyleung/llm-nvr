{
 "cells": [
  {
   "cell_type": "code",
   "execution_count": 1,
   "metadata": {},
   "outputs": [
    {
     "name": "stdout",
     "output_type": "stream",
     "text": [
      "Tables:\n",
      "migratehistory\n",
      "recordings\n",
      "timeline\n",
      "event\n",
      "regions\n",
      "transcribed\n",
      "start_time: 1726269802.724936\n",
      "end_time: 1726356202.724936\n",
      "151 events found\n",
      "['front-1726356190.982318-7t2mrp', 'front-1726356190.565374-tn79um', 'front-1726355933.029623-yc41a1', 'front-1726355914.411895-l9r499', 'front-1726354992.453692-3j7ka0', 'front-1726354902.670007-4y1xjh', 'front-1726354743.590189-ibzczy', 'front-1726354506.285611-h2r2zu', 'front-1726354483.738028-r441gs', 'front-1726354324.178057-p3mhcw', 'front-1726353858.895057-octnpe', 'front-1726353567.689386-cvdc7r', 'front-1726353566.90992-hrh2p2', 'front-1726353559.05066-nbiv7f', 'front-1726352694.693961-amdj0g', 'front-1726352682.412965-ug041w', 'front-1726351097.954426-i30jnh', 'front-1726351093.64947-rxmck3', 'front-1726351089.759448-ktcdze', 'front-1726349770.178882-qcaput', 'front-1726348519.69014-jaj62l', 'front-1726347986.468268-h3kvxv', 'front-1726347942.42262-4iioz8', 'front-1726347114.384188-bympb4', 'front-1726347102.666271-2f4it3', 'front-1726347100.132147-c7wxe7', 'front-1726347097.404299-5gdgvx', 'front-1726346452.533698-rfw9te', 'front-1726346452.455374-0xp7wi', 'front-1726346152.563894-0qthby', 'front-1726345833.691754-rbanfl', 'front-1726344714.116412-3okl1i', 'front-1726344611.131171-wtydev', 'front-1726344608.510557-r482fq', 'front-1726344594.702206-4vpsxr', 'front-1726344587.82278-rqy7k0', 'front-1726344586.683786-6pkk43', 'front-1726343882.850849-ohom9h', 'front-1726343863.999314-3pq8uq', 'front-1726343582.166233-chzkvf', 'front-1726343464.07383-9ds2ee', 'front-1726343440.645138-uh4met', 'front-1726343083.259007-k8j0ay', 'front-1726342620.364587-j4uphk', 'front-1726342597.608949-juij8l', 'front-1726341834.69126-cns1u3', 'front-1726341814.628445-3jnius', 'front-1726341378.14959-qsnugn', 'front-1726341372.984429-z7if9a', 'front-1726341015.584798-h2diej', 'front-1726341012.566738-n1ywk4', 'front-1726341011.691069-fakcka', 'front-1726341011.691069-wfq9e9', 'front-1726340479.082677-s86tkb', 'front-1726340238.194334-5vtkzz', 'front-1726340237.038891-fa10kr', 'front-1726340234.722514-c2o4fx', 'front-1726340231.533586-9oxvxg', 'front-1726340176.215993-qu9xvc', 'front-1726340131.247957-himegy', 'front-1726339852.637951-u4p2rf', 'front-1726339827.44653-w45grp', 'front-1726339736.370696-2vaksq', 'front-1726339716.029927-zbcpv6', 'front-1726339715.099892-4uj6kq', 'front-1726339710.631125-7thlfe', 'front-1726339707.842447-tsb614', 'front-1726339706.933011-03bmr9', 'front-1726339655.341741-be9f2k', 'front-1726339648.603218-49d55v', 'front-1726339615.8285-2bu9dn', 'front-1726339594.377429-eomyzx', 'front-1726339591.36151-0yvue0', 'front-1726339588.238418-kgu55a', 'front-1726339552.932226-51joro', 'front-1726338784.403354-mx2rnx', 'front-1726338783.203439-b8q187', 'front-1726338328.459378-84nplw', 'front-1726338324.876013-qcz7mr', 'front-1726337764.421753-1d73j1', 'front-1726337759.240138-9y6mzo', 'front-1726337723.384263-7l6pba', 'front-1726336340.46098-fh1pn5', 'front-1726335510.721116-oaqsbm', 'front-1726333567.150668-dsiidd', 'front-1726333266.320587-cycwxo', 'front-1726332990.802009-gxkezt', 'front-1726332950.653171-4fm8ma', 'front-1726332881.238968-mbvmyc', 'front-1726332867.46209-4yww95', 'front-1726331154.106472-fh2rga', 'front-1726331142.521618-t4viwx', 'front-1726331140.378346-a0lyab', 'front-1726331136.029754-402w35', 'front-1726330792.834301-vnvyh4', 'front-1726330266.078777-enbyss', 'front-1726329801.673098-7rqlvw', 'front-1726329658.585731-np0y92', 'front-1726327899.471809-ar4dmd', 'front-1726327777.322417-zbgqeo', 'front-1726327776.237334-1fszto', 'front-1726327433.175542-retl0e', 'front-1726327429.93887-ww54w3', 'front-1726326955.094224-wwuz68', 'front-1726326606.822359-iaqass', 'front-1726326526.557813-fbtsc9', 'front-1726326212.715776-vba8fs', 'front-1726326209.906298-fgv9yr', 'front-1726326088.636097-yx8ia8', 'front-1726325713.252805-ob5tfs', 'front-1726325711.934433-x759oj', 'front-1726325707.300214-ld7bkv', 'front-1726325690.873783-i86ola', 'front-1726325683.363317-3um5ef', 'front-1726325388.061216-w4x395', 'front-1726325384.83767-w2p28x', 'front-1726323765.280199-nankid', 'front-1726323763.09879-78lgbl', 'front-1726323073.491964-22fbtm', 'front-1726323022.822505-wclhbh', 'front-1726323014.455589-mj04r9', 'front-1726322313.856128-n5no8h', 'front-1726322313.019903-brbdmy', 'front-1726322310.730672-v2r75h', 'front-1726322310.730672-gq52d0', 'front-1726321898.832579-u61sao', 'front-1726321895.946602-xvhm9p', 'front-1726321046.165959-vg65ef', 'front-1726321033.538647-rwq5rl', 'front-1726320634.313726-i96tiu', 'front-1726320626.149582-kn6wvp', 'front-1726319429.072085-9lmoo9', 'front-1726319426.743742-tf00q1', 'front-1726319422.462372-nbmjql', 'front-1726319421.004609-wb818v', 'front-1726319081.735603-vspzn7', 'front-1726316217.749777-hdq2yk', 'front-1726316217.442566-wsz4zc', 'front-1726316213.708029-lqm0ah', 'front-1726316212.175089-1lsyw4', 'front-1726315632.479095-qd6wv7', 'front-1726315588.733897-lvk7s1', 'front-1726313967.365107-wyx14v', 'front-1726313967.305142-fjqeuf', 'front-1726311814.009257-9ae0hm', 'front-1726311814.009257-j3118q', 'front-1726311622.136503-voh66t', 'front-1726310813.705313-yytdla', 'front-1726310812.471442-8wpuvk', 'front-1726310809.896723-873pn9', 'front-1726274487.614804-nh26sl']\n"
     ]
    }
   ],
   "source": [
    "import sqlite3\n",
    "import datetime\n",
    "conn = sqlite3.connect('/home/arcyleung/Projects/frigate/config/frigate.db')\n",
    "cursor = conn.cursor()\n",
    "\n",
    "print(\"Tables:\")\n",
    "for row in cursor.execute(\"SELECT name FROM sqlite_master WHERE type='table';\"):\n",
    "    print(row[0])\n",
    "\n",
    "# Define the start time (now - 24 hours)\n",
    "end_time = datetime.datetime.now()\n",
    "start_time = end_time - datetime.timedelta(hours=24)\n",
    "\n",
    "# print(\"schema:\", cursor.execute(\"SELECT * FROM event\").description)\n",
    "\n",
    "# Read the \"event\" table and filter records with \"start_time\" within the last 24 hours\n",
    "print(\"start_time:\", start_time.timestamp())\n",
    "print(\"end_time:\", end_time.timestamp())\n",
    "cursor.execute(\"SELECT * FROM event WHERE start_time >= :start_time AND start_time <= :end_time\", {'start_time': start_time.timestamp(), 'end_time': end_time.timestamp()})\n",
    "events = cursor.fetchall()\n",
    "\n",
    "# Print the filtered events\n",
    "print(len(events), \"events found\")\n",
    "ids = [ f\"{event[2]}-{event[0]}\" for event in events ]\n",
    "# for event in events:\n",
    "#     print(event)\n",
    "#     print(event[0], event[1])\n",
    "print(ids)\n",
    "\n",
    "conn.close()\n"
   ]
  },
  {
   "cell_type": "code",
   "execution_count": 2,
   "metadata": {},
   "outputs": [
    {
     "name": "stdout",
     "output_type": "stream",
     "text": [
      "/home/arcyleung/Projects/frigate/media/frigate/clips ['/home/arcyleung/Projects/frigate/media/frigate/clips/front-1726356190.982318-7t2mrp-clean.png', '/home/arcyleung/Projects/frigate/media/frigate/clips/front-1726356190.565374-tn79um-clean.png', '/home/arcyleung/Projects/frigate/media/frigate/clips/front-1726355933.029623-yc41a1-clean.png', '/home/arcyleung/Projects/frigate/media/frigate/clips/front-1726355914.411895-l9r499-clean.png', '/home/arcyleung/Projects/frigate/media/frigate/clips/front-1726354992.453692-3j7ka0-clean.png', '/home/arcyleung/Projects/frigate/media/frigate/clips/front-1726354902.670007-4y1xjh-clean.png', '/home/arcyleung/Projects/frigate/media/frigate/clips/front-1726354743.590189-ibzczy-clean.png', '/home/arcyleung/Projects/frigate/media/frigate/clips/front-1726354506.285611-h2r2zu-clean.png', '/home/arcyleung/Projects/frigate/media/frigate/clips/front-1726354483.738028-r441gs-clean.png', '/home/arcyleung/Projects/frigate/media/frigate/clips/front-1726354324.178057-p3mhcw-clean.png', '/home/arcyleung/Projects/frigate/media/frigate/clips/front-1726353858.895057-octnpe-clean.png', '/home/arcyleung/Projects/frigate/media/frigate/clips/front-1726353567.689386-cvdc7r-clean.png', '/home/arcyleung/Projects/frigate/media/frigate/clips/front-1726353566.90992-hrh2p2-clean.png', '/home/arcyleung/Projects/frigate/media/frigate/clips/front-1726353559.05066-nbiv7f-clean.png', '/home/arcyleung/Projects/frigate/media/frigate/clips/front-1726352694.693961-amdj0g-clean.png', '/home/arcyleung/Projects/frigate/media/frigate/clips/front-1726352682.412965-ug041w-clean.png', '/home/arcyleung/Projects/frigate/media/frigate/clips/front-1726351097.954426-i30jnh-clean.png', '/home/arcyleung/Projects/frigate/media/frigate/clips/front-1726351093.64947-rxmck3-clean.png', '/home/arcyleung/Projects/frigate/media/frigate/clips/front-1726351089.759448-ktcdze-clean.png', '/home/arcyleung/Projects/frigate/media/frigate/clips/front-1726349770.178882-qcaput-clean.png', '/home/arcyleung/Projects/frigate/media/frigate/clips/front-1726348519.69014-jaj62l-clean.png', '/home/arcyleung/Projects/frigate/media/frigate/clips/front-1726347986.468268-h3kvxv-clean.png', '/home/arcyleung/Projects/frigate/media/frigate/clips/front-1726347942.42262-4iioz8-clean.png', '/home/arcyleung/Projects/frigate/media/frigate/clips/front-1726347114.384188-bympb4-clean.png', '/home/arcyleung/Projects/frigate/media/frigate/clips/front-1726347102.666271-2f4it3-clean.png', '/home/arcyleung/Projects/frigate/media/frigate/clips/front-1726347100.132147-c7wxe7-clean.png', '/home/arcyleung/Projects/frigate/media/frigate/clips/front-1726347097.404299-5gdgvx-clean.png', '/home/arcyleung/Projects/frigate/media/frigate/clips/front-1726346452.533698-rfw9te-clean.png', '/home/arcyleung/Projects/frigate/media/frigate/clips/front-1726346452.455374-0xp7wi-clean.png', '/home/arcyleung/Projects/frigate/media/frigate/clips/front-1726346152.563894-0qthby-clean.png', '/home/arcyleung/Projects/frigate/media/frigate/clips/front-1726345833.691754-rbanfl-clean.png', '/home/arcyleung/Projects/frigate/media/frigate/clips/front-1726344714.116412-3okl1i-clean.png', '/home/arcyleung/Projects/frigate/media/frigate/clips/front-1726344611.131171-wtydev-clean.png', '/home/arcyleung/Projects/frigate/media/frigate/clips/front-1726344608.510557-r482fq-clean.png', '/home/arcyleung/Projects/frigate/media/frigate/clips/front-1726344594.702206-4vpsxr-clean.png', '/home/arcyleung/Projects/frigate/media/frigate/clips/front-1726344587.82278-rqy7k0-clean.png', '/home/arcyleung/Projects/frigate/media/frigate/clips/front-1726344586.683786-6pkk43-clean.png', '/home/arcyleung/Projects/frigate/media/frigate/clips/front-1726343882.850849-ohom9h-clean.png', '/home/arcyleung/Projects/frigate/media/frigate/clips/front-1726343863.999314-3pq8uq-clean.png', '/home/arcyleung/Projects/frigate/media/frigate/clips/front-1726343582.166233-chzkvf-clean.png', '/home/arcyleung/Projects/frigate/media/frigate/clips/front-1726343464.07383-9ds2ee-clean.png', '/home/arcyleung/Projects/frigate/media/frigate/clips/front-1726343440.645138-uh4met-clean.png', '/home/arcyleung/Projects/frigate/media/frigate/clips/front-1726343083.259007-k8j0ay-clean.png', '/home/arcyleung/Projects/frigate/media/frigate/clips/front-1726342620.364587-j4uphk-clean.png', '/home/arcyleung/Projects/frigate/media/frigate/clips/front-1726342597.608949-juij8l-clean.png', '/home/arcyleung/Projects/frigate/media/frigate/clips/front-1726341834.69126-cns1u3-clean.png', '/home/arcyleung/Projects/frigate/media/frigate/clips/front-1726341814.628445-3jnius-clean.png', '/home/arcyleung/Projects/frigate/media/frigate/clips/front-1726341378.14959-qsnugn-clean.png', '/home/arcyleung/Projects/frigate/media/frigate/clips/front-1726341372.984429-z7if9a-clean.png', '/home/arcyleung/Projects/frigate/media/frigate/clips/front-1726341015.584798-h2diej-clean.png', '/home/arcyleung/Projects/frigate/media/frigate/clips/front-1726341012.566738-n1ywk4-clean.png', '/home/arcyleung/Projects/frigate/media/frigate/clips/front-1726341011.691069-fakcka-clean.png', '/home/arcyleung/Projects/frigate/media/frigate/clips/front-1726341011.691069-wfq9e9-clean.png', '/home/arcyleung/Projects/frigate/media/frigate/clips/front-1726340479.082677-s86tkb-clean.png', '/home/arcyleung/Projects/frigate/media/frigate/clips/front-1726340238.194334-5vtkzz-clean.png', '/home/arcyleung/Projects/frigate/media/frigate/clips/front-1726340237.038891-fa10kr-clean.png', '/home/arcyleung/Projects/frigate/media/frigate/clips/front-1726340234.722514-c2o4fx-clean.png', '/home/arcyleung/Projects/frigate/media/frigate/clips/front-1726340231.533586-9oxvxg-clean.png', '/home/arcyleung/Projects/frigate/media/frigate/clips/front-1726340176.215993-qu9xvc-clean.png', '/home/arcyleung/Projects/frigate/media/frigate/clips/front-1726340131.247957-himegy-clean.png', '/home/arcyleung/Projects/frigate/media/frigate/clips/front-1726339852.637951-u4p2rf-clean.png', '/home/arcyleung/Projects/frigate/media/frigate/clips/front-1726339827.44653-w45grp-clean.png', '/home/arcyleung/Projects/frigate/media/frigate/clips/front-1726339736.370696-2vaksq-clean.png', '/home/arcyleung/Projects/frigate/media/frigate/clips/front-1726339716.029927-zbcpv6-clean.png', '/home/arcyleung/Projects/frigate/media/frigate/clips/front-1726339715.099892-4uj6kq-clean.png', '/home/arcyleung/Projects/frigate/media/frigate/clips/front-1726339710.631125-7thlfe-clean.png', '/home/arcyleung/Projects/frigate/media/frigate/clips/front-1726339707.842447-tsb614-clean.png', '/home/arcyleung/Projects/frigate/media/frigate/clips/front-1726339706.933011-03bmr9-clean.png', '/home/arcyleung/Projects/frigate/media/frigate/clips/front-1726339655.341741-be9f2k-clean.png', '/home/arcyleung/Projects/frigate/media/frigate/clips/front-1726339648.603218-49d55v-clean.png', '/home/arcyleung/Projects/frigate/media/frigate/clips/front-1726339615.8285-2bu9dn-clean.png', '/home/arcyleung/Projects/frigate/media/frigate/clips/front-1726339594.377429-eomyzx-clean.png', '/home/arcyleung/Projects/frigate/media/frigate/clips/front-1726339591.36151-0yvue0-clean.png', '/home/arcyleung/Projects/frigate/media/frigate/clips/front-1726339588.238418-kgu55a-clean.png', '/home/arcyleung/Projects/frigate/media/frigate/clips/front-1726339552.932226-51joro-clean.png', '/home/arcyleung/Projects/frigate/media/frigate/clips/front-1726338784.403354-mx2rnx-clean.png', '/home/arcyleung/Projects/frigate/media/frigate/clips/front-1726338783.203439-b8q187-clean.png', '/home/arcyleung/Projects/frigate/media/frigate/clips/front-1726338328.459378-84nplw-clean.png', '/home/arcyleung/Projects/frigate/media/frigate/clips/front-1726338324.876013-qcz7mr-clean.png', '/home/arcyleung/Projects/frigate/media/frigate/clips/front-1726337764.421753-1d73j1-clean.png', '/home/arcyleung/Projects/frigate/media/frigate/clips/front-1726337759.240138-9y6mzo-clean.png', '/home/arcyleung/Projects/frigate/media/frigate/clips/front-1726337723.384263-7l6pba-clean.png', '/home/arcyleung/Projects/frigate/media/frigate/clips/front-1726336340.46098-fh1pn5-clean.png', '/home/arcyleung/Projects/frigate/media/frigate/clips/front-1726335510.721116-oaqsbm-clean.png', '/home/arcyleung/Projects/frigate/media/frigate/clips/front-1726333567.150668-dsiidd-clean.png', '/home/arcyleung/Projects/frigate/media/frigate/clips/front-1726333266.320587-cycwxo-clean.png', '/home/arcyleung/Projects/frigate/media/frigate/clips/front-1726332990.802009-gxkezt-clean.png', '/home/arcyleung/Projects/frigate/media/frigate/clips/front-1726332950.653171-4fm8ma-clean.png', '/home/arcyleung/Projects/frigate/media/frigate/clips/front-1726332881.238968-mbvmyc-clean.png', '/home/arcyleung/Projects/frigate/media/frigate/clips/front-1726332867.46209-4yww95-clean.png', '/home/arcyleung/Projects/frigate/media/frigate/clips/front-1726331154.106472-fh2rga-clean.png', '/home/arcyleung/Projects/frigate/media/frigate/clips/front-1726331142.521618-t4viwx-clean.png', '/home/arcyleung/Projects/frigate/media/frigate/clips/front-1726331140.378346-a0lyab-clean.png', '/home/arcyleung/Projects/frigate/media/frigate/clips/front-1726331136.029754-402w35-clean.png', '/home/arcyleung/Projects/frigate/media/frigate/clips/front-1726330792.834301-vnvyh4-clean.png', '/home/arcyleung/Projects/frigate/media/frigate/clips/front-1726330266.078777-enbyss-clean.png', '/home/arcyleung/Projects/frigate/media/frigate/clips/front-1726329801.673098-7rqlvw-clean.png', '/home/arcyleung/Projects/frigate/media/frigate/clips/front-1726329658.585731-np0y92-clean.png', '/home/arcyleung/Projects/frigate/media/frigate/clips/front-1726327899.471809-ar4dmd-clean.png', '/home/arcyleung/Projects/frigate/media/frigate/clips/front-1726327777.322417-zbgqeo-clean.png', '/home/arcyleung/Projects/frigate/media/frigate/clips/front-1726327776.237334-1fszto-clean.png', '/home/arcyleung/Projects/frigate/media/frigate/clips/front-1726327433.175542-retl0e-clean.png', '/home/arcyleung/Projects/frigate/media/frigate/clips/front-1726327429.93887-ww54w3-clean.png', '/home/arcyleung/Projects/frigate/media/frigate/clips/front-1726326955.094224-wwuz68-clean.png', '/home/arcyleung/Projects/frigate/media/frigate/clips/front-1726326606.822359-iaqass-clean.png', '/home/arcyleung/Projects/frigate/media/frigate/clips/front-1726326526.557813-fbtsc9-clean.png', '/home/arcyleung/Projects/frigate/media/frigate/clips/front-1726326212.715776-vba8fs-clean.png', '/home/arcyleung/Projects/frigate/media/frigate/clips/front-1726326209.906298-fgv9yr-clean.png', '/home/arcyleung/Projects/frigate/media/frigate/clips/front-1726326088.636097-yx8ia8-clean.png', '/home/arcyleung/Projects/frigate/media/frigate/clips/front-1726325713.252805-ob5tfs-clean.png', '/home/arcyleung/Projects/frigate/media/frigate/clips/front-1726325711.934433-x759oj-clean.png', '/home/arcyleung/Projects/frigate/media/frigate/clips/front-1726325707.300214-ld7bkv-clean.png', '/home/arcyleung/Projects/frigate/media/frigate/clips/front-1726325690.873783-i86ola-clean.png', '/home/arcyleung/Projects/frigate/media/frigate/clips/front-1726325683.363317-3um5ef-clean.png', '/home/arcyleung/Projects/frigate/media/frigate/clips/front-1726325388.061216-w4x395-clean.png', '/home/arcyleung/Projects/frigate/media/frigate/clips/front-1726325384.83767-w2p28x-clean.png', '/home/arcyleung/Projects/frigate/media/frigate/clips/front-1726323765.280199-nankid-clean.png', '/home/arcyleung/Projects/frigate/media/frigate/clips/front-1726323763.09879-78lgbl-clean.png', '/home/arcyleung/Projects/frigate/media/frigate/clips/front-1726323073.491964-22fbtm-clean.png', '/home/arcyleung/Projects/frigate/media/frigate/clips/front-1726323022.822505-wclhbh-clean.png', '/home/arcyleung/Projects/frigate/media/frigate/clips/front-1726323014.455589-mj04r9-clean.png', '/home/arcyleung/Projects/frigate/media/frigate/clips/front-1726322313.856128-n5no8h-clean.png', '/home/arcyleung/Projects/frigate/media/frigate/clips/front-1726322313.019903-brbdmy-clean.png', '/home/arcyleung/Projects/frigate/media/frigate/clips/front-1726322310.730672-v2r75h-clean.png', '/home/arcyleung/Projects/frigate/media/frigate/clips/front-1726322310.730672-gq52d0-clean.png', '/home/arcyleung/Projects/frigate/media/frigate/clips/front-1726321898.832579-u61sao-clean.png', '/home/arcyleung/Projects/frigate/media/frigate/clips/front-1726321895.946602-xvhm9p-clean.png', '/home/arcyleung/Projects/frigate/media/frigate/clips/front-1726321046.165959-vg65ef-clean.png', '/home/arcyleung/Projects/frigate/media/frigate/clips/front-1726321033.538647-rwq5rl-clean.png', '/home/arcyleung/Projects/frigate/media/frigate/clips/front-1726320634.313726-i96tiu-clean.png', '/home/arcyleung/Projects/frigate/media/frigate/clips/front-1726320626.149582-kn6wvp-clean.png', '/home/arcyleung/Projects/frigate/media/frigate/clips/front-1726319429.072085-9lmoo9-clean.png', '/home/arcyleung/Projects/frigate/media/frigate/clips/front-1726319426.743742-tf00q1-clean.png', '/home/arcyleung/Projects/frigate/media/frigate/clips/front-1726319422.462372-nbmjql-clean.png', '/home/arcyleung/Projects/frigate/media/frigate/clips/front-1726319421.004609-wb818v-clean.png', '/home/arcyleung/Projects/frigate/media/frigate/clips/front-1726319081.735603-vspzn7-clean.png', '/home/arcyleung/Projects/frigate/media/frigate/clips/front-1726316217.749777-hdq2yk-clean.png', '/home/arcyleung/Projects/frigate/media/frigate/clips/front-1726316217.442566-wsz4zc-clean.png', '/home/arcyleung/Projects/frigate/media/frigate/clips/front-1726316213.708029-lqm0ah-clean.png', '/home/arcyleung/Projects/frigate/media/frigate/clips/front-1726316212.175089-1lsyw4-clean.png', '/home/arcyleung/Projects/frigate/media/frigate/clips/front-1726315632.479095-qd6wv7-clean.png', '/home/arcyleung/Projects/frigate/media/frigate/clips/front-1726315588.733897-lvk7s1-clean.png', '/home/arcyleung/Projects/frigate/media/frigate/clips/front-1726313967.365107-wyx14v-clean.png', '/home/arcyleung/Projects/frigate/media/frigate/clips/front-1726313967.305142-fjqeuf-clean.png', '/home/arcyleung/Projects/frigate/media/frigate/clips/front-1726311814.009257-9ae0hm-clean.png', '/home/arcyleung/Projects/frigate/media/frigate/clips/front-1726311814.009257-j3118q-clean.png', '/home/arcyleung/Projects/frigate/media/frigate/clips/front-1726311622.136503-voh66t-clean.png', '/home/arcyleung/Projects/frigate/media/frigate/clips/front-1726310813.705313-yytdla-clean.png', '/home/arcyleung/Projects/frigate/media/frigate/clips/front-1726310812.471442-8wpuvk-clean.png', '/home/arcyleung/Projects/frigate/media/frigate/clips/front-1726310809.896723-873pn9-clean.png', '/home/arcyleung/Projects/frigate/media/frigate/clips/front-1726274487.614804-nh26sl-clean.png']\n"
     ]
    }
   ],
   "source": [
    "from dotenv import load_dotenv\n",
    "import os\n",
    "\n",
    "def get_filenames(path, ids=None):\n",
    "    filenames = []\n",
    "    if ids is not None:\n",
    "        for id in ids:\n",
    "            filenames.append(os.path.join(path, id) + \"-clean.png\")\n",
    "    else:\n",
    "        for root, dirs, files in os.walk(path):\n",
    "            for file in files:\n",
    "                if file.endswith('-clean.png'):\n",
    "                    filenames.append(os.path.join(root, file))\n",
    "    return filenames\n",
    "\n",
    "load_dotenv()\n",
    "prefix = os.getenv(\"FRIGATE_CLIPS_PATH\")\n",
    "\n",
    "filenames = get_filenames(prefix, ids)\n",
    "print(prefix, filenames)"
   ]
  },
  {
   "cell_type": "code",
   "execution_count": 3,
   "metadata": {},
   "outputs": [
    {
     "name": "stderr",
     "output_type": "stream",
     "text": [
      "/home/arcyleung/Projects/llm-nvr/venv/lib/python3.12/site-packages/tqdm/auto.py:21: TqdmWarning: IProgress not found. Please update jupyter and ipywidgets. See https://ipywidgets.readthedocs.io/en/stable/user_install.html\n",
      "  from .autonotebook import tqdm as notebook_tqdm\n",
      "The `load_in_4bit` and `load_in_8bit` arguments are deprecated and will be removed in the future versions. Please, pass a `BitsAndBytesConfig` object in `quantization_config` argument instead.\n",
      "Downloading shards: 100%|██████████| 4/4 [00:00<00:00, 19.97it/s]\n",
      "Loading checkpoint shards: 100%|██████████| 4/4 [00:15<00:00,  3.85s/it]\n"
     ]
    }
   ],
   "source": [
    "from transformers import LlavaNextProcessor, LlavaNextForConditionalGeneration\n",
    "import torch\n",
    "\n",
    "processor = LlavaNextProcessor.from_pretrained(\"llava-hf/llava-v1.6-mistral-7b-hf\")\n",
    "\n",
    "model = LlavaNextForConditionalGeneration.from_pretrained(\"llava-hf/llava-v1.6-mistral-7b-hf\", torch_dtype=torch.float16, low_cpu_mem_usage=True, load_in_4bit=True, use_flash_attention_2=False)\n",
    "# model.to(\"cuda:0\")\n",
    "\n",
    "# Define a chat histiry and use `apply_chat_template` to get correctly formatted prompt\n",
    "# Each value in \"content\" has to be a list of dicts with types (\"text\", \"image\")\n",
    "conversation = [\n",
    "    {\n",
    "\n",
    "      \"role\": \"user\",\n",
    "      \"content\": [\n",
    "          {\"type\": \"text\", \"text\": \"Describe any people in the scene, what clothing they are wearing, orientation with other objects, anything they are holding and what do they appear to be doing. Also describe prominent vehicles or legible text, and do not mention anything that shoule be ordinary.\"},\n",
    "          {\"type\": \"image\"},\n",
    "        ],\n",
    "    },\n",
    "]\n",
    "prompt = processor.apply_chat_template(conversation, add_generation_prompt=True)\n"
   ]
  },
  {
   "cell_type": "code",
   "execution_count": 4,
   "metadata": {},
   "outputs": [],
   "source": [
    "\n",
    "from PIL import Image\n",
    "import datetime\n",
    "import json\n",
    "\n",
    "def transcribe_one(filename, responses):\n",
    "    image = Image.open(filename)\n",
    "    inputs = processor(prompt, image, return_tensors=\"pt\").to(\"cuda:0\")\n",
    "\n",
    "    # autoregressively complete prompt\n",
    "    output = model.generate(**inputs, max_new_tokens=150)\n",
    "\n",
    "    text = processor.decode(output[0], skip_special_tokens=True)\n",
    "    responses[filename] = text[len(prompt) - 5:]\n",
    "\n",
    "\n",
    "def upsert_transcriptions_to_sqlite3(responses, cursor=None, transcribed_at=None):\n",
    "    import sqlite3\n",
    "    import datetime\n",
    "    conn = sqlite3.connect('/home/arcyleung/Projects/frigate/config/frigate.db')\n",
    "    cursor = conn.cursor()\n",
    "\n",
    "    if cursor is None:\n",
    "        print(\"No db cursor provided\")\n",
    "        return\n",
    "    # Create table if it doesn't exist\n",
    "    # Must make frigate.db have permissions to write to it\n",
    "    cursor.execute(\"CREATE TABLE IF NOT EXISTS transcribed (id TEXT PRIMARY KEY, transcript TEXT, transcribed_at INTEGER)\")\n",
    "\n",
    "    cursor.execute(\"BEGIN\")\n",
    "    if transcribed_at is None:\n",
    "        transcribed_at = int(datetime.datetime.now().timestamp())\n",
    "\n",
    "    def filepath_to_id(filename):\n",
    "        print(filename)\n",
    "        splitted = filename.split(\"-\")\n",
    "        return splitted[1] + \"-\" + splitted[2]\n",
    "\n",
    "    records = [(filepath_to_id(filename), text, transcribed_at) for filename, text in responses.items()]\n",
    "    try:\n",
    "        cursor.executemany(\"INSERT INTO transcribed VALUES(?, ?, ?)\", records);\n",
    "        cursor.execute(\"COMMIT\")\n",
    "    except Exception as ex:\n",
    "        cursor.execute(\"ROLLBACK\")\n",
    "        print(ex)\n",
    "\n",
    "    conn.close()\n"
   ]
  },
  {
   "cell_type": "code",
   "execution_count": 5,
   "metadata": {},
   "outputs": [],
   "source": [
    "# responses = json.load(open(f\"/home/arcyleung/Projects/llm-nvr/transcribed/analyze_2024-08-12T20:08:12.464352.json\", \"r\"))\n",
    "\n",
    "# print(responses)\n",
    "# upsert_transcriptions_to_sqlite3(responses, cursor)"
   ]
  },
  {
   "cell_type": "code",
   "execution_count": 5,
   "metadata": {},
   "outputs": [
    {
     "name": "stderr",
     "output_type": "stream",
     "text": [
      "Setting `pad_token_id` to `eos_token_id`:2 for open-end generation.\n"
     ]
    },
    {
     "name": "stdout",
     "output_type": "stream",
     "text": [
      "1 of 151\n"
     ]
    },
    {
     "name": "stderr",
     "output_type": "stream",
     "text": [
      "/home/arcyleung/Projects/llm-nvr/venv/lib/python3.12/site-packages/bitsandbytes/nn/modules.py:435: UserWarning: Input type into Linear4bit is torch.float16, but bnb_4bit_compute_dtype=torch.float32 (default). This will lead to slow inference or training speed.\n",
      "  warnings.warn(\n",
      "We detected that you are passing `past_key_values` as a tuple and this is deprecated and will be removed in v4.43. Please use an appropriate `Cache` class (https://huggingface.co/docs/transformers/v4.41.3/en/internal/generation_utils#transformers.Cache)\n",
      "Setting `pad_token_id` to `eos_token_id`:2 for open-end generation.\n"
     ]
    },
    {
     "name": "stdout",
     "output_type": "stream",
     "text": [
      "2 of 151\n"
     ]
    },
    {
     "name": "stderr",
     "output_type": "stream",
     "text": [
      "Setting `pad_token_id` to `eos_token_id`:2 for open-end generation.\n"
     ]
    },
    {
     "name": "stdout",
     "output_type": "stream",
     "text": [
      "3 of 151\n"
     ]
    },
    {
     "name": "stderr",
     "output_type": "stream",
     "text": [
      "Setting `pad_token_id` to `eos_token_id`:2 for open-end generation.\n"
     ]
    },
    {
     "name": "stdout",
     "output_type": "stream",
     "text": [
      "4 of 151\n"
     ]
    },
    {
     "name": "stderr",
     "output_type": "stream",
     "text": [
      "Setting `pad_token_id` to `eos_token_id`:2 for open-end generation.\n"
     ]
    },
    {
     "name": "stdout",
     "output_type": "stream",
     "text": [
      "5 of 151\n"
     ]
    },
    {
     "name": "stderr",
     "output_type": "stream",
     "text": [
      "Setting `pad_token_id` to `eos_token_id`:2 for open-end generation.\n"
     ]
    },
    {
     "name": "stdout",
     "output_type": "stream",
     "text": [
      "6 of 151\n"
     ]
    },
    {
     "name": "stderr",
     "output_type": "stream",
     "text": [
      "Setting `pad_token_id` to `eos_token_id`:2 for open-end generation.\n"
     ]
    },
    {
     "name": "stdout",
     "output_type": "stream",
     "text": [
      "7 of 151\n"
     ]
    },
    {
     "name": "stderr",
     "output_type": "stream",
     "text": [
      "Setting `pad_token_id` to `eos_token_id`:2 for open-end generation.\n"
     ]
    },
    {
     "name": "stdout",
     "output_type": "stream",
     "text": [
      "8 of 151\n"
     ]
    },
    {
     "name": "stderr",
     "output_type": "stream",
     "text": [
      "Setting `pad_token_id` to `eos_token_id`:2 for open-end generation.\n"
     ]
    },
    {
     "name": "stdout",
     "output_type": "stream",
     "text": [
      "9 of 151\n"
     ]
    },
    {
     "name": "stderr",
     "output_type": "stream",
     "text": [
      "Setting `pad_token_id` to `eos_token_id`:2 for open-end generation.\n"
     ]
    },
    {
     "name": "stdout",
     "output_type": "stream",
     "text": [
      "10 of 151\n"
     ]
    },
    {
     "name": "stderr",
     "output_type": "stream",
     "text": [
      "Setting `pad_token_id` to `eos_token_id`:2 for open-end generation.\n"
     ]
    },
    {
     "name": "stdout",
     "output_type": "stream",
     "text": [
      "11 of 151\n"
     ]
    },
    {
     "name": "stderr",
     "output_type": "stream",
     "text": [
      "Setting `pad_token_id` to `eos_token_id`:2 for open-end generation.\n"
     ]
    },
    {
     "name": "stdout",
     "output_type": "stream",
     "text": [
      "12 of 151\n"
     ]
    },
    {
     "name": "stderr",
     "output_type": "stream",
     "text": [
      "Setting `pad_token_id` to `eos_token_id`:2 for open-end generation.\n"
     ]
    },
    {
     "name": "stdout",
     "output_type": "stream",
     "text": [
      "13 of 151\n"
     ]
    },
    {
     "name": "stderr",
     "output_type": "stream",
     "text": [
      "Setting `pad_token_id` to `eos_token_id`:2 for open-end generation.\n"
     ]
    },
    {
     "name": "stdout",
     "output_type": "stream",
     "text": [
      "14 of 151\n"
     ]
    },
    {
     "name": "stderr",
     "output_type": "stream",
     "text": [
      "Setting `pad_token_id` to `eos_token_id`:2 for open-end generation.\n"
     ]
    },
    {
     "name": "stdout",
     "output_type": "stream",
     "text": [
      "15 of 151\n"
     ]
    },
    {
     "name": "stderr",
     "output_type": "stream",
     "text": [
      "Setting `pad_token_id` to `eos_token_id`:2 for open-end generation.\n"
     ]
    },
    {
     "name": "stdout",
     "output_type": "stream",
     "text": [
      "16 of 151\n"
     ]
    },
    {
     "name": "stderr",
     "output_type": "stream",
     "text": [
      "Setting `pad_token_id` to `eos_token_id`:2 for open-end generation.\n"
     ]
    },
    {
     "name": "stdout",
     "output_type": "stream",
     "text": [
      "17 of 151\n"
     ]
    },
    {
     "name": "stderr",
     "output_type": "stream",
     "text": [
      "Setting `pad_token_id` to `eos_token_id`:2 for open-end generation.\n"
     ]
    },
    {
     "name": "stdout",
     "output_type": "stream",
     "text": [
      "18 of 151\n"
     ]
    },
    {
     "name": "stderr",
     "output_type": "stream",
     "text": [
      "Setting `pad_token_id` to `eos_token_id`:2 for open-end generation.\n"
     ]
    },
    {
     "name": "stdout",
     "output_type": "stream",
     "text": [
      "19 of 151\n"
     ]
    },
    {
     "name": "stderr",
     "output_type": "stream",
     "text": [
      "Setting `pad_token_id` to `eos_token_id`:2 for open-end generation.\n"
     ]
    },
    {
     "name": "stdout",
     "output_type": "stream",
     "text": [
      "20 of 151\n"
     ]
    },
    {
     "name": "stderr",
     "output_type": "stream",
     "text": [
      "Setting `pad_token_id` to `eos_token_id`:2 for open-end generation.\n"
     ]
    },
    {
     "name": "stdout",
     "output_type": "stream",
     "text": [
      "21 of 151\n"
     ]
    },
    {
     "name": "stderr",
     "output_type": "stream",
     "text": [
      "Setting `pad_token_id` to `eos_token_id`:2 for open-end generation.\n"
     ]
    },
    {
     "name": "stdout",
     "output_type": "stream",
     "text": [
      "22 of 151\n"
     ]
    },
    {
     "name": "stderr",
     "output_type": "stream",
     "text": [
      "Setting `pad_token_id` to `eos_token_id`:2 for open-end generation.\n"
     ]
    },
    {
     "name": "stdout",
     "output_type": "stream",
     "text": [
      "23 of 151\n"
     ]
    },
    {
     "name": "stderr",
     "output_type": "stream",
     "text": [
      "Setting `pad_token_id` to `eos_token_id`:2 for open-end generation.\n"
     ]
    },
    {
     "name": "stdout",
     "output_type": "stream",
     "text": [
      "24 of 151\n"
     ]
    },
    {
     "name": "stderr",
     "output_type": "stream",
     "text": [
      "Setting `pad_token_id` to `eos_token_id`:2 for open-end generation.\n"
     ]
    },
    {
     "name": "stdout",
     "output_type": "stream",
     "text": [
      "25 of 151\n"
     ]
    },
    {
     "name": "stderr",
     "output_type": "stream",
     "text": [
      "Setting `pad_token_id` to `eos_token_id`:2 for open-end generation.\n"
     ]
    },
    {
     "name": "stdout",
     "output_type": "stream",
     "text": [
      "26 of 151\n"
     ]
    },
    {
     "name": "stderr",
     "output_type": "stream",
     "text": [
      "Setting `pad_token_id` to `eos_token_id`:2 for open-end generation.\n"
     ]
    },
    {
     "name": "stdout",
     "output_type": "stream",
     "text": [
      "27 of 151\n"
     ]
    },
    {
     "name": "stderr",
     "output_type": "stream",
     "text": [
      "Setting `pad_token_id` to `eos_token_id`:2 for open-end generation.\n"
     ]
    },
    {
     "name": "stdout",
     "output_type": "stream",
     "text": [
      "28 of 151\n"
     ]
    },
    {
     "name": "stderr",
     "output_type": "stream",
     "text": [
      "Setting `pad_token_id` to `eos_token_id`:2 for open-end generation.\n"
     ]
    },
    {
     "name": "stdout",
     "output_type": "stream",
     "text": [
      "29 of 151\n"
     ]
    },
    {
     "name": "stderr",
     "output_type": "stream",
     "text": [
      "Setting `pad_token_id` to `eos_token_id`:2 for open-end generation.\n"
     ]
    },
    {
     "name": "stdout",
     "output_type": "stream",
     "text": [
      "30 of 151\n"
     ]
    },
    {
     "name": "stderr",
     "output_type": "stream",
     "text": [
      "Setting `pad_token_id` to `eos_token_id`:2 for open-end generation.\n"
     ]
    },
    {
     "name": "stdout",
     "output_type": "stream",
     "text": [
      "31 of 151\n"
     ]
    },
    {
     "name": "stderr",
     "output_type": "stream",
     "text": [
      "Setting `pad_token_id` to `eos_token_id`:2 for open-end generation.\n"
     ]
    },
    {
     "name": "stdout",
     "output_type": "stream",
     "text": [
      "32 of 151\n"
     ]
    },
    {
     "name": "stderr",
     "output_type": "stream",
     "text": [
      "Setting `pad_token_id` to `eos_token_id`:2 for open-end generation.\n"
     ]
    },
    {
     "name": "stdout",
     "output_type": "stream",
     "text": [
      "33 of 151\n"
     ]
    },
    {
     "name": "stderr",
     "output_type": "stream",
     "text": [
      "Setting `pad_token_id` to `eos_token_id`:2 for open-end generation.\n"
     ]
    },
    {
     "name": "stdout",
     "output_type": "stream",
     "text": [
      "34 of 151\n"
     ]
    },
    {
     "name": "stderr",
     "output_type": "stream",
     "text": [
      "Setting `pad_token_id` to `eos_token_id`:2 for open-end generation.\n"
     ]
    },
    {
     "name": "stdout",
     "output_type": "stream",
     "text": [
      "35 of 151\n"
     ]
    },
    {
     "name": "stderr",
     "output_type": "stream",
     "text": [
      "Setting `pad_token_id` to `eos_token_id`:2 for open-end generation.\n"
     ]
    },
    {
     "name": "stdout",
     "output_type": "stream",
     "text": [
      "36 of 151\n"
     ]
    },
    {
     "name": "stderr",
     "output_type": "stream",
     "text": [
      "Setting `pad_token_id` to `eos_token_id`:2 for open-end generation.\n"
     ]
    },
    {
     "name": "stdout",
     "output_type": "stream",
     "text": [
      "37 of 151\n"
     ]
    },
    {
     "name": "stderr",
     "output_type": "stream",
     "text": [
      "Setting `pad_token_id` to `eos_token_id`:2 for open-end generation.\n"
     ]
    },
    {
     "name": "stdout",
     "output_type": "stream",
     "text": [
      "38 of 151\n"
     ]
    },
    {
     "name": "stderr",
     "output_type": "stream",
     "text": [
      "Setting `pad_token_id` to `eos_token_id`:2 for open-end generation.\n"
     ]
    },
    {
     "name": "stdout",
     "output_type": "stream",
     "text": [
      "39 of 151\n"
     ]
    },
    {
     "name": "stderr",
     "output_type": "stream",
     "text": [
      "Setting `pad_token_id` to `eos_token_id`:2 for open-end generation.\n"
     ]
    },
    {
     "name": "stdout",
     "output_type": "stream",
     "text": [
      "40 of 151\n"
     ]
    },
    {
     "name": "stderr",
     "output_type": "stream",
     "text": [
      "Setting `pad_token_id` to `eos_token_id`:2 for open-end generation.\n"
     ]
    },
    {
     "name": "stdout",
     "output_type": "stream",
     "text": [
      "41 of 151\n"
     ]
    },
    {
     "name": "stderr",
     "output_type": "stream",
     "text": [
      "Setting `pad_token_id` to `eos_token_id`:2 for open-end generation.\n"
     ]
    },
    {
     "name": "stdout",
     "output_type": "stream",
     "text": [
      "42 of 151\n"
     ]
    },
    {
     "name": "stderr",
     "output_type": "stream",
     "text": [
      "Setting `pad_token_id` to `eos_token_id`:2 for open-end generation.\n"
     ]
    },
    {
     "name": "stdout",
     "output_type": "stream",
     "text": [
      "43 of 151\n"
     ]
    },
    {
     "name": "stderr",
     "output_type": "stream",
     "text": [
      "Setting `pad_token_id` to `eos_token_id`:2 for open-end generation.\n"
     ]
    },
    {
     "name": "stdout",
     "output_type": "stream",
     "text": [
      "44 of 151\n"
     ]
    },
    {
     "name": "stderr",
     "output_type": "stream",
     "text": [
      "Setting `pad_token_id` to `eos_token_id`:2 for open-end generation.\n"
     ]
    },
    {
     "name": "stdout",
     "output_type": "stream",
     "text": [
      "45 of 151\n"
     ]
    },
    {
     "name": "stderr",
     "output_type": "stream",
     "text": [
      "Setting `pad_token_id` to `eos_token_id`:2 for open-end generation.\n"
     ]
    },
    {
     "name": "stdout",
     "output_type": "stream",
     "text": [
      "46 of 151\n"
     ]
    },
    {
     "name": "stderr",
     "output_type": "stream",
     "text": [
      "Setting `pad_token_id` to `eos_token_id`:2 for open-end generation.\n"
     ]
    },
    {
     "name": "stdout",
     "output_type": "stream",
     "text": [
      "47 of 151\n"
     ]
    },
    {
     "name": "stderr",
     "output_type": "stream",
     "text": [
      "Setting `pad_token_id` to `eos_token_id`:2 for open-end generation.\n"
     ]
    },
    {
     "name": "stdout",
     "output_type": "stream",
     "text": [
      "48 of 151\n"
     ]
    },
    {
     "name": "stderr",
     "output_type": "stream",
     "text": [
      "Setting `pad_token_id` to `eos_token_id`:2 for open-end generation.\n"
     ]
    },
    {
     "name": "stdout",
     "output_type": "stream",
     "text": [
      "49 of 151\n"
     ]
    },
    {
     "name": "stderr",
     "output_type": "stream",
     "text": [
      "Setting `pad_token_id` to `eos_token_id`:2 for open-end generation.\n"
     ]
    },
    {
     "name": "stdout",
     "output_type": "stream",
     "text": [
      "50 of 151\n"
     ]
    },
    {
     "name": "stderr",
     "output_type": "stream",
     "text": [
      "Setting `pad_token_id` to `eos_token_id`:2 for open-end generation.\n"
     ]
    },
    {
     "name": "stdout",
     "output_type": "stream",
     "text": [
      "51 of 151\n"
     ]
    },
    {
     "name": "stderr",
     "output_type": "stream",
     "text": [
      "Setting `pad_token_id` to `eos_token_id`:2 for open-end generation.\n"
     ]
    },
    {
     "name": "stdout",
     "output_type": "stream",
     "text": [
      "52 of 151\n"
     ]
    },
    {
     "name": "stderr",
     "output_type": "stream",
     "text": [
      "Setting `pad_token_id` to `eos_token_id`:2 for open-end generation.\n"
     ]
    },
    {
     "name": "stdout",
     "output_type": "stream",
     "text": [
      "53 of 151\n"
     ]
    },
    {
     "name": "stderr",
     "output_type": "stream",
     "text": [
      "Setting `pad_token_id` to `eos_token_id`:2 for open-end generation.\n"
     ]
    },
    {
     "name": "stdout",
     "output_type": "stream",
     "text": [
      "54 of 151\n"
     ]
    },
    {
     "name": "stderr",
     "output_type": "stream",
     "text": [
      "Setting `pad_token_id` to `eos_token_id`:2 for open-end generation.\n"
     ]
    },
    {
     "name": "stdout",
     "output_type": "stream",
     "text": [
      "55 of 151\n"
     ]
    },
    {
     "name": "stderr",
     "output_type": "stream",
     "text": [
      "Setting `pad_token_id` to `eos_token_id`:2 for open-end generation.\n"
     ]
    },
    {
     "name": "stdout",
     "output_type": "stream",
     "text": [
      "56 of 151\n"
     ]
    },
    {
     "name": "stderr",
     "output_type": "stream",
     "text": [
      "Setting `pad_token_id` to `eos_token_id`:2 for open-end generation.\n"
     ]
    },
    {
     "name": "stdout",
     "output_type": "stream",
     "text": [
      "57 of 151\n"
     ]
    },
    {
     "name": "stderr",
     "output_type": "stream",
     "text": [
      "Setting `pad_token_id` to `eos_token_id`:2 for open-end generation.\n"
     ]
    },
    {
     "name": "stdout",
     "output_type": "stream",
     "text": [
      "58 of 151\n"
     ]
    },
    {
     "name": "stderr",
     "output_type": "stream",
     "text": [
      "Setting `pad_token_id` to `eos_token_id`:2 for open-end generation.\n"
     ]
    },
    {
     "name": "stdout",
     "output_type": "stream",
     "text": [
      "59 of 151\n"
     ]
    },
    {
     "name": "stderr",
     "output_type": "stream",
     "text": [
      "Setting `pad_token_id` to `eos_token_id`:2 for open-end generation.\n"
     ]
    },
    {
     "name": "stdout",
     "output_type": "stream",
     "text": [
      "60 of 151\n"
     ]
    },
    {
     "name": "stderr",
     "output_type": "stream",
     "text": [
      "Setting `pad_token_id` to `eos_token_id`:2 for open-end generation.\n"
     ]
    },
    {
     "name": "stdout",
     "output_type": "stream",
     "text": [
      "61 of 151\n"
     ]
    },
    {
     "name": "stderr",
     "output_type": "stream",
     "text": [
      "Setting `pad_token_id` to `eos_token_id`:2 for open-end generation.\n"
     ]
    },
    {
     "name": "stdout",
     "output_type": "stream",
     "text": [
      "62 of 151\n"
     ]
    },
    {
     "name": "stderr",
     "output_type": "stream",
     "text": [
      "Setting `pad_token_id` to `eos_token_id`:2 for open-end generation.\n"
     ]
    },
    {
     "name": "stdout",
     "output_type": "stream",
     "text": [
      "63 of 151\n"
     ]
    }
   ],
   "source": [
    "\n",
    "\n",
    "responses = {}\n",
    "today = datetime.datetime.now().isoformat()\n",
    "\n",
    "for idx, filename in enumerate(filenames):\n",
    "    print(f\"{idx + 1} of {len(filenames)}\")\n",
    "    transcribe_one(filename, responses)\n",
    "\n",
    "upsert_transcriptions_to_sqlite3(responses, cursor)\n",
    "\n",
    "# transcribe_one(\"/tmp/storage/clips/front-1722009392.383259-1jcmy8-clean.png\", responses)\n"
   ]
  },
  {
   "cell_type": "code",
   "execution_count": 7,
   "metadata": {},
   "outputs": [
    {
     "name": "stdout",
     "output_type": "stream",
     "text": [
      "{'/home/arcyleung/Projects/frigate/media/frigate/clips/front-1723687423.885892-jq1jea-clean.png': 'In the image, there is a person walking on the sidewalk. The individual is wearing a dark-colored top and dark pants, and they appear to be facing away from the camera, walking towards the right side of the image. The person is holding what seems to be a bag or a small item in their hand.\\n\\nProminent vehicles in the scene include a car with its headlights on, which is driving towards the person walking. There is also a truck visible in the background, and a motorcycle parked on the side of the street.\\n\\nThe image is taken at night, as indicated by the darkness of the sky and the illuminated streetlights. The streetlights are green, and there are other lights visible in the', '/home/arcyleung/Projects/frigate/media/frigate/clips/front-1723684336.274846-0lkcg8-clean.png': 'In the image, there are no people visible. The scene is dominated by vehicles, with a car prominently featured in the foreground. The car appears to be parked or stationary, as indicated by the reflection on its surface. In the background, there are other vehicles, including a truck and a car, which are illuminated by streetlights. The streetlights are green, casting a soft glow on the scene. The vehicles are oriented in various directions, suggesting a busy street or intersection. There is no legible text visible in the image. The overall atmosphere of the image is dark and moody, with the streetlights providing the main source of light. ', '/home/arcyleung/Projects/frigate/media/frigate/clips/front-1723681642.58525-6kwej7-clean.png': 'In the image, there are two individuals standing on the sidewalk near the curb. One person is wearing a dark-colored jacket and the other is wearing a light-colored jacket. They appear to be engaged in a conversation, as suggested by their body language.\\n\\nProminent vehicles in the scene include a white car with its headlights on, which is driving towards the camera, and a white SUV parked on the side of the street. There is also a white car with its headlights on, which is driving away from the camera.\\n\\nThe image is taken from a high angle, looking down on the street and the people. The lighting suggests it is either dawn or dusk, as the sky is not fully dark but', '/home/arcyleung/Projects/frigate/media/frigate/clips/front-1723681299.839748-7c2ebh-clean.png': 'In the image, there is a person walking on the sidewalk. The individual is wearing a dark-colored jacket and dark pants. They are facing away from the camera, so their face is not visible. The person appears to be walking in the same direction as the traffic on the street.\\n\\nProminent vehicles in the scene include a white car parked on the side of the street and a red car parked in a driveway. There is also a white truck parked on the side of the street.\\n\\nThe image shows a residential area with houses on both sides of the street. The sky is overcast, suggesting it might be a cloudy day. There are no visible texts or distinctive markings on the vehicles that are legible in', '/home/arcyleung/Projects/frigate/media/frigate/clips/front-1723681146.335305-nnnp80-clean.png': 'In the image, there are two people visible. One person is standing on the sidewalk, wearing a dark-colored jacket and dark pants. They appear to be looking towards the street. The other person is sitting on the curb, wearing a light-colored jacket and dark pants. They seem to be looking in the opposite direction, away from the street.\\n\\nProminent vehicles in the scene include a white car parked on the street and a red car parked on the driveway. There is no legible text visible in the image. The orientation of the people and vehicles is such that the person standing is closer to the camera than the person sitting, and both individuals are positioned on the left side of the image. The white car is parked', '/home/arcyleung/Projects/frigate/media/frigate/clips/front-1723681119.227142-6di55p-clean.png': 'In the image, there is a person walking a dog on a leash. The person is wearing a dark-colored tank top and shorts, and they are facing away from the camera, so their face is not visible. The dog appears to be a medium-sized breed with a dark coat.\\n\\nThe person and the dog are in the foreground of the image, with the person walking on the sidewalk and the dog following closely behind. They are positioned in the lower right corner of the image.\\n\\nIn the background, there are several parked cars and a truck. The cars are of various colors and models, and they are parked along the street. There is no legible text visible in the image.\\n\\nThe scene is', '/home/arcyleung/Projects/frigate/media/frigate/clips/front-1723681117.349319-mtrkte-clean.png': 'In the scene, there is a person walking a dog on a leash. The person is wearing a dark tank top and shorts, and they are facing away from the camera, walking towards the right side of the image. The dog is black and appears to be a medium-sized breed.\\n\\nProminent vehicles in the scene include a white car parked on the right side of the image and a red car parked on the left side. There is also a white truck parked on the right side of the image.\\n\\nThe person walking the dog is positioned between the red car and the white car, and they are walking on the sidewalk. The dog is walking on the grass next to the sidewalk.\\n\\nThere is no legible text', '/home/arcyleung/Projects/frigate/media/frigate/clips/front-1723680980.298433-vr8ae6-clean.png': \"In the image, there is a person standing on the sidewalk near the intersection. The person is wearing a bright orange safety vest, which stands out against the darker clothing typically worn in the evening. The individual appears to be facing away from the camera, and it's not clear what they are holding or what they are doing.\\n\\nProminent vehicles in the scene include a white car parked on the right side of the image, and a red car parked on the left side. There is also a white truck parked on the right side of the image, and a black SUV parked on the left side.\\n\\nThe image shows a residential street with houses on both sides. The sky is a mix of colors, suggesting either sunrise\", '/home/arcyleung/Projects/frigate/media/frigate/clips/front-1723680976.867127-zswseq-clean.png': 'In the image, there are no people visible. The scene is dominated by parked cars and a residential street. The cars are of various models and colors, and there is no text or legible information visible in the image. The orientation of the objects is such that the cars are parked on the side of the street, and the street itself curves to the left. The sky is overcast, suggesting either early morning or late afternoon. The image does not contain any extraordinary objects or actions; it is a typical suburban street scene. ', '/home/arcyleung/Projects/frigate/media/frigate/clips/front-1723680976.867127-g0927o-clean.png': 'In the image, there is a person riding a bicycle on the street. The cyclist is wearing a dark-colored helmet and a long-sleeve shirt, and they are holding the handlebars of the bicycle. The cyclist appears to be in motion, traveling away from the camera.\\n\\nProminent vehicles in the scene include several cars parked along the street. There is also a white car visible in the foreground, and a white truck is parked further down the street. The cars and truck are stationary, and there is no visible text on any of the vehicles.\\n\\nThe scene is taken from a perspective that looks down a residential street. The street is lined with houses on both sides, and there are', '/home/arcyleung/Projects/frigate/media/frigate/clips/front-1723680317.851764-q0b6bl-clean.png': 'In the image, there are two people visible. One person is standing on the sidewalk, wearing a blue top and dark pants, and appears to be looking towards the camera. The other person is walking on the sidewalk, wearing a light-colored top and dark pants, and is facing away from the camera.\\n\\nProminent vehicles in the scene include a white car parked on the street and a red car parked on the driveway of a house. There is no legible text visible in the image.\\n\\nThe scene is an urban residential area with houses, trees, and power lines. The sky is overcast, suggesting either early morning or late afternoon. The street is lined with parked cars, and there is a curved driveway', '/home/arcyleung/Projects/frigate/media/frigate/clips/front-1723680314.425379-djfyzr-clean.png': 'In the image, there are two people visible. One person is standing on the sidewalk, wearing a blue shirt and dark pants, and appears to be looking towards the camera. The other person is walking on the sidewalk, wearing a light-colored shirt and dark pants, and is facing away from the camera.\\n\\nProminent vehicles in the scene include a white car parked on the street and a white truck parked in a driveway. There is no legible text visible in the image.\\n\\nThe scene is an urban residential area with houses, trees, and power lines. The sky is overcast, suggesting either early morning or late afternoon. The street is lined with parked cars, and there is a curved sidewalk where the two people', '/home/arcyleung/Projects/frigate/media/frigate/clips/front-1723680300.71174-tr09xb-clean.png': 'In the image, there is a person walking on the sidewalk. The individual is wearing a light-colored top and dark pants. They are holding a small object in their right hand, which appears to be a smartphone. The person is oriented towards the camera, and their posture suggests they are in motion, possibly walking or jogging.\\n\\nProminent vehicles in the scene include a white car parked on the right side of the street and a black SUV parked on the left side of the street. There is no legible text visible in the image.\\n\\nThe scene depicts a residential area with houses on both sides of the street. The sky is overcast, and the lighting suggests it could be either early morning or', '/home/arcyleung/Projects/frigate/media/frigate/clips/front-1723679958.887502-fjnwzd-clean.png': 'In the image, there are two individuals who appear to be engaged in a conversation. One person is standing on the sidewalk, facing the camera, while the other person is standing on the street, facing away from the camera. The person on the street is holding a cup, suggesting they might be taking a break or enjoying a beverage.\\n\\nThe vehicles in the scene include several cars parked along the street and a truck parked in a driveway. The cars are of various colors and models, and there is no legible text visible in the image.\\n\\nThe scene is set in a residential area with houses visible in the background. The sky is overcast, and the lighting suggests it might be late afternoon or early evening. The overall', '/home/arcyleung/Projects/frigate/media/frigate/clips/front-1723679954.244603-abctc2-clean.png': 'In the image, there are two individuals walking on the sidewalk. The person on the left is wearing a dark-colored top and shorts, and they are holding a cup, possibly containing a beverage. The person on the right is wearing a light-colored top and dark pants, and they are carrying a bag. Both individuals appear to be walking in the same direction, away from the camera.\\n\\nProminent vehicles in the scene include a white car parked on the right side of the image and a red car parked on the left side. There is no legible text visible in the image. The orientation of the people and vehicles suggests a typical urban setting with residential houses and a street corner. The sky is overcast, and the lighting', '/home/arcyleung/Projects/frigate/media/frigate/clips/front-1723679317.21905-9um4ht-clean.png': 'In the image, there are two people visible. One person is standing on the sidewalk, wearing a dark-colored jacket and dark pants, and appears to be looking towards the camera. The other person is walking on the sidewalk, wearing a light-colored shirt and dark pants, and is facing away from the camera.\\n\\nProminent vehicles in the scene include a white car parked on the street and a red car parked on the driveway of a house. There is no legible text visible in the image.\\n\\nThe scene is an urban residential area with houses, trees, and power lines. The sky is overcast, suggesting it might be a cloudy day. The people and vehicles are the main focus of the image, with', '/home/arcyleung/Projects/frigate/media/frigate/clips/front-1723678434.324092-p38jo6-clean.png': 'In the image, there is a person walking on the sidewalk. The individual is wearing a dark-colored top and light-colored pants. They are holding a bag in their left hand and appear to be walking away from the camera.\\n\\nProminent vehicles in the scene include a white car parked on the right side of the street and a black SUV parked on the left side of the street. There is also a white truck parked on the right side of the street.\\n\\nThe person is walking towards the right side of the image, away from the camera. The vehicles are parked on both sides of the street, and the person is walking on the sidewalk adjacent to the parked vehicles. The image does not contain any legible text.', '/home/arcyleung/Projects/frigate/media/frigate/clips/front-1723678430.946834-g8tsjk-clean.png': 'In the image, there is a person walking on the sidewalk. The individual is wearing a dark-colored jacket and dark pants. They are holding a bag in their right hand and appear to be walking away from the camera.\\n\\nProminent vehicles in the scene include a white car parked on the right side of the street and a red car parked on the left side of the street. There is also a white truck parked on the left side of the street.\\n\\nThe image shows a residential area with houses on both sides of the street. The sky is overcast, and the lighting suggests it might be late afternoon or early evening. There are no visible texts or distinctive brands in the image. The overall scene is a typical suburban street', '/home/arcyleung/Projects/frigate/media/frigate/clips/front-1723677586.266683-lr7glm-clean.png': 'In the image, there is a person walking on the sidewalk. The individual is wearing a yellow shirt and dark pants. They are facing away from the camera, walking towards the right side of the image.\\n\\nProminent vehicles in the scene include a silver sedan and a white SUV. The silver sedan is parked on the left side of the street, while the white SUV is parked on the right side of the street.\\n\\nThere is no legible text visible in the image. The orientation of the objects is such that the person is walking on the sidewalk, which is adjacent to the parked vehicles. The vehicles are parked on the street, which is adjacent to the sidewalk. The person appears to be walking along the sidewalk, possibly', '/home/arcyleung/Projects/frigate/media/frigate/clips/front-1723677511.293359-mhcpzg-clean.png': 'In the image, there is a person walking across the street. The individual is wearing a yellow top and dark pants. They appear to be in the process of crossing the street, with their body oriented towards the right side of the image. The person is holding a white object in their right hand, but it is not clear what the object is.\\n\\nProminent vehicles in the scene include a silver sedan and a white SUV. The silver sedan is parked on the left side of the street, while the white SUV is parked on the right side of the street. There is no legible text visible in the image.\\n\\nThe scene is an urban residential area with houses and parked cars lining both sides of the street.', '/home/arcyleung/Projects/frigate/media/frigate/clips/front-1723677353.041169-hx6r79-clean.png': 'In the image, there is a person walking on the sidewalk. The individual is wearing a red shirt and dark pants. They appear to be walking away from the camera, moving towards the right side of the image.\\n\\nProminent vehicles in the scene include a white car parked on the right side of the image and a black SUV parked on the left side. There is also a white truck parked on the right side of the image.\\n\\nThe image shows a residential street with houses on both sides. The sky is overcast, and the lighting suggests it might be late afternoon or early evening. There are no visible texts or distinctive brands that stand out in the image. The overall scene is a typical suburban neighborhood with parked vehicles and', '/home/arcyleung/Projects/frigate/media/frigate/clips/front-1723676490.285941-040f2u-clean.png': 'In the scene, there is a person walking on the sidewalk. The individual is wearing a red top and dark pants. They are walking away from the camera, moving towards the right side of the image. The person appears to be looking down, possibly at their phone or the ground.\\n\\nProminent vehicles in the scene include a white car parked on the right side of the image and a black SUV parked on the left side. There is also a white car driving on the street.\\n\\nThe image shows a residential area with houses on both sides of the street. The sky is overcast, suggesting it might be a cloudy day. There are no visible texts or distinctive brands in the image. The overall scene is a typical subur', '/home/arcyleung/Projects/frigate/media/frigate/clips/front-1723673954.166262-t12efz-clean.png': 'In the image, there is a person walking on the sidewalk. The individual is wearing a dark-colored top and light-colored pants. They are facing away from the camera, so their face is not visible. The person appears to be walking in the same direction as the traffic on the street.\\n\\nProminent vehicles in the scene include a white car parked on the side of the street and a white SUV driving on the road. There is also a red car parked on the side of the street.\\n\\nThe image shows a residential area with houses on both sides of the street. The sky is overcast, and the lighting suggests it might be late afternoon or early evening. There are no visible texts or distinctive markings on the', '/home/arcyleung/Projects/frigate/media/frigate/clips/front-1723673931.456905-hlaj8b-clean.png': 'In the image, there are two people visible. One person is walking on the sidewalk, wearing a dark top and light-colored pants. The other person is walking across the street, wearing a black top and dark pants. They are holding a handbag.\\n\\nProminent vehicles in the scene include a white car parked on the street and a white truck parked in a driveway. There is also a red car parked on the street.\\n\\nThe image shows a residential street with houses on both sides. The sky is overcast, and the lighting suggests it might be late afternoon or early evening. The street is lined with power lines, and there are trees visible in the background. The overall scene is a typical suburban neighborhood. ', '/home/arcyleung/Projects/frigate/media/frigate/clips/front-1723673891.330106-plsrly-clean.png': 'In the scene, there is a person walking on the sidewalk. The individual is wearing a white shirt and dark pants. They are holding a bag in their right hand and appear to be walking away from the camera.\\n\\nProminent vehicles in the scene include a white car parked on the right side of the street and a black SUV parked on the left side of the street. There is also a white car driving on the street.\\n\\nThe person is walking towards the right side of the image, away from the camera. The white car parked on the right side of the street is in the foreground, while the black SUV is in the background. The white car driving on the street is in the middle ground of the image.', '/home/arcyleung/Projects/frigate/media/frigate/clips/front-1723673619.192595-7afxuc-clean.png': 'In the image, there are two people visible. One person is standing on the corner of the street, wearing a dark-colored top and dark pants. They appear to be looking towards the camera. The other person is walking on the sidewalk, wearing a light-colored top and dark pants. They are facing away from the camera, towards the street.\\n\\nProminent vehicles in the scene include a white car parked on the street and a white truck parked in a driveway. There is no legible text visible in the image. The orientation of the people and vehicles suggests a typical urban setting with residential houses and a clear sky. The image captures a quiet moment in a residential area. ', '/home/arcyleung/Projects/frigate/media/frigate/clips/front-1723673611.853053-mdpsqm-clean.png': 'In the image, there are no people visible. The focus is on the residential street and the parked cars. The cars are of various models and colors, and there is no legible text or prominent vehicles that stand out. The orientation of the objects is typical for a residential street, with cars parked along the sides of the road, and the street itself curves gently to the right. The sky is overcast, and the lighting suggests it might be late afternoon or early evening. ', '/home/arcyleung/Projects/frigate/media/frigate/clips/front-1723673430.457268-1chrej-clean.png': 'In the scene, there is a person walking a dog on a leash. The person is wearing a white tank top and dark shorts. The dog is black and appears to be a medium-sized breed. The person and the dog are walking on the sidewalk, which is adjacent to the street.\\n\\nOn the street, there are several parked cars. The cars are various colors and models, but no specific make or model is distinguishable. There is also a white truck parked on the street.\\n\\nIn the background, there are residential buildings with white walls and brown roofs. The buildings have windows and doors, and there are trees visible in front of the buildings. The sky is clear and blue, indicating fair weather.\\n\\n', '/home/arcyleung/Projects/frigate/media/frigate/clips/front-1723673418.205092-yw3vw1-clean.png': 'In the image, there is a person standing on the sidewalk near the intersection. The individual is wearing a red top and appears to be looking towards the camera. The person is holding a small object, but it is not clear what it is.\\n\\nProminent vehicles in the scene include a white car parked on the street and a white truck parked in a driveway. There is also a red car parked on the street. The vehicles are stationary, and there is no visible text on them.\\n\\nThe person is oriented towards the camera, and the vehicles are positioned in the background, with the white car and truck being the most prominent. The person is standing on the sidewalk, which is adjacent to the street where the vehicles are', '/home/arcyleung/Projects/frigate/media/frigate/clips/front-1723672690.298572-l9acdn-clean.png': 'In the image, there is a person walking on the sidewalk. The individual is wearing a dark-colored top and light-colored pants. They are holding a backpack and appear to be walking away from the camera.\\n\\nProminent vehicles in the scene include a white car parked on the street and a white truck parked in a driveway. There is also a red car parked on the street.\\n\\nThe person is walking towards the right side of the image, away from the camera. The white car is parked on the left side of the street, and the white truck is parked in a driveway on the right side of the image. The red car is parked on the left side of the street, closer to the camera.\\n\\n', '/home/arcyleung/Projects/frigate/media/frigate/clips/front-1723672593.166465-cv3jtu-clean.png': 'In the image, there are no people visible. The scene is dominated by parked cars and a dog walking on the sidewalk. The cars are of various models and colors, and there is no legible text or prominent vehicles that stand out. The dog appears to be walking towards the camera, and there is no indication of any people or their actions. The image is taken from a street-level perspective, and the focus is on the residential area with houses, trees, and the street itself. ', '/home/arcyleung/Projects/frigate/media/frigate/clips/front-1723672591.582537-3tgbsl-clean.png': 'In the scene, there is a person walking a dog on a leash. The person is wearing a dark-colored top and dark pants. The dog appears to be a medium-sized breed with a fluffy coat, and it is walking ahead of the person.\\n\\nProminent vehicles in the scene include a white car parked on the right side of the image and a black SUV parked on the left side. There is also a white truck parked on the left side of the image.\\n\\nThe person and the dog are walking on the sidewalk, which is adjacent to the street. The street is lined with parked cars and houses, and there are power lines running above the street. The sky is overcast, suggesting it might be', '/home/arcyleung/Projects/frigate/media/frigate/clips/front-1723672587.413204-5xlplp-clean.png': 'In the scene, there are two individuals walking on the sidewalk. The person on the left is wearing a dark top and dark pants, and they are walking away from the camera. The person on the right is wearing a light-colored top and dark pants, and they are walking towards the camera. Both individuals appear to be walking in the same direction, parallel to each other.\\n\\nProminent vehicles in the scene include a white car parked on the right side of the street and a black SUV parked on the left side of the street. There is no legible text visible in the image.\\n\\nThe scene is taken during the day under an overcast sky. The street is lined with residential houses, and there are trees and power', '/home/arcyleung/Projects/frigate/media/frigate/clips/front-1723672125.802894-ryzi9n-clean.png': 'In the image, there are two people visible. One person is walking on the sidewalk, wearing a black top and orange shorts, and appears to be looking down at the ground. The other person is walking on the street, wearing a black top and blue jeans, and is looking towards the camera.\\n\\nProminent vehicles in the scene include a red car parked on the street and a white car parked in a driveway. There is also a white truck parked in a driveway.\\n\\nThe image shows a residential street with houses on both sides. The sky is clear, and the overall atmosphere of the image is calm and everyday. There is no legible text visible in the image. ', '/home/arcyleung/Projects/frigate/media/frigate/clips/front-1723672114.550416-pcjekb-clean.png': 'In the image, there are two people visible. One person is wearing a red shirt and is walking on the sidewalk, heading towards the right side of the image. The other person is wearing a yellow shirt and is standing on the grassy area near the sidewalk, facing towards the left side of the image.\\n\\nProminent vehicles in the scene include a red car parked on the left side of the image and a white car parked on the right side. There is also a black SUV parked on the left side of the image.\\n\\nThe image shows a residential street with houses on both sides. The sky is clear, suggesting it might be a sunny day. There are no visible texts or distinctive brands in the image. The overall', '/home/arcyleung/Projects/frigate/media/frigate/clips/front-1723672111.538574-y1kyp9-clean.png': 'In the image, there are two people visible. One person is standing on the sidewalk, wearing a red top and dark pants, and appears to be looking towards the camera. The other person is walking across the street, wearing a red top and dark pants, and is holding a basketball. They are looking down at the ground.\\n\\nProminent vehicles in the scene include a red SUV parked on the left side of the street, a white car parked on the right side of the street, and a white truck parked in the driveway of a house. There is no legible text visible in the image.\\n\\nThe scene is an urban residential area with houses on both sides of the street. The sky is clear, suggesting it might', '/home/arcyleung/Projects/frigate/media/frigate/clips/front-1723671490.85735-ryint6-clean.png': 'In the image, there are no people visible. The scene is dominated by vehicles and residential structures. There are several cars parked on the street, including a red car and a white car. A white van is parked in a driveway. A white truck is parked on the street, and a white car is parked in a driveway. There is a white car parked on the street, and a white car is parked in a driveway. A white car is parked on the street, and a white car is parked in a driveway. A white car is parked on the street, and a white car is parked in a driveway. A white car is parked on the street, and a white car is parked in a driveway. A', '/home/arcyleung/Projects/frigate/media/frigate/clips/front-1723671264.975984-gbehx0-clean.png': 'In the image, there are no people visible. The focus is on the residential street and the parked vehicles. There are several cars parked along the street, including a red car in the foreground and a white car in the background. The street is lined with houses, and there are trees and power lines visible. The sky is partly cloudy, suggesting a pleasant day. There is no text or legible text visible in the image. The orientation of the objects is such that the cars are parked parallel to the curb, and the houses are on the opposite side of the street. The image does not provide any information about the clothing of people or their actions. ', '/home/arcyleung/Projects/frigate/media/frigate/clips/front-1723670860.833142-8lqnsm-clean.png': 'In the image, there are two individuals walking on the sidewalk. The person on the left is wearing a dark-colored top and dark pants, and the person on the right is wearing a yellow top and dark pants. They appear to be walking in the same direction, away from the camera.\\n\\nProminent vehicles in the scene include a red car parked on the left side of the street and a white car parked on the right side of the street. There is also a white truck parked on the right side of the street.\\n\\nThe image shows a residential street with houses on both sides. The sky is clear with a few clouds, suggesting it might be a sunny day. There are no visible texts or distinctive markings on the', '/home/arcyleung/Projects/frigate/media/frigate/clips/front-1723670599.992952-422tpj-clean.png': 'In the image, there are no people visible. The scene is dominated by a variety of vehicles parked on the street. There are several cars, including a red one, and a white van. A white car is parked in the foreground, and a black car is visible in the background. There are also utility vehicles, such as a white truck and a white van, parked near the curb.\\n\\nThe street is lined with houses, and there are trees visible in the background. The sky is clear, suggesting it might be a sunny day. The image is taken from a perspective that looks down the street, providing a view of the parked vehicles and the residential area.\\n\\nThere is no legible text visible in the image', '/home/arcyleung/Projects/frigate/media/frigate/clips/front-1723670344.300821-eilj1z-clean.png': 'In the image, there are two individuals visible. One person is walking on the sidewalk, wearing a dark-colored top and light-colored pants. The other person is standing on the corner of the street, wearing a white top and dark pants. They appear to be looking towards the camera.\\n\\nProminent vehicles in the scene include a red car parked on the side of the street and a white car parked in a driveway. There is also a white truck parked in a driveway.\\n\\nThe image shows a residential street with houses on both sides. The sky is partly cloudy, and the overall scene suggests a typical day in a suburban neighborhood. There is no text visible in the image. ', '/home/arcyleung/Projects/frigate/media/frigate/clips/front-1723670339.05663-i1snyd-clean.png': 'In the image, there are no people visible. The focus is on the residential street and the parked vehicles. There are several cars parked along the street, including a red car in the foreground and a white car in the background. The street is lined with houses, and there are utility poles and wires visible. The sky is partly cloudy, suggesting a pleasant day. There is no text or legible text visible in the image. The orientation of the objects is typical for a residential street, with the cars parked along the side of the road and the houses lining the street. ', '/home/arcyleung/Projects/frigate/media/frigate/clips/front-1723670038.647449-zwnmrs-clean.png': 'In the image, there are several people visible. One individual is walking on the sidewalk, wearing a dark-colored top and light-colored pants. Another person is standing on the corner of the street, wearing a light-colored top and dark pants. There is also a child walking on the sidewalk, wearing a light-colored top and dark pants.\\n\\nProminent vehicles in the scene include a red car parked on the side of the street and a white car parked in a driveway. There is no legible text visible in the image.\\n\\nThe people appear to be going about their daily activities, with one person walking along the sidewalk and another standing at the corner. The red car is parked on the side of the street,', '/home/arcyleung/Projects/frigate/media/frigate/clips/front-1723668880.018269-xpmt2q-clean.png': 'In the image, there are no people visible. The scene is dominated by parked cars and a residential street. The cars are of various models and colors, and there is no text or legible information visible in the image. The orientation of the objects is such that the cars are parked on the side of the street, and the street itself curves to the left. The houses lining the street are in the background, and there are no people or their actions visible in the image. ', '/home/arcyleung/Projects/frigate/media/frigate/clips/front-1723668876.218572-rcx2t2-clean.png': 'In the image, there are several people visible. One individual is standing on the sidewalk, wearing a dark-colored top and light-colored pants. They appear to be looking towards the street. Another person is walking on the sidewalk, wearing a light-colored top and dark pants. They are facing away from the camera, so their clothing details are not visible.\\n\\nProminent vehicles in the scene include a red car parked on the street, and a white car parked in a driveway. There is also a white truck parked in a driveway. The text \"100\" is visible on the side of the white truck.\\n\\nThe people in the image seem to be going about their daily activities, with one person possibly waiting', '/home/arcyleung/Projects/frigate/media/frigate/clips/front-1723668854.773722-jkbgns-clean.png': 'In the image, there are two individuals visible. One person is standing on the sidewalk, wearing a dark-colored top and dark pants, and appears to be facing away from the camera, possibly looking at something off-frame. The other person is walking on the sidewalk, wearing a light-colored top and dark pants, and is also facing away from the camera, looking towards the street.\\n\\nProminent vehicles in the scene include a red car parked on the street, a white car parked on the grass, and a white truck parked on the street. There is no legible text visible in the image.\\n\\nThe scene is an urban residential area with houses, trees, and power lines. The sky is partly cloudy, suggesting', '/home/arcyleung/Projects/frigate/media/frigate/clips/front-1723668455.688798-ld651a-clean.png': 'In the image, there are no people visible. The focus is on the residential street and the parked vehicles. There are several cars parked along the street, including a red car in the foreground and a white car in the background. The street is lined with houses, and there are utility poles and wires visible. The sky is clear, suggesting it might be a sunny day. There is no text or legible text visible in the image. The orientation of the objects is such that the cars are parked parallel to the curb, and the houses are on the opposite side of the street. The image does not provide any information about the clothing of people or their actions. ', '/home/arcyleung/Projects/frigate/media/frigate/clips/front-1723667918.759911-d2j56v-clean.png': 'In the image, there is a person standing in the foreground, wearing a white t-shirt and a red baseball cap. The person is facing away from the camera, looking towards the street. They appear to be holding a black object, possibly a bag or a case, and are looking down at it.\\n\\nProminent vehicles in the scene include a red car parked on the street, and a white car parked in a driveway. There is also a black SUV parked in a driveway. The street is lined with houses, and there are power lines running above the street. The sky is clear with a few clouds, suggesting it might be a sunny day.\\n\\nThere is no legible text visible in the image', '/home/arcyleung/Projects/frigate/media/frigate/clips/front-1723667895.047575-qe4tfc-clean.png': 'In the image, there are no people visible. The focus is on the residential street and the vehicles parked along the sides. The vehicles include cars and a truck, and there are no people or clothing items that can be confidently identified. The orientation of the vehicles is along the curb, and there is no text or legible information that can be discerned from the image. The scene is a typical suburban street with residential houses, trees, and a clear sky. ', '/home/arcyleung/Projects/frigate/media/frigate/clips/front-1723667891.674222-xypvdy-clean.png': 'In the image, there is a person walking a dog on a leash. The person is wearing a dark-colored top and light-colored pants. The dog appears to be a medium-sized breed with a white coat. The person and the dog are walking towards the camera, and the dog is looking to the side.\\n\\nThe person is holding the leash with their right hand, and the dog is walking on the sidewalk. The dog is looking to the right, possibly at something or someone out of frame.\\n\\nProminent vehicles in the scene include a white car parked on the right side of the image and a black SUV parked on the left side. There is no legible text visible in the image.\\n\\n', '/home/arcyleung/Projects/frigate/media/frigate/clips/front-1723667891.09222-eh5ml4-clean.png': 'In the image, there is a person walking across the street. The individual is wearing a dark-colored top and dark pants. They are holding a leash attached to a dog, which is not visible in the image. The person appears to be crossing the street in a safe manner, likely following traffic signals or pedestrian crossings.\\n\\nProminent vehicles in the scene include a white car parked on the right side of the street and a black SUV parked on the left side of the street. There is also a red car parked on the left side of the street. The vehicles are stationary, and there is no visible text or distinctive markings that provide additional information about the vehicles or their owners.\\n\\nThe scene is an', '/home/arcyleung/Projects/frigate/media/frigate/clips/front-1723667433.219057-j9asg1-clean.png': 'In the image, there are no people visible. The focus is on the residential street and the vehicles parked along the sides. The vehicles include cars and a truck, and there are no people or clothing items that can be confidently identified. The orientation of the vehicles is along the curb, and there is no text or legible information that can be discerned from the image. The scene is a typical residential street with parked vehicles and a clear sky. ', '/home/arcyleung/Projects/frigate/media/frigate/clips/front-1723667429.83338-sen5oy-clean.png': 'In the image, there are no people visible. The scene is dominated by a residential area with houses and a street. There are several vehicles parked on the street, including cars and a truck. The vehicles are parked in various orientations, with some facing the camera and others facing away. There is no text visible in the image. The overall scene is a typical suburban neighborhood with no unusual or extraordinary elements. ', '/home/arcyleung/Projects/frigate/media/frigate/clips/front-1723666915.509743-xmtvqz-clean.png': 'In the image, there are two people visible. One person is standing on the sidewalk, wearing a dark-colored top and dark pants, and appears to be looking towards the camera. The other person is walking on the sidewalk, wearing a light-colored top and dark pants, and is facing away from the camera.\\n\\nProminent vehicles in the scene include a white car parked on the street and a black SUV parked in a driveway. There is no legible text visible in the image.\\n\\nThe people are oriented towards the camera, with the person standing on the sidewalk closer to the camera than the person walking. The person walking is further away from the camera and is positioned between the two people. The person standing is', '/home/arcyleung/Projects/frigate/media/frigate/clips/front-1723666489.76099-hc4vh7-clean.png': 'In the scene, there is a person walking on the sidewalk. The individual is wearing a white top and dark pants. They are facing away from the camera, so their face is not visible. The person appears to be walking in a straight line, parallel to the curb.\\n\\nProminent vehicles in the scene include a white car parked on the right side of the image and a black SUV parked on the left side. There is also a white car visible in the background, driving on the street.\\n\\nThe person is walking on a sidewalk that is adjacent to a residential area with houses and trees. The sky is overcast, and the overall lighting suggests it might be late afternoon or early evening. There are no visible texts or', '/home/arcyleung/Projects/frigate/media/frigate/clips/front-1723666391.879165-him22c-clean.png': 'In the scene, there is a person running on the sidewalk. The individual is wearing a dark-colored top and shorts, and they are holding a blue object in their right hand, which could be a water bottle. The person is oriented towards the left side of the image, and they appear to be in motion, possibly jogging.\\n\\nProminent vehicles in the scene include a white car and a black SUV. The white car is parked on the right side of the image, and the black SUV is parked on the left side. There is no legible text visible in the image.\\n\\nThe scene depicts a residential area with houses, trees, and power lines. The sky is partly cloudy, suggesting a', '/home/arcyleung/Projects/frigate/media/frigate/clips/front-1723666289.146472-9gc53y-clean.png': 'In the image, there is a person walking on the sidewalk. The individual is wearing a dark top and dark pants. They appear to be looking down, possibly at their phone or the ground. The person is oriented towards the left side of the image, and they are walking away from the camera.\\n\\nProminent vehicles in the scene include a white car parked on the right side of the image and a black SUV parked on the left side. There is no legible text visible in the image.\\n\\nThe scene depicts a residential area with houses, trees, and power lines. The sky is partly cloudy, suggesting a fair weather day. The overall atmosphere of the image is calm and everyday, with no extraordinary elements visible', '/home/arcyleung/Projects/frigate/media/frigate/clips/front-1723665672.054117-0vj0mr-clean.png': 'In the image, there are two people visible. One person is standing on the sidewalk, wearing a blue shirt and dark pants, and appears to be looking towards the camera. The other person is walking on the sidewalk, wearing a white shirt and dark pants, and is facing away from the camera.\\n\\nProminent vehicles in the scene include a white car parked on the street and a red car parked in a driveway. There is also a white truck parked in a driveway.\\n\\nThe image shows a residential street with houses on both sides. The sky is partly cloudy, and the overall scene suggests a typical day in a suburban neighborhood. There is no text visible in the image. ', '/home/arcyleung/Projects/frigate/media/frigate/clips/front-1723665664.64205-4w7ncy-clean.png': \"In the image, there is a person walking a dog on a leash. The person is wearing a blue and white patterned shirt and dark shorts. They are holding the dog's leash with their right hand. The dog appears to be a medium-sized breed, possibly a mixed breed, and is walking ahead of the person.\\n\\nThe person and the dog are in the foreground of the image, with the person walking towards the right side of the photo. The dog is walking towards the left side of the photo.\\n\\nIn the background, there are several parked cars and a truck. The cars are of various colors and models, and there is no legible text visible in the image. The orientation of the vehicles\", '/home/arcyleung/Projects/frigate/media/frigate/clips/front-1723665662.52305-woiio3-clean.png': 'In the image, there is a person walking a dog on a leash. The person is wearing a blue and white patterned shirt and white shorts. They are holding the leash of the dog, which is a small breed, possibly a terrier or a similar type of dog. The person and the dog are on the right side of the image, and the dog is looking towards the camera.\\n\\nThe scene is set in a residential area with houses and cars visible. The sky is clear, suggesting it might be a sunny day. There are no prominent vehicles or legible text in the image. The focus is on the person and the dog, and the background is not the main subject of the photo. ', '/home/arcyleung/Projects/frigate/media/frigate/clips/front-1723664799.296272-fwi13j-clean.png': 'In the image, there is a person walking across a street. The individual is wearing a blue shirt and dark pants. They are holding a white object in their right hand, which appears to be a bag or a container of some sort. The person is oriented towards the right side of the image, and they are walking in front of a white car.\\n\\nThe street is lined with parked cars on both sides. There are no visible texts or distinctive features that would make any of the vehicles or objects stand out as particularly prominent. The overall scene depicts a typical residential area with houses, trees, and utility poles. The sky is overcast, suggesting it might be a cloudy day. ', '/home/arcyleung/Projects/frigate/media/frigate/clips/front-1723664799.296272-jzrhrk-clean.png': 'In the image, there is a person walking a dog on a leash. The person is wearing a blue shirt and dark pants. The dog is black and appears to be a medium-sized breed. The person and the dog are on the right side of the image, and the dog is walking ahead of the person.\\n\\nProminent vehicles in the scene include a white car parked on the right side of the image, and a black SUV parked on the left side. There is no legible text visible in the image.\\n\\nThe scene is an urban residential area with houses on both sides of the street. The sky is overcast with clouds, suggesting it might be a cool or cloudy day. The street is lined with', '/home/arcyleung/Projects/frigate/media/frigate/clips/front-1723664780.787922-0ri8of-clean.png': 'In the image, there are no people visible. The focus is on the residential street and the vehicles parked along the sides. The vehicles include cars and a truck, and there are no people or clothing items that can be confidently identified. The image is taken from a perspective that looks down the street, and the vehicles are parked on both sides of the road. There is no text or legible information visible in the image. The orientation of the objects is such that the vehicles are parked parallel to the curb, and the street appears to be a cul-de-sac with a grassy area in the center. The sky is overcast, and the overall scene is a typical suburban residential area. ', '/home/arcyleung/Projects/frigate/media/frigate/clips/front-1723663502.758685-hb694j-clean.png': 'In the scene, there is a person walking across the street. The individual is wearing dark pants and a light-colored top. They appear to be in motion, possibly crossing the street.\\n\\nProminent vehicles in the scene include a white car parked on the right side of the image and a black SUV parked on the left side. There are also several other cars and a truck visible in the background.\\n\\nThe person is holding a handbag, and they seem to be looking towards the camera. The orientation of the person is from the side, with their body facing the camera and their head turned to the side.\\n\\nThere is no legible text visible in the image. The scene is an everyday urban setting with residential houses', '/home/arcyleung/Projects/frigate/media/frigate/clips/front-1723663502.449251-xx7872-clean.png': 'In the image, there are two people visible. One person is standing on the sidewalk near the corner of the street, wearing a dark-colored top and light-colored pants. They appear to be looking towards the camera. The other person is walking on the sidewalk, wearing a light-colored top and dark pants. They are facing away from the camera, towards the street.\\n\\nProminent vehicles in the scene include a white car parked on the street and a white van parked in a driveway. There is no legible text visible in the image. The orientation of the people and vehicles suggests a typical urban scene with pedestrians and vehicles coexisting in a residential area. The people seem to be going about their daily activities, and', '/home/arcyleung/Projects/frigate/media/frigate/clips/front-1723660210.268627-ystux8-clean.png': 'In the image, there are two people visible. One person is standing on the sidewalk near the corner of the street, wearing a dark-colored top and light-colored pants. The other person is walking on the sidewalk, wearing a light-colored top and dark pants. They are both facing away from the camera, so their identities are not visible.\\n\\nProminent vehicles in the scene include a white car parked on the street and a white truck parked in a driveway. There is also a white van parked on the street. The vehicles are stationary, and there is no visible text or legible license plates.\\n\\nThe people appear to be going about their daily activities, possibly walking to or from work or other destinations', '/home/arcyleung/Projects/frigate/media/frigate/clips/front-1723659687.031356-b1vtjk-clean.png': 'In the image, there are two people visible. One person is walking on the sidewalk, wearing a blue shirt and a cap, and appears to be looking towards the camera. The other person is walking across the street, wearing a white shirt and dark pants, and is also looking towards the camera.\\n\\nProminent vehicles in the scene include a white car parked on the right side of the street and a black car parked on the left side of the street. There is also a white van parked on the left side of the street.\\n\\nThe street is lined with houses and trees, and there are power lines running above the street. The sky is partly cloudy, suggesting a pleasant day. The overall scene depicts a typical residential area', '/home/arcyleung/Projects/frigate/media/frigate/clips/front-1723659279.947971-4a0lcd-clean.png': 'In the image, there are two individuals visible. One person is standing on the sidewalk near the corner of the street, wearing a dark-colored top and light-colored pants. They appear to be looking towards the camera. The other person is walking on the sidewalk, wearing a light-colored top and dark pants. They are facing away from the camera, towards the street.\\n\\nProminent vehicles in the scene include a white car parked on the street and a white van parked in a driveway. There is also a blue trash can visible on the sidewalk.\\n\\nThe image shows a residential street with houses on both sides. The sky is partly cloudy, and the overall scene suggests a typical day in a suburban neighborhood. There', '/home/arcyleung/Projects/frigate/media/frigate/clips/front-1723658621.349499-ouv8zk-clean.png': 'In the image, there are two individuals walking on a sidewalk. They are dressed in casual attire, with one person wearing a red jacket and the other in a dark-colored jacket. The person in the red jacket is slightly ahead of the other, and they appear to be walking in the same direction.\\n\\nProminent vehicles in the scene include a white car parked on the right side of the image and a black car parked on the left side. There is also a white van parked on the right side of the image.\\n\\nThe image shows a residential area with houses and trees. The sky is partly cloudy, suggesting a pleasant day. There are no visible texts or distinctive brands in the image. The overall scene is a typical', '/home/arcyleung/Projects/frigate/media/frigate/clips/front-1723658616.949037-wf5jz6-clean.png': 'In the image, there are two individuals walking on a sidewalk. The person on the left is wearing a dark-colored jacket and dark pants, while the person on the right is wearing a red jacket and dark pants. They appear to be walking in the same direction, away from the camera.\\n\\nProminent vehicles in the scene include a white car parked on the right side of the street and a black car parked on the left side of the street. There is also a white van parked on the left side of the street.\\n\\nThe image shows a residential area with houses on both sides of the street. The sky is partly cloudy, suggesting a fair weather day. There are no visible texts or distinctive markings that provide additional context', '/home/arcyleung/Projects/frigate/media/frigate/clips/front-1723658538.028952-phhjxn-clean.png': 'In the image, there is a person walking across a street. The individual is wearing a red jacket and dark shorts. They appear to be in motion, possibly crossing the street. The person is holding a blue object in their right hand, but it is not clear what the object is.\\n\\nProminent vehicles in the scene include a white car parked on the right side of the street and a black car parked on the left side of the street. There is also a white van parked on the left side of the street.\\n\\nThe street is lined with houses and trees. The sky is partly cloudy, suggesting a mix of sun and clouds. There are no visible texts or legible text in the image. The orientation of the person', '/home/arcyleung/Projects/frigate/media/frigate/clips/front-1723658520.943619-9r9hre-clean.png': 'In the image, there is a person walking across a street. The individual is wearing a dark-colored t-shirt and dark shorts. They are holding a smartphone in their right hand, which they appear to be using. The person is oriented towards the right side of the image, and they are walking towards a white car parked on the right side of the street.\\n\\nThe street is lined with parked cars on both sides. There are no prominent vehicles or legible text in the image. The scene is a typical residential street with houses, trees, and power lines visible in the background. The sky is partly cloudy, suggesting a pleasant day. ', '/home/arcyleung/Projects/frigate/media/frigate/clips/front-1723658275.633196-bcf72s-clean.png': 'In the image, there are two individuals visible. One person is walking on the sidewalk, wearing a dark-colored top and light-colored pants. The other person is standing on the corner of the street, wearing a light-colored top and dark pants. They appear to be waiting or observing something.\\n\\nProminent vehicles in the scene include a white car parked on the street and a white van parked in a driveway. There is no legible text visible in the image.\\n\\nThe orientation of the people and vehicles is such that the person walking is moving away from the camera, while the person standing is facing the camera. The white car is parked on the right side of the street, and the white van is parked on', '/home/arcyleung/Projects/frigate/media/frigate/clips/front-1723658257.603639-v9go3j-clean.png': 'In the image, there is a person walking across the street at a crosswalk. The individual is wearing a dark-colored top and dark pants, and they appear to be carrying a bag. The person is oriented towards the camera, and they are in the process of crossing the street.\\n\\nProminent vehicles in the scene include a white car parked on the right side of the image and a white van parked on the left side. There is also a red car parked on the left side of the image.\\n\\nThe image shows a residential area with houses on both sides of the street. The sky is partly cloudy, and the overall scene suggests a typical day in a suburban neighborhood. There is no legible text visible in', '/home/arcyleung/Projects/frigate/media/frigate/clips/front-1723657554.211894-gq9koo-clean.png': 'In the image, there are several people visible. One individual is wearing a red shirt and is standing near a red truck, which is parked on the street. Another person is wearing a white shirt and is standing near a white car, which is also parked on the street. The orientation of these individuals is such that they are facing the camera, and they appear to be engaged in various activities, possibly related to their vehicles.\\n\\nThe red truck is parked on the street, and it is facing towards the right side of the image. The white car is parked on the street, and it is facing towards the left side of the image. There is no legible text visible in the image.\\n\\nThe image is taken from a perspective that', '/home/arcyleung/Projects/frigate/media/frigate/clips/front-1723657515.882249-hatfht-clean.png': 'In the image, there are no people visible. The scene is dominated by residential buildings and parked cars. The cars are of various models and colors, and there is no legible text visible in the image. The orientation of the objects is such that the cars are parked along the side of the street, and the buildings are situated on both sides of the street. The sky is clear with a few clouds, suggesting a sunny day. The image does not contain any extraordinary objects or actions. ', '/home/arcyleung/Projects/frigate/media/frigate/clips/front-1723657133.452483-qlj4uv-clean.png': 'In the scene, there is a person riding a bicycle. The cyclist is wearing a green shirt and a blue helmet. They are oriented towards the right side of the image, and they appear to be in motion, possibly turning a corner.\\n\\nProminent vehicles in the scene include several cars parked along the street. There is also a white car visible in the foreground. The text \"55\" is legible on the side of a building, which could be a house number or a business sign.\\n\\nThe cyclist is holding the handlebars of the bicycle and seems to be navigating the residential street. The overall scene depicts a typical day in a suburban neighborhood with residential houses, parked cars,', '/home/arcyleung/Projects/frigate/media/frigate/clips/front-1723657133.302367-02cxm4-clean.png': 'In the scene, there is a person riding a bicycle. The cyclist is wearing a green shirt and a blue helmet. They are oriented towards the right side of the image, and they appear to be in motion, possibly turning a corner.\\n\\nProminent vehicles in the scene include several cars parked along the street. There is also a white car visible in the foreground. The text \"55\" is legible on the side of a building, which could be a house number or a business sign.\\n\\nThe cyclist is holding the handlebars of the bicycle and seems to be navigating the residential street. The overall scene depicts a typical day in a suburban neighborhood with residential houses, parked cars,', '/home/arcyleung/Projects/frigate/media/frigate/clips/front-1723656228.170256-910sgw-clean.png': 'In the image, there is a person walking on a sidewalk. The individual is wearing a pink top and blue shorts, and they are holding a smartphone in their right hand. They appear to be looking at the screen of the phone. The person is oriented towards the right side of the image, and there are no other people visible in the immediate vicinity.\\n\\nProminent vehicles in the scene include a white car parked on the right side of the image and a black car parked on the left side. There is no legible text visible in the image. The overall scene depicts a residential area with houses, trees, and a clear sky. The person walking seems to be going about their daily routine, possibly commuting or running', '/home/arcyleung/Projects/frigate/media/frigate/clips/front-1723655928.096291-5qtesj-clean.png': 'In the image, there are no people visible. The scene is dominated by a variety of vehicles parked in a residential area. The vehicles include cars and a truck, and they are parked in a manner that suggests a typical day in a neighborhood with limited parking space. There are no people or distinctive clothing visible in the image. The focus is on the vehicles and the residential setting. There is no legible text or prominent vehicles that stand out in the scene. The image captures a common urban scene without any extraordinary elements. ', '/home/arcyleung/Projects/frigate/media/frigate/clips/front-1723655927.127666-tn2ovy-clean.png': 'In the image, there are no people visible. The scene is dominated by a residential area with houses and cars. The cars are parked along the street, and there are no people in the immediate vicinity. The image is taken from a perspective that looks down a street, with the houses on the left and the cars parked on the right. There is no text visible in the image. The orientation of the objects is such that the houses are on the left, and the cars are on the right. The cars are parked in a line along the street, and there is no indication of any people or their actions. The image is a typical suburban street scene with no unusual or extraordinary elements. ', '/home/arcyleung/Projects/frigate/media/frigate/clips/front-1723655693.213796-f68gr9-clean.png': 'In the image, there is a person walking on the sidewalk. The individual is wearing a white top and dark pants. They are pushing a stroller and appear to be walking away from the camera. The person is oriented towards the left side of the image.\\n\\nProminent vehicles in the scene include several cars parked along the street. There is also a white car visible in the foreground, which is facing towards the right side of the image.\\n\\nThe image shows a residential area with houses and trees. The sky is partly cloudy, suggesting a pleasant day. There is no legible text visible in the image. ', '/home/arcyleung/Projects/frigate/media/frigate/clips/front-1723655348.830531-o4q8ew-clean.png': 'In the image, there are two individuals walking on the sidewalk. The person on the left is wearing a dark-colored top and shorts, while the person on the right is wearing a light-colored top and dark pants. They are both facing away from the camera, so their identities are not visible.\\n\\nThe person on the left is holding a skateboard, and the person on the right is holding a bicycle. They appear to be in motion, walking or riding their respective modes of transportation.\\n\\nProminent vehicles in the scene include a white car parked on the right side of the street and a black SUV parked on the left side of the street. There is no legible text visible in the image.\\n', '/home/arcyleung/Projects/frigate/media/frigate/clips/front-1723654444.256401-zqy676-clean.png': 'In the scene, there is a person walking on the sidewalk. The individual is wearing a purple shirt and blue pants. They are holding a blue object, which appears to be a container or a box, and are walking towards the camera.\\n\\nProminent vehicles in the scene include a white car parked on the right side of the image and a black SUV parked on the left side. There is also a white van parked on the left side of the image.\\n\\nThe person is walking away from the white car and towards the black SUV. The orientation of the person with respect to the vehicles suggests they are moving from the white car towards the black SUV.\\n\\nThere is no legible text visible in the image. ', '/home/arcyleung/Projects/frigate/media/frigate/clips/front-1723654189.225648-dl5pf2-clean.png': 'In the image, there is a person walking on the sidewalk. The individual is wearing a dark-colored t-shirt and dark shorts. They are holding a blue object, which appears to be a container or a cooler, and are walking away from the camera.\\n\\nProminent vehicles in the scene include a white car parked on the right side of the image and a black SUV parked on the left side. There is also a white van parked on the left side of the image.\\n\\nThe person is walking towards the right side of the image, away from the camera, and appears to be walking on a sidewalk adjacent to a street. The street is lined with parked cars and houses, and there are trees and power lines visible', '/home/arcyleung/Projects/frigate/media/frigate/clips/front-1723653899.269083-6c9mn8-clean.png': 'In the image, there are two people visible. One person is walking towards the camera, wearing a dark-colored top and dark pants. The other person is walking away from the camera, wearing a light-colored top and dark pants. They are both on the sidewalk, and there is no text visible on their clothing.\\n\\nProminent vehicles in the scene include a white delivery truck with red and blue stripes on the side, which is parked on the street. There is also a white car parked on the street. The delivery truck is facing towards the right side of the image, and the car is facing towards the left side of the image.\\n\\nThe people appear to be going about their daily activities, with one person possibly walking', '/home/arcyleung/Projects/frigate/media/frigate/clips/front-1723653342.938313-yr4x9m-clean.png': 'In the image, there are no people visible. The scene is dominated by a residential area with houses and parked cars. The vehicles include a mix of cars and a truck, with one car prominently visible in the foreground. There are no texts or legible markings that are clearly visible in the image. The orientation of the objects is typical for a residential street, with cars parked along the sides and a road curving through the neighborhood. The sky is partly cloudy, suggesting a fair weather day. ', '/home/arcyleung/Projects/frigate/media/frigate/clips/front-1723653242.399326-gffu2h-clean.png': 'In the image, there are two individuals visible. One person is standing on the sidewalk, wearing a dark-colored top and light-colored pants. They appear to be facing away from the camera, and their posture suggests they might be waiting or observing something. The other person is seated in a car, which is parked on the street. They are wearing a light-colored top and dark pants, and their head is turned to the side, possibly looking at something off-camera.\\n\\nProminent vehicles in the scene include a white car parked on the street and a white truck parked in a driveway. There is also a blue trash can on the sidewalk. The text \"100\" is visible on the trash can,', '/home/arcyleung/Projects/frigate/media/frigate/clips/front-1723653197.969963-jiqlul-clean.png': 'In the image, there is a person walking across a street. The individual is wearing a dark-colored t-shirt and dark shorts. They are holding a blue object, which appears to be a container or a bag, and are looking down at the ground. The person is oriented towards the right side of the image, and there is a car visible on the right side of the street.\\n\\nProminent vehicles in the scene include a white car parked on the right side of the street and a black SUV parked on the left side of the street. There is no legible text visible in the image. The scene is an everyday residential street with houses, trees, and utility poles. The sky is partly cloudy, suggesting', '/home/arcyleung/Projects/frigate/media/frigate/clips/front-1723653180.040777-1amusi-clean.png': 'In the image, there are two people visible. One person is standing on the sidewalk, wearing a dark-colored top and light-colored pants. They appear to be looking towards the street. The other person is walking on the sidewalk, wearing a dark-colored top and light-colored pants. They are holding a blue object, which could be a bag or a container, and they are looking down at the ground.\\n\\nProminent vehicles in the scene include a white car parked on the street and a white van parked in a driveway. There is also a blue mailbox on the sidewalk. The text on the mailbox is not legible.\\n\\nThe image shows a residential street with houses on both sides. The sky is', '/home/arcyleung/Projects/frigate/media/frigate/clips/front-1723653162.237958-lxzfat-clean.png': 'In the image, there are no people visible. The scene is dominated by residential houses and a street intersection. There are several cars parked along the street, and a few vehicles are in motion. The sky is partly cloudy, suggesting a fair weather day. There are no prominent people or vehicles that stand out in this image. The focus is on the residential area and the street intersection. ', '/home/arcyleung/Projects/frigate/media/frigate/clips/front-1723653156.535964-u0afji-clean.png': 'In the image, there is a person walking a dog on a leash. The person is wearing a dark-colored top and light-colored pants. They are holding the leash with their right hand and appear to be walking towards the camera. The dog is a medium-sized breed with a white coat and dark markings.\\n\\nProminent vehicles in the scene include a white car parked on the right side of the image and a black SUV parked on the left side. There is also a white van parked on the right side of the image.\\n\\nThe person and the dog are the main focus of the image, and their actions suggest a typical day of walking a pet in a residential area. The vehicles are parked and station', '/home/arcyleung/Projects/frigate/media/frigate/clips/front-1723653156.535964-xd2cip-clean.png': 'In the image, there is a person walking a dog across a street. The person is wearing a dark-colored top and light-colored shorts, and they are holding the leash of the dog, which is a medium-sized breed with a white coat. The dog appears to be walking on a leash, and the person is looking ahead, possibly at the road or the surrounding environment.\\n\\nThe street is lined with parked cars on both sides, and there are utility poles visible in the background. The sky is partly cloudy, suggesting a fair weather day. There are no visible texts or distinctive brands in the image that would provide additional context or information. The focus of the image is on the person and the dog, with', '/home/arcyleung/Projects/frigate/media/frigate/clips/front-1723652875.515725-d4t78k-clean.png': 'In the image, there are two individuals walking on a sidewalk. The person on the left is wearing a dark top and shorts, and they are holding a blue object that appears to be a container or a bag. The person on the right is wearing a dark top and dark pants, and they are carrying a black bag.\\n\\nProminent vehicles in the scene include a white van parked on the street, and a white car parked in a driveway. There is also a blue mailbox on the sidewalk.\\n\\nThe image is taken from a high angle, looking down on the street and sidewalk. The sky is clear with a few clouds, and the overall scene suggests a residential area with houses and trees in the background. There is no', '/home/arcyleung/Projects/frigate/media/frigate/clips/front-1723652845.120965-81kaay-clean.png': 'In the image, there are no people visible. The scene is dominated by residential houses and a street intersection. There are several vehicles parked along the street, including cars and a truck. The vehicles are of various colors and models, and there is no legible text visible in the image. The orientation of the objects is such that the houses are on the left side of the image, and the street intersection is in the center. The sky is visible in the top left corner of the image, and there are no people or objects that are out of the ordinary. ', '/home/arcyleung/Projects/frigate/media/frigate/clips/front-1723652839.286427-46b5l1-clean.png': 'In the image, there are two individuals visible. One person is standing on the grassy area near the curb, wearing a dark-colored top and light-colored pants. They appear to be looking towards the camera. The other person is standing on the sidewalk, wearing a light-colored top and dark pants. They are facing away from the camera, towards the street.\\n\\nProminent vehicles in the scene include a white van parked on the street, and a black SUV parked in a driveway. There is also a blue trash can on the sidewalk.\\n\\nThe image shows a residential street with houses on both sides. The sky is partly cloudy, and the overall scene suggests a typical day in a suburban neighborhood.', '/home/arcyleung/Projects/frigate/media/frigate/clips/front-1723652835.354985-4pl7u5-clean.png': 'In the image, there are two individuals visible. One person is standing on the sidewalk near the curb, wearing a dark-colored top and light-colored pants. They appear to be looking towards the street. The other person is standing on the grassy area near the curb, wearing a light-colored top and dark pants. They seem to be engaged in a conversation or observing something in the distance.\\n\\nProminent vehicles in the scene include a white van parked on the street, a black SUV parked on the grassy area, and a white car parked on the street. There is no legible text visible in the image.\\n\\nThe orientation of the people is such that the person on the sidewalk is facing the', '/home/arcyleung/Projects/frigate/media/frigate/clips/front-1723652815.269862-9jcjid-clean.png': 'In the image, there are two individuals visible. One person is standing on the sidewalk, wearing a dark-colored top and light-colored pants. They are facing away from the camera, and it is not possible to discern any specific details about them. The other person is standing on the grassy area near the curb, wearing a light-colored top and dark pants. They are facing towards the camera, and it is not possible to discern any specific details about them either.\\n\\nProminent vehicles in the scene include a white van parked on the street, a black SUV parked on the grassy area, and a white car parked on the street. There is no legible text visible in the image.\\n\\nThe', '/home/arcyleung/Projects/frigate/media/frigate/clips/front-1723652775.832509-d7exa5-clean.png': 'In the image, there are two people visible. One person is walking on the sidewalk, wearing a dark-colored top and light-colored pants. The other person is standing on the corner of the street, wearing a dark-colored top and light-colored pants. They appear to be looking towards the camera.\\n\\nProminent vehicles in the scene include a black SUV parked on the left side of the street, a white van parked on the right side of the street, and a silver car parked on the right side of the street. There is also a blue mailbox on the corner of the street.\\n\\nThe image shows a residential street with houses on both sides. The sky is partly cloudy, and the overall scene suggests', '/home/arcyleung/Projects/frigate/media/frigate/clips/front-1723652764.023379-fy0ipn-clean.png': 'In the image, there are two individuals walking on the sidewalk. The person on the left is wearing a black top and shorts, and they are holding a blue object that appears to be a container or a bag. The person on the right is wearing a dark top and dark pants, and they are holding a white object that could be a bag or a container as well.\\n\\nProminent vehicles in the scene include a black SUV parked on the left side of the street, a white car parked on the right side of the street, and a white van parked in a driveway. There is also a blue mailbox on the corner of the street.\\n\\nThe text \"100\" is visible on the mailbox, which', '/home/arcyleung/Projects/frigate/media/frigate/clips/front-1723652662.893817-35zraj-clean.png': 'In the image, there is a person walking a dog on a leash. The person is wearing a dark-colored top and light-colored pants. The dog appears to be a medium-sized breed with a white coat. The person and the dog are on the right side of the image, walking on the sidewalk.\\n\\nProminent vehicles in the scene include a black SUV parked on the left side of the street, and a white van parked on the right side of the street. There is also a blue mailbox on the corner of the street.\\n\\nThe image shows a residential area with houses on both sides of the street. The sky is clear with a few clouds, suggesting a sunny day. The overall scene is', '/home/arcyleung/Projects/frigate/media/frigate/clips/front-1723652662.415532-nh9kkw-clean.png': 'In the image, there is a person walking a dog on a leash. The person is wearing a dark-colored top and light-colored pants. The dog appears to be a medium-sized breed with a white coat. The person and the dog are on the right side of the image, and the dog is walking towards the left side of the image.\\n\\nProminent vehicles in the scene include a white van parked on the left side of the image and a white car parked on the right side of the image. There is also a blue mailbox on the left side of the image, near the curb.\\n\\nThe image shows a residential street with houses on both sides. The sky is partly cloudy, and the overall', '/home/arcyleung/Projects/frigate/media/frigate/clips/front-1723652661.598768-uteq8d-clean.png': 'In the image, there is a person walking a dog on a leash. The person is wearing a dark-colored top and light-colored pants. The dog is white with some black markings. The person and the dog are on the right side of the image, and the dog is walking towards the left side of the image.\\n\\nProminent vehicles in the scene include a white van parked on the left side of the image, and a white car parked on the right side of the image. There is also a blue mailbox on the left side of the image, near the curb.\\n\\nThe image shows a residential street with houses on both sides. The sky is partly cloudy, and the overall scene suggests a typical', '/home/arcyleung/Projects/frigate/media/frigate/clips/front-1723652413.763376-nzhq98-clean.png': 'In the image, there is a person walking on the sidewalk. The individual is wearing a white shirt and dark pants. They are holding a blue object, which appears to be a container or a bag, and are walking away from the camera.\\n\\nProminent vehicles in the scene include a black SUV parked on the street, a white car parked in a driveway, and a white van parked on the street. There is also a blue mailbox on the sidewalk.\\n\\nThe person is walking towards the right side of the image, away from the camera. The mailbox is located on the left side of the image, and the person is walking towards it. The street is lined with houses, and there are trees visible in the', '/home/arcyleung/Projects/frigate/media/frigate/clips/front-1723651795.792821-18gng7-clean.png': 'In the image, there are several people visible. One individual is wearing a dark-colored top and is standing near a parked car, facing away from the camera. Another person is wearing a light-colored top and is standing near a blue trash can, also facing away from the camera. The third person is wearing a dark-colored top and is standing near a parked car, facing towards the camera.\\n\\nProminent vehicles in the scene include a white van parked in front of a house, a black SUV parked in front of a house, and a white car parked in front of a house. There is also a white car parked on the side of the street.\\n\\nThe image shows a residential street with houses on both sides.', '/home/arcyleung/Projects/frigate/media/frigate/clips/front-1723651657.358134-j9sh43-clean.png': 'In the image, there are no people visible. The scene is dominated by residential houses and a street intersection. There are several vehicles parked or moving along the street, including cars and a truck. The vehicles are of various colors and models, but no specific details about the people in the vehicles or their actions can be discerned from this perspective.\\n\\nThe image is taken from a low angle, which gives a view of the street and houses from the ground level. The sky is clear, suggesting it might be a sunny day. The street is lined with trees and power lines, and there are no visible texts or distinctive markings that provide additional context or information. The overall scene is a typical suburban neighborhood with no unusual or extraordinary', '/home/arcyleung/Projects/frigate/media/frigate/clips/front-1723651631.656426-36iphl-clean.png': 'In the image, there are two individuals visible. One person is standing on the sidewalk, wearing a dark-colored top and light-colored pants. They appear to be looking towards the street. The other person is walking on the sidewalk, wearing a light-colored top and dark pants. They are facing away from the camera, so their clothing details are not visible.\\n\\nProminent vehicles in the scene include a black SUV parked on the street, a white van parked in a driveway, and a silver car parked on the street. There is also a blue mailbox on the sidewalk.\\n\\nThe image shows a residential street with houses on both sides. The sky is clear, and there are trees and power lines visible. The', '/home/arcyleung/Projects/frigate/media/frigate/clips/front-1723651516.193646-1hpb0c-clean.png': 'In the image, there is a person walking on the sidewalk. The individual is wearing a pink top and has their hair pulled back. They are holding a small object in their hand, but it is not clear what it is. The person appears to be walking away from the camera, towards the right side of the image.\\n\\nThe scene is set in a residential area with houses on both sides of the street. The street is lined with parked cars, and there are utility poles visible. The sky is clear, suggesting it might be a sunny day. There is no text or legible text visible in the image. The orientation of the person and the objects is such that the person is walking towards the right side of the image,', '/home/arcyleung/Projects/frigate/media/frigate/clips/front-1723651453.926159-0z14mw-clean.png': 'In the image, there are two individuals standing on a street corner. The person on the left is wearing a dark-colored top and dark pants, and they are holding a blue object that appears to be a cooler or a container of some sort. The person on the right is wearing a light-colored top and dark shorts, and they are holding a white object that could be a bag or a case.\\n\\nThe street corner is lined with parked cars, and there are utility poles and wires visible. The sky is clear, suggesting it might be a sunny day. There are no prominent vehicles or legible text in the image. The focus is on the two individuals and their actions, which seem to involve some sort of', '/home/arcyleung/Projects/frigate/media/frigate/clips/front-1723651450.116762-725d3r-clean.png': 'In the image, there are two individuals standing on a street corner. One person is wearing a white top and dark pants, while the other is wearing a light-colored top and dark pants. They appear to be engaged in a conversation, with the person in the white top facing the other person.\\n\\nThe street corner is lined with parked cars, including a black SUV and a silver sedan. There are also a few other vehicles visible in the background, including a white van and a black car.\\n\\nIn the foreground, there is a blue trash can and a black trash can. The blue trash can is closer to the camera, while the black trash can is further away.\\n\\nThe street itself is curved, and', '/home/arcyleung/Projects/frigate/media/frigate/clips/front-1723651433.340292-2alfyy-clean.png': 'In the image, there are two individuals walking on a residential street. The person on the left is wearing a dark-colored top and dark pants, and they are pulling a suitcase behind them. The person on the right is wearing a light-colored top and light-colored shorts, and they are walking with a handbag. Both individuals appear to be in motion, possibly heading towards a destination.\\n\\nProminent vehicles in the scene include a black SUV parked on the left side of the street and a white van parked on the right side of the street. There is no legible text visible in the image. The orientation of the people and objects suggests a typical day in a residential area, with no unusual or extraordinary elements. ', '/home/arcyleung/Projects/frigate/media/frigate/clips/front-1723651430.051955-uvno17-clean.png': 'In the image, there is a person walking on the sidewalk. The individual is wearing a dark-colored top and dark pants. They are holding a suitcase and appear to be walking towards a residential area. The person is oriented towards the right side of the image.\\n\\nProminent vehicles in the scene include a black SUV parked on the left side of the street and a white van parked on the right side of the street. There is no legible text visible in the image.\\n\\nThe scene is an ordinary residential street with houses, trees, and a clear blue sky. The focus is on the person walking, and the vehicles are part of the everyday life in the neighborhood. ', '/home/arcyleung/Projects/frigate/media/frigate/clips/front-1723649006.734685-pegbql-clean.png': 'In the image, there are no people visible. The scene is dominated by residential houses and a street intersection. There are several vehicles parked or moving along the street, including cars and a truck. The vehicles are of various colors and models, but no specific details about the people in the vehicles or their actions can be discerned from this perspective.\\n\\nThe image is taken from a low angle, which gives a view of the street looking up towards the sky. The sky is clear, suggesting it might be a sunny day. The houses have different architectural styles, and there are trees and shrubs lining the streets, adding to the residential feel of the scene.\\n\\nThere are no prominent vehicles or legible text in', '/home/arcyleung/Projects/frigate/media/frigate/clips/front-1723649001.358389-1rj2uw-clean.png': 'In the image, there are two people visible. One person is walking on the sidewalk, wearing a dark-colored top and light-colored pants. The other person is standing on the corner of the street, wearing a light-colored top and dark pants. They appear to be looking towards the camera.\\n\\nProminent vehicles in the scene include a black SUV parked on the left side of the street, a white car parked on the right side of the street, and a white car driving on the right side of the street. There is also a blue mailbox on the corner of the street.\\n\\nThe image is taken from a low angle, looking up towards the sky, which gives a unique perspective of the scene. The sky', '/home/arcyleung/Projects/frigate/media/frigate/clips/front-1723648989.446209-14se1t-clean.png': 'In the image, there are two individuals visible. One person is standing on the sidewalk, wearing a dark-colored top and light-colored pants. They appear to be facing away from the camera, looking towards the street. The other person is walking on the sidewalk, wearing a light-colored top and dark pants. They are facing towards the camera.\\n\\nProminent vehicles in the scene include a black SUV parked on the left side of the street, a white car parked on the right side of the street, and a white car driving on the right side of the street. There is also a blue mailbox on the corner of the street.\\n\\nThe image shows a residential area with houses on both sides of the street. The', '/home/arcyleung/Projects/frigate/media/frigate/clips/front-1723648985.800422-egvnig-clean.png': 'In the image, there are no people visible. The scene is dominated by residential houses and a street intersection. There are several vehicles parked or moving along the street, including cars and a truck. The vehicles are of various colors and models, but no specific details about the people in the vehicles or their actions can be discerned from this perspective.\\n\\nThe image is taken from a ground-level perspective, looking up towards the sky, which gives a slightly distorted view of the scene. The sky is clear, suggesting it might be a sunny day. The houses have different architectural styles, and there are trees and shrubs visible in the front yards. The street is paved, and there are utility poles and w', '/home/arcyleung/Projects/frigate/media/frigate/clips/front-1723648963.407034-wd8w3x-clean.png': 'In the image, there are four individuals walking across a street. They appear to be a family, with two adults and two children. The adults are wearing casual clothing, and the children are dressed in school uniforms, suggesting they might be on their way to or from school.\\n\\nThe family is oriented towards the right side of the image, with the adults leading the way and the children following behind. They are holding hands, indicating a close relationship.\\n\\nProminent vehicles in the scene include a black SUV parked on the left side of the street and a white sedan parked on the right side. There is no legible text visible in the image.\\n\\nThe setting is a residential area with houses on both sides of the', '/home/arcyleung/Projects/frigate/media/frigate/clips/front-1723648960.53453-h1qi3o-clean.png': \"In the image, there are three individuals walking across a residential street. The person leading the group is wearing a red jacket and is holding a child's hand. The child is wearing a blue jacket and is carrying a backpack. The third person is wearing a black jacket and is also holding a child's hand. They are all walking towards the camera.\\n\\nProminent vehicles in the scene include a black SUV parked on the left side of the street and a white car parked on the right side of the street. There is no legible text visible in the image.\\n\\nThe street is lined with residential houses, and there are trees and power lines visible in the background. The sky is clear, suggesting it might be a sun\", '/home/arcyleung/Projects/frigate/media/frigate/clips/front-1723648801.005106-nlw4cj-clean.png': \"In the image, there are no people visible. The scene is dominated by residential houses and a street intersection. There are several vehicles parked or moving along the street, including cars and a truck. The vehicles are of various colors and models, but no specific details about the people in the vehicles or their actions can be discerned from this perspective.\\n\\nThe image is taken from a low angle, which gives a view of the street and houses from the perspective of someone standing on the sidewalk. The sky is clear, suggesting it might be a sunny day. The image is slightly blurred, which could be due to the camera's focus or the movement of the vehicles.\\n\\nThere are no prominent vehicles or legible text in\", '/home/arcyleung/Projects/frigate/media/frigate/clips/front-1723648786.648916-nb4d8y-clean.png': 'In the image, there are no people visible. The scene is dominated by residential houses and a street intersection. There are several vehicles parked or moving along the street, including cars and a truck. The vehicles are of various colors and models, but no specific details about the people in the vehicles or their actions can be discerned from this perspective.\\n\\nProminent vehicles include a white car parked on the right side of the image, and a black SUV parked on the left side. There is no legible text visible in the image. The orientation of the vehicles is such that they are parked or moving along the street, which is typical for a residential area. The image does not provide any information about the clothing of the people in the', '/home/arcyleung/Projects/frigate/media/frigate/clips/front-1723648277.920198-cnfxjf-clean.png': 'In the image, there are no people visible. The scene is dominated by residential houses and a street intersection. There are several cars parked on the street, including a black SUV, a white sedan, and a silver sedan. The vehicles are parked in a manner that suggests a quiet, residential area. There are no people or prominent vehicles in the scene. The image is taken from a perspective that looks down a street, with the houses and vehicles in the foreground and the sky above. There is no legible text or any objects that are out of the ordinary. The image captures a typical day in a suburban neighborhood. ', '/home/arcyleung/Projects/frigate/media/frigate/clips/front-1723648266.509437-15pcp0-clean.png': 'In the image, there are two people visible. One person is walking on the sidewalk, wearing a dark-colored top and dark pants. The other person is standing on the corner of the street, wearing a light-colored top and dark pants. They appear to be looking towards the camera.\\n\\nProminent vehicles in the scene include a black SUV parked on the left side of the street, a white car parked on the right side of the street, and a white car driving on the right side of the street. There is also a blue mailbox on the corner of the street.\\n\\nThe image shows a residential area with houses on both sides of the street. The sky is clear, and the overall scene suggests a typical day', '/home/arcyleung/Projects/frigate/media/frigate/clips/front-1723648139.568657-o0x1q6-clean.png': 'In the image, there is a person walking on the sidewalk. The individual is wearing a dark-colored top and dark pants. They are holding a blue object, which appears to be a bag or a case, and are walking away from the camera.\\n\\nProminent vehicles in the scene include a black SUV parked on the left side of the street, a white car parked on the right side of the street, and a white car driving on the right side of the street. There is also a white car parked on the left side of the street.\\n\\nThe image shows a residential area with houses on both sides of the street. The sky is clear, and the overall scene suggests a typical day in a suburban neighborhood. There', '/home/arcyleung/Projects/frigate/media/frigate/clips/front-1723647942.026403-znma0w-clean.png': 'In the image, there are two individuals visible. One person is standing on the sidewalk, wearing a dark-colored top and light-colored pants. They appear to be facing away from the camera, looking towards the street. The other person is walking on the sidewalk, wearing a light-colored top and dark pants. They are facing towards the camera.\\n\\nProminent vehicles in the scene include a black SUV parked on the street, a white car parked on the street, and a white car driving on the street. There is also a blue mailbox on the sidewalk.\\n\\nThe image shows a residential street with houses on both sides. The sky is clear, suggesting it might be a sunny day. The street is lined with', '/home/arcyleung/Projects/frigate/media/frigate/clips/front-1723647902.003485-mdguem-clean.png': 'In the image, there are no people visible. The scene is dominated by residential houses and a street intersection. There are several cars parked along the street, and a few vehicles are visible on the road. The cars are of various colors and models, but no specific details about the people in the cars or their actions can be discerned from this image.\\n\\nProminent vehicles include a white car parked on the right side of the image, and a black car parked on the left side. There is no legible text visible in the image. The orientation of the objects is such that the houses are on the left side of the image, and the street intersection is in the center. The cars are parked along the street, which runs parallel', '/home/arcyleung/Projects/frigate/media/frigate/clips/front-1723647814.91924-x8yz46-clean.png': 'In the image, there is a person walking a dog on a leash. The person is wearing a dark-colored top and shorts, and they are facing away from the camera, so their face is not visible. The dog appears to be a medium-sized breed with a short coat, and it is walking on the sidewalk.\\n\\nThe person and the dog are in the foreground of the image, with the person positioned slightly to the left of the dog. They are walking towards the right side of the image.\\n\\nIn the background, there are several parked cars and a truck. The cars are of various colors and models, and they are parked along the street. There is no legible text visible in the image.\\n', '/home/arcyleung/Projects/frigate/media/frigate/clips/front-1723647810.500832-4upg4j-clean.png': 'In the image, there is a person walking a dog on a leash. The person is wearing a dark-colored top and shorts, and they are facing away from the camera, so their face is not visible. The dog is a medium-sized breed with a brown coat.\\n\\nThe person and the dog are on a sidewalk, and the dog is walking on the grass next to the sidewalk. The person is holding the leash with both hands, and the dog appears to be walking calmly.\\n\\nProminent vehicles in the scene include several cars parked along the street. There is also a truck parked in a driveway. The text \"100\" is visible on the side of a car, which could be a', '/home/arcyleung/Projects/frigate/media/frigate/clips/front-1723647789.436871-3tiutz-clean.png': 'In the image, there are two individuals visible. One person is standing on the sidewalk near the curb, wearing a dark-colored top and dark pants. The other person is standing on the grassy area near the curb, wearing a light-colored top and dark pants. They appear to be engaged in conversation or observing something.\\n\\nProminent vehicles in the scene include a black SUV parked on the street, a white car parked on the grassy area, and a white car driving on the street. There is no legible text visible in the image.\\n\\nThe orientation of the people is such that the person standing on the sidewalk is facing the camera, while the person standing on the grassy area is facing away', '/home/arcyleung/Projects/frigate/media/frigate/clips/front-1723647786.066178-q1jj2b-clean.png': 'In the image, there are two individuals visible. One person is standing on the sidewalk near the curb, wearing a dark-colored top and dark pants. The other person is standing on the grassy area near the curb, wearing a light-colored top and dark pants. They appear to be engaged in conversation or observing something.\\n\\nProminent vehicles in the scene include a black SUV parked on the street, a white car parked on the street, and a white car parked in a driveway. There is also a blue mailbox on the sidewalk.\\n\\nThe image shows a residential street with houses on both sides. The sky is clear, and the overall scene suggests a quiet, suburban neighborhood. There is no', '/home/arcyleung/Projects/frigate/media/frigate/clips/front-1723647766.00012-2jf8zd-clean.png': 'In the image, there are two individuals visible. One person is standing on the sidewalk near the curb, wearing a dark-colored top and light-colored pants. The other person is walking on the sidewalk, wearing a light-colored top and dark pants. They are both facing away from the camera, so their identities are not visible.\\n\\nProminent vehicles in the scene include a black SUV parked on the street, a white car parked on the street, and a white car driving on the street. There is also a blue mailbox on the sidewalk near the curb.\\n\\nThe image shows a residential street with houses on both sides. The sky is clear, suggesting it might be a sunny day. The street', '/home/arcyleung/Projects/frigate/media/frigate/clips/front-1723647753.251279-pwj447-clean.png': 'In the image, there are two individuals visible. One person is standing on the sidewalk near the curb, wearing a dark-colored top and dark pants. The other person is walking on the sidewalk, wearing a light-colored top and dark pants. They are both facing away from the camera, so their identities are not visible.\\n\\nProminent vehicles in the scene include a black SUV parked on the street, a white car parked on the street, and a white car parked in a driveway. There is also a blue mailbox on the sidewalk near the curb.\\n\\nThe image shows a residential street with houses on both sides. The sky is clear, suggesting it might be a sunny day. The street appears', '/home/arcyleung/Projects/frigate/media/frigate/clips/front-1723647749.700306-6hx7g8-clean.png': 'In the image, there are no people visible. The scene is dominated by residential houses and a street intersection. There are several vehicles parked or moving along the street, including cars and a truck. The vehicles are of various colors and models, but no specific details about them are discernible.\\n\\nThe street is lined with utility poles and wires, and there are trees and shrubs that add greenery to the scene. The sky is clear, suggesting a sunny day. The image is taken from a perspective that looks down the street, providing a view of the intersection and the houses on either side.\\n\\nThere are no people, vehicles, or other objects that stand out as particularly prominent or unusual. The image', '/home/arcyleung/Projects/frigate/media/frigate/clips/front-1723647733.93669-hkefky-clean.png': 'In the image, there are two individuals visible. One person is standing on the sidewalk, wearing a dark-colored top and dark pants, and appears to be looking towards the camera. The other person is walking on the sidewalk, wearing a light-colored top and dark pants, and is facing away from the camera.\\n\\nProminent vehicles in the scene include a black SUV parked on the left side of the street, a white car parked on the right side of the street, and a white car driving on the right side of the street. There is also a blue mailbox on the corner of the street.\\n\\nThe image shows a residential street with houses on both sides. The sky is clear, and the overall scene suggests a', '/home/arcyleung/Projects/frigate/media/frigate/clips/front-1723647730.148065-ltg61k-clean.png': 'In the image, there are two individuals visible. One person is standing on the sidewalk, wearing a dark-colored top and light-colored pants. They appear to be facing away from the camera, looking towards the street. The other person is walking on the sidewalk, wearing a light-colored top and dark pants. They are facing towards the camera.\\n\\nProminent vehicles in the scene include a black SUV parked on the street, a white car parked on the street, and a white car driving on the street. There is also a blue mailbox on the sidewalk.\\n\\nThe image shows a residential street with houses on both sides. The sky is clear, suggesting it might be a sunny day. The street is lined with', '/home/arcyleung/Projects/frigate/media/frigate/clips/front-1723647412.620328-knfhwe-clean.png': 'In the image, there are two individuals visible. One person is standing on the sidewalk, wearing a dark-colored top and light-colored pants. They appear to be facing away from the camera, looking towards the street. The other person is walking on the sidewalk, wearing a light-colored top and dark pants. They are facing towards the camera.\\n\\nProminent vehicles in the scene include a black SUV parked on the left side of the street, a white car parked on the right side of the street, and a white car driving on the right side of the street. There is also a blue mailbox on the corner of the street.\\n\\nThe image shows a residential street with houses on both sides. The sky is clear', '/home/arcyleung/Projects/frigate/media/frigate/clips/front-1723647404.737886-ices95-clean.png': 'In the image, there are two individuals walking across a street. They appear to be a man and a woman, both dressed in casual attire. The man is wearing a dark-colored t-shirt and jeans, while the woman is wearing a light-colored blouse and dark pants. They are holding hands and seem to be engaged in a conversation.\\n\\nProminent vehicles in the scene include a black SUV parked on the left side of the street and a white sedan parked on the right side of the street. There is also a blue mailbox on the corner of the street.\\n\\nThe street itself is a residential area with houses on both sides. The sky is clear, suggesting it might be a sunny day. The', '/home/arcyleung/Projects/frigate/media/frigate/clips/front-1723645265.064465-wvnlh9-clean.png': 'In the image, there are two individuals who appear to be walking on the sidewalk. One person is wearing a dark-colored top and dark pants, while the other is wearing a light-colored top and dark pants. They are walking away from the camera, and their orientation suggests they are moving towards the right side of the image.\\n\\nProminent vehicles in the scene include a black SUV parked on the left side of the street, a white car parked on the right side of the street, and a white car driving on the right side of the street. There is also a blue mailbox on the corner of the street.\\n\\nThe image does not contain any legible text or any objects that are out of the ordinary. The', '/home/arcyleung/Projects/frigate/media/frigate/clips/front-1723645258.638511-7ejukj-clean.png': 'In the image, there are two individuals who appear to be engaged in an activity. One person is wearing a dark-colored jacket and is riding a bicycle, while the other person is wearing a red jacket and is walking alongside the cyclist. The cyclist is holding a blue object, which could be a bag or a container, and the walker is holding a white object, which could be a bag or a container as well.\\n\\nProminent vehicles in the scene include a black SUV and a white sedan. There is no legible text visible in the image. The orientation of the people and vehicles suggests a residential area with houses, trees, and a street corner. The cyclist and walker are moving in the same', '/home/arcyleung/Projects/frigate/media/frigate/clips/front-1723645257.019242-zrlgbq-clean.png': 'In the image, there is a person riding a motorcycle on a residential street. The rider is wearing a helmet and a long-sleeve shirt, which is not fully visible. The motorcycle is oriented towards the right side of the image.\\n\\nProminent vehicles in the scene include several cars parked along the street. There is a white car in the foreground, and a black SUV is parked further down the street. There is also a blue car parked on the left side of the street.\\n\\nThe street itself is a cul-de-sac, with a curved road leading to a dead end. The sky is clear, suggesting it might be a sunny day. There are no visible texts', '/home/arcyleung/Projects/frigate/media/frigate/clips/front-1723645244.728782-gwxvxp-clean.png': 'In the image, there are two individuals visible. One person is standing on the sidewalk, wearing a red jacket and black pants, and appears to be facing away from the camera, possibly looking at something off-frame. The other person is riding a motorcycle, wearing a black helmet and a black jacket, and is positioned on the left side of the image, near the parked cars.\\n\\nProminent vehicles in the scene include a black SUV parked on the left side of the street, a white car parked on the right side, and a blue mailbox located on the sidewalk. There is no legible text visible in the image.\\n\\nThe orientation of the objects is such that the motorcycle rider is on the left side', '/home/arcyleung/Projects/frigate/media/frigate/clips/front-1723645137.70725-7kzcfu-clean.png': 'In the image, there are several people visible. One individual is standing on the sidewalk, wearing a dark-colored top and dark pants. They appear to be looking towards the street. Another person is walking on the sidewalk, wearing a light-colored top and dark pants. They are facing away from the camera, so their clothing is not fully visible.\\n\\nProminent vehicles in the scene include a black SUV parked on the street, a white car parked on the street, and a white car driving on the street. There is also a blue mailbox on the sidewalk.\\n\\nThe image shows a residential street with houses on both sides. The sky is clear, and the overall scene suggests a typical day in a suburban neighborhood.', '/home/arcyleung/Projects/frigate/media/frigate/clips/front-1723645061.553039-24daem-clean.png': 'In the image, there are no people visible. The scene is dominated by residential houses and a street intersection. There are several vehicles parked or moving along the street, including cars and a truck. The vehicles are various colors and models, but no specific details about them are discernible.\\n\\nThe street is lined with utility poles and wires, and there are trees and shrubs that add greenery to the scene. The sky is clear, suggesting a sunny day. The image is taken from a perspective that looks down the street, providing a view of the intersection and the houses on either side.\\n\\nThere is no text visible in the image, and no people are engaged in any activities that are discernible', '/home/arcyleung/Projects/frigate/media/frigate/clips/front-1723645056.320723-f92g7p-clean.png': 'In the image, there are two individuals visible. One person is walking on the sidewalk, wearing a dark-colored top and dark pants. The other person is standing on the corner of the street, wearing a red top and dark pants. They appear to be waiting or observing something.\\n\\nProminent vehicles in the scene include a black SUV parked on the left side of the street, a white car parked on the right side of the street, and a white car driving on the right side of the street. There is also a blue mailbox on the corner of the street.\\n\\nThe image shows a residential area with houses, trees, and a clear blue sky. The street is curved, and there are no visible texts', '/home/arcyleung/Projects/frigate/media/frigate/clips/front-1723644816.077748-fz6815-clean.png': \"In the image, there are no people visible. The scene is dominated by residential houses and a street intersection. There are several vehicles parked or moving along the street, including cars and a truck. The vehicles are of various colors and models, but no specific details about the people in the vehicles or their actions can be discerned from this perspective.\\n\\nThe image is taken from a ground-level perspective, looking up towards the sky, which gives a sense of the street's layout and the positioning of the vehicles. The sky is clear, suggesting it might be a sunny day. The houses have different architectural styles, and there are trees and shrubs that add to the residential feel of the scene.\\n\\nThere\", '/home/arcyleung/Projects/frigate/media/frigate/clips/front-1723644804.150089-4w87of-clean.png': \"In the image, there are two individuals visible. One person is standing on the sidewalk, wearing a dark-colored top and red pants. They appear to be facing away from the camera, and it's not clear what they are holding or what they are doing. The other person is walking on the sidewalk, wearing a dark-colored top and dark pants. They are facing towards the camera.\\n\\nProminent vehicles in the scene include a black SUV parked on the left side of the street, a white car parked on the right side of the street, and a white car driving on the right side of the street. There is no legible text visible in the image.\\n\\nThe scene is an ordinary residential street with houses,\", '/home/arcyleung/Projects/frigate/media/frigate/clips/front-1723644802.497045-dd120m-clean.png': 'In the image, there is a person walking on the sidewalk. The individual is wearing a red top and dark pants. They are walking away from the camera, moving towards the right side of the image. The person appears to be carrying a blue bag in their left hand.\\n\\nProminent vehicles in the scene include a black SUV parked on the left side of the street, a white car parked on the right side of the street, and a white car driving on the right side of the street. There is also a blue mailbox on the corner of the street.\\n\\nThe image shows a residential area with houses on both sides of the street. The sky is clear, suggesting it might be a sunny day. The overall scene', '/home/arcyleung/Projects/frigate/media/frigate/clips/front-1723644736.67921-04815x-clean.png': 'In the image, there are several people visible. One individual is wearing a dark-colored top and is standing on the sidewalk, facing away from the camera. Another person is wearing a light-colored top and is standing on the grassy area near the sidewalk, also facing away from the camera. There is no clear indication of what they are holding or what they appear to be doing.\\n\\nProminent vehicles in the scene include a black SUV parked on the street, a white car parked on the grassy area, and a white car driving on the street. There is no legible text visible in the image.\\n\\nThe scene is an ordinary residential street with houses, trees, and utility poles. The orientation of the people', '/home/arcyleung/Projects/frigate/media/frigate/clips/front-1723644703.293994-7uqsw0-clean.png': \"In the image, there are no people visible. The scene is dominated by residential houses and a street intersection. There are several vehicles parked or moving along the street, including cars and a truck. The vehicles are various colors and models, but no specific details about the people in the vehicles or their actions can be discerned from this perspective.\\n\\nThe image is taken from a ground-level perspective, looking up towards the sky, which gives a sense of the street's layout and the positioning of the vehicles. The sky is clear, suggesting it might be a sunny day. The houses have different architectural styles, and there are trees and shrubs visible, adding to the residential feel of the scene.\\n\\nThere\", '/home/arcyleung/Projects/frigate/media/frigate/clips/front-1723644700.556841-mfv8r0-clean.png': 'In the image, there are two individuals standing on the sidewalk. One person is wearing a dark-colored jacket and a light-colored hat, while the other person is wearing a dark-colored jacket and a light-colored cap. They appear to be engaged in a conversation or possibly observing something in the distance.\\n\\nProminent vehicles in the scene include a black SUV parked on the street, a white car parked on the grass, and a white car driving on the street. There is also a blue mailbox on the sidewalk.\\n\\nThe image shows a residential area with houses, trees, and power lines. The sky is clear, suggesting it might be a sunny day. The overall scene is typical of a suburban', '/home/arcyleung/Projects/frigate/media/frigate/clips/front-1723644699.976474-sqsn12-clean.png': 'In the image, there are two individuals walking on the sidewalk. The person on the left is wearing a black helmet and a black jacket, and they are holding a red and black motorcycle. The person on the right is wearing a white helmet and a white jacket, and they are holding a blue and white motorcycle. They appear to be walking towards the camera.\\n\\nProminent vehicles in the scene include a black SUV parked on the left side of the street, a white car parked on the right side of the street, and a white car driving on the street. There is no legible text visible in the image. The orientation of the people and vehicles suggests a typical urban scene with pedestrians and vehicles coexisting in a', '/home/arcyleung/Projects/frigate/media/frigate/clips/front-1723644695.072891-gkzl01-clean.png': 'In the image, there are two individuals standing on the sidewalk near the curb. One person is wearing a dark-colored jacket and pants, while the other is wearing a light-colored jacket and dark pants. They appear to be engaged in a conversation or possibly observing something in the distance.\\n\\nProminent vehicles in the scene include a black SUV parked on the street, a white car parked on the driveway, and a white car driving on the street. There is also a blue mailbox on the sidewalk near the curb.\\n\\nThe image shows a residential street with houses on both sides. The sky is clear, suggesting it might be a sunny day. The street is lined with trees, and there are power', '/home/arcyleung/Projects/frigate/media/frigate/clips/front-1723644681.854829-cxixqy-clean.png': 'In the image, there are several people visible. One individual is wearing a dark-colored jacket and is standing near a blue trash can, which is placed on the sidewalk. This person appears to be looking towards the camera. Another person is wearing a white shirt and is standing near a white car, which is parked on the street. This individual seems to be looking in the opposite direction of the first person.\\n\\nThere are no prominent vehicles or legible text in the scene. The vehicles are parked and stationary, and there is no text visible in the image. The people are engaged in typical activities, such as standing and looking around, which is not extraordinary. The image captures a typical residential street scene. ', '/home/arcyleung/Projects/frigate/media/frigate/clips/front-1723644515.655756-lfif6h-clean.png': 'In the image, there are no people visible. The scene is dominated by parked cars and a residential street. The cars are of various models and colors, and they are parked on both sides of the street. There are no people or their actions visible in this image. The focus is on the vehicles and the residential setting. ', '/home/arcyleung/Projects/frigate/media/frigate/clips/front-1723644498.522691-mshgmb-clean.png': \"In the image, there are no people visible. The scene is dominated by residential houses and a street intersection. There are several vehicles parked or moving along the street, including cars and a truck. The vehicles are of various colors and models, but no specific details about the people in the vehicles or their actions can be discerned from this perspective.\\n\\nThe image is taken from a ground-level perspective, looking up towards the sky, which gives a sense of the street's layout and the positioning of the vehicles. The sky is clear, suggesting it might be a sunny day. The houses have different architectural styles, and there are trees and shrubs visible, adding to the residential feel of the scene.\\n\\n\", '/home/arcyleung/Projects/frigate/media/frigate/clips/front-1723644338.441205-out0ao-clean.png': 'In the scene, there is a person standing on the sidewalk, wearing a white t-shirt, a baseball cap with a logo on the front, and a backpack. The person appears to be looking towards the street.\\n\\nProminent vehicles in the scene include a red car parked on the street, and a white car parked in a driveway. There is also a black SUV parked in a driveway.\\n\\nThe street is lined with houses, and there are utility poles and wires visible. The sky is clear, suggesting it might be a sunny day. The person on the sidewalk seems to be waiting or observing something in the street. ', '/home/arcyleung/Projects/frigate/media/frigate/clips/front-1723643470.666109-a18aph-clean.png': 'In the image, there are two people visible. One person is walking on the sidewalk, wearing a light-colored top and dark pants. The other person is standing on the corner of the street, wearing a dark top and light-colored pants. They appear to be looking towards the camera.\\n\\nProminent vehicles in the scene include a red car parked on the street and a white car parked in a driveway. There is also a blue trash can visible on the sidewalk.\\n\\nThe image shows a residential street with houses on both sides. The sky is clear, and the overall scene suggests a typical day in a suburban neighborhood. There is no text legible in the image. ', '/home/arcyleung/Projects/frigate/media/frigate/clips/front-1723643138.401201-p271ti-clean.png': 'In the image, there are no people visible. The scene is dominated by parked cars and a residential street. The cars are of various colors and models, and they are parked on both sides of the street. There are no people or prominent vehicles in the foreground, and no legible text is visible. The orientation of the objects is such that the cars are parked parallel to the curb, and the street appears to be a cul-de-sac with a circular driveway at the end. The sky is clear, suggesting it might be a sunny day. The image does not contain any extraordinary elements; it is a typical suburban street scene. ', '/home/arcyleung/Projects/frigate/media/frigate/clips/front-1723643129.442524-yncjra-clean.png': 'In the image, there is a person walking on the sidewalk. The individual is wearing a dark-colored t-shirt and dark shorts. They are facing away from the camera, so their face is not visible. The person is holding a blue object in their right hand, but it is not clear what the object is.\\n\\nProminent vehicles in the scene include a red car parked on the street and a white car parked in a driveway. There is also a black SUV parked in a driveway. The street is lined with parked cars, and there are utility poles visible.\\n\\nThe image is taken from a high angle, looking down on the street and sidewalk. The sky is clear, suggesting it might be a sun', '/home/arcyleung/Projects/frigate/media/frigate/clips/front-1723642206.199755-033isi-clean.png': \"In the image, there is a person walking on the sidewalk. The individual is wearing a blue shirt and dark shorts. They appear to be looking towards the street, possibly observing the traffic or the parked cars.\\n\\nProminent vehicles in the scene include a red car parked on the left side of the street and a white car parked on the right side of the street. There are also several other cars parked along the street.\\n\\nThe person is holding a blue object, which could be a bag or a container, but it's not clear from the image what exactly it is.\\n\\nThe image shows a residential area with houses on both sides of the street. The sky is clear, suggesting it might be a sunny day\", '/home/arcyleung/Projects/frigate/media/frigate/clips/front-1723642146.003359-sztk1v-clean.png': 'In the image, there is a person walking on the sidewalk. The individual is wearing a dark-colored cap and a dark-colored t-shirt. They are holding a blue object in their right hand, which appears to be a container of some sort. The person is walking away from the camera, and their back is facing the viewer.\\n\\nProminent vehicles in the scene include a red car and a white car. The red car is parked on the side of the street, and the white car is driving on the road. There is no legible text visible in the image.\\n\\nThe scene is an urban residential area with houses, trees, and power lines. The sky is clear, suggesting it might be a sunny', '/home/arcyleung/Projects/frigate/media/frigate/clips/front-1723641724.498678-7ozw50-clean.png': 'In the scene, there is a person who appears to be running. They are wearing a light-colored top and dark shorts, and they are holding a blue object that could be a water bottle. The person is oriented towards the left side of the image, and they are running on the sidewalk.\\n\\nProminent vehicles in the scene include a red car and a white car. The red car is parked on the right side of the image, and the white car is parked on the left side. There is no legible text visible in the image.\\n\\nThe scene depicts a residential area with houses, trees, and power lines. The person running is the main focus of the image, and their actions suggest they might be exerc', '/home/arcyleung/Projects/frigate/media/frigate/clips/front-1723641202.784093-qt3a9t-clean.png': 'In the image, there is a person walking on the sidewalk. The individual is wearing a light-colored top and dark pants. They are holding a blue object, which could be a bag or a container, and appear to be walking towards the camera.\\n\\nProminent vehicles in the scene include a red car parked on the left side of the street and a white car parked on the right side of the street. There is also a black SUV parked on the left side of the street.\\n\\nThe image shows a residential area with houses, trees, and power lines. The sky is clear, suggesting it might be a sunny day. There are no visible texts or distinctive brands in the image. The orientation of the person walking is', '/home/arcyleung/Projects/frigate/media/frigate/clips/front-1723641183.399701-m6158u-clean.png': 'In the image, there is a person walking on the sidewalk. The individual is wearing a light-colored top and dark pants. They are facing away from the camera, so their face is not visible. The person appears to be walking in the same direction as the traffic flow on the street.\\n\\nProminent vehicles in the scene include a red car parked on the left side of the street and a white car parked on the right side of the street. There is also a black SUV parked on the left side of the street.\\n\\nThe image shows a residential area with houses on both sides of the street. The sky is clear, suggesting it might be a sunny day. There are no visible texts or distinctive markings on the', '/home/arcyleung/Projects/frigate/media/frigate/clips/front-1723640789.890987-ovkklj-clean.png': 'In the scene, there is a person walking on the sidewalk. The individual is wearing a yellow safety vest, which stands out against the backdrop of the residential area. They are holding a blue object, which could be a bag or a container of some sort. The person appears to be walking away from the camera, moving towards the right side of the image.\\n\\nProminent vehicles in the scene include a red car parked on the left side of the street and a white car parked on the right side of the street. There is also a black SUV parked on the left side of the street.\\n\\nThe residential area features two-story houses with white walls and brown roofs. The houses have windows and doors, and there are', '/home/arcyleung/Projects/frigate/media/frigate/clips/front-1723640785.55694-r2z1oo-clean.png': 'In the image, there is a person walking on the sidewalk. The individual is wearing a dark-colored top and light-colored pants. They are holding a bag in their right hand and appear to be walking towards the camera.\\n\\nProminent vehicles in the scene include a red car parked on the left side of the street and a white car parked on the right side of the street. There is also a blue car parked on the left side of the street.\\n\\nThe person is walking away from the red car and towards the white car. The orientation of the person with respect to the vehicles suggests they are moving from the red car towards the white car.\\n\\nThere is no legible text visible in the image. ', '/home/arcyleung/Projects/frigate/media/frigate/clips/front-1723639585.092566-4cl30f-clean.png': 'In the scene, there is a person standing in the middle of the street, holding a blue cooler. The person is wearing a white tank top and dark shorts. They appear to be looking towards the camera.\\n\\nProminent vehicles in the scene include a black SUV parked on the left side of the street, a white car parked on the right side of the street, and a white van parked on the right side of the street. There is also a red car parked on the left side of the street.\\n\\nThe street is lined with houses on both sides, and there are power lines running above the street. The sky is clear, suggesting it might be a sunny day. The overall orientation of the objects is that the', '/home/arcyleung/Projects/frigate/media/frigate/clips/front-1723639579.034347-3swcdz-clean.png': 'In the scene, there is a person walking on the sidewalk. The individual is wearing a gray shirt and dark pants. They are holding a blue object, which appears to be a container or a box, and are walking towards the camera.\\n\\nProminent vehicles in the scene include a red car parked on the street and a white car parked in a driveway. There is also a black SUV parked on the street.\\n\\nThe person is walking away from the red car and towards the white car. The orientation of the person with respect to the vehicles suggests they are moving from the red car towards the white car.\\n\\nThere is no legible text visible in the image. ', '/home/arcyleung/Projects/frigate/media/frigate/clips/front-1723639016.790004-kneprd-clean.png': 'In the scene, there is a person walking on the sidewalk. The individual is wearing a light-colored top and dark pants. They are holding a blue object, which could be a bag or a container of some sort. The person appears to be walking away from the camera, moving towards the right side of the image.\\n\\nProminent vehicles in the scene include a black SUV parked on the left side of the street, and a white sedan parked on the right side of the street. There is also a red car parked on the left side of the street.\\n\\nThe scene is taken from a high angle, looking down on the street and the surrounding area. The street is lined with houses and trees, and there are power lines', '/home/arcyleung/Projects/frigate/media/frigate/clips/front-1723638918.473673-hwjy38-clean.png': 'In the image, there are two individuals who appear to be engaged in an activity. One person is wearing a dark-colored top and shorts, and the other is wearing a light-colored top and dark shorts. They are walking in the same direction, away from the camera, and they are holding what looks like a small, portable object, possibly a pet carrier or a piece of sports equipment.\\n\\nThe vehicles in the scene include several cars parked along the street. There is a red car in the foreground, and a white car is visible in the background. The cars are parked in a residential area, and there are no visible texts or distinctive features that would make them stand out.\\n\\nThe scene is an everyday residential street with', '/home/arcyleung/Projects/frigate/media/frigate/clips/front-1723637550.205885-4mck1w-clean.png': 'In the image, there is a person walking on the sidewalk. The individual is wearing a dark-colored top and dark pants. They are facing away from the camera, so their face is not visible. The person appears to be walking towards the right side of the image.\\n\\nProminent vehicles in the scene include a red car parked on the left side of the street and a white van parked on the right side of the street. There is also a black SUV parked on the left side of the street.\\n\\nThe image shows a residential area with houses and trees. The sky is clear, suggesting it might be a sunny day. There are no visible texts or distinctive markings on the vehicles that are legible in the image', '/home/arcyleung/Projects/frigate/media/frigate/clips/front-1723637478.62778-ln5woy-clean.png': 'In the image, there are no people visible. The scene is dominated by parked cars and a residential street. The cars are of various models and colors, and there are no people or distinctive clothing visible in the image. The orientation of the objects is such that the cars are parked on the side of the street, and the street itself curves to the left. There are no people holding anything or engaging in any activities that are visible in the image. The image is taken from a perspective that is slightly elevated, looking down on the street and the parked cars. There is no legible text or prominent vehicles in the image. ', '/home/arcyleung/Projects/frigate/media/frigate/clips/front-1723636626.359516-sed06n-clean.png': 'In the image, there are two individuals visible. One person is standing on the sidewalk near the curb, wearing a white long-sleeve shirt and dark pants. They appear to be looking towards the street. The other person is walking on the sidewalk, wearing a dark-colored long-sleeve shirt and dark pants. They are holding a blue object, which could be a bag or a container, and are looking down at the ground.\\n\\nProminent vehicles in the scene include a black SUV parked on the street, a white car parked on the street, and a white car parked in a driveway. There is no legible text visible in the image. The orientation of the people and vehicles suggests a typical residential', '/home/arcyleung/Projects/frigate/media/frigate/clips/front-1723636044.483085-9x2sdg-clean.png': 'In the image, there is a person walking on the sidewalk. The individual is wearing a white shirt and dark pants. They are holding a pink object, which appears to be a tennis racket. The person is walking away from the camera, and their orientation is towards the left side of the image.\\n\\nProminent vehicles in the scene include a black SUV parked on the left side of the street and a white car parked on the right side of the street. There is no legible text visible in the image.\\n\\nThe scene depicts a residential area with houses, trees, and power lines. The sky is clear, suggesting it might be a sunny day. The overall atmosphere of the image is calm and everyday, with', '/home/arcyleung/Projects/frigate/media/frigate/clips/front-1723634062.68797-6qzduh-clean.png': 'In the image, there is a person walking on the sidewalk. The individual is wearing a dark-colored top and dark pants. They are holding a blue object, which appears to be a container or a bag, and are walking away from the camera.\\n\\nThe scene is set in a residential area with houses on both sides of the street. The sky is clear, suggesting it might be late afternoon or early evening. There are several cars parked along the street, and a few are moving. The cars are various models and colors, and there is no legible text visible in the image.\\n\\nThe person walking is oriented towards the right side of the image, and they are walking in the same direction as the cars on the street', '/home/arcyleung/Projects/frigate/media/frigate/clips/front-1723633985.045451-v41ved-clean.png': 'In the image, there is a person walking on the sidewalk. The individual is wearing a dark-colored top and light-colored pants. They are holding a bag in their right hand and appear to be walking towards the camera.\\n\\nProminent vehicles in the scene include a red car parked on the left side of the street and a white car parked on the right side of the street. There is also a blue car parked on the left side of the street.\\n\\nThe image shows a residential area with houses on both sides of the street. The sky is clear, suggesting it might be late afternoon or early evening. There are no visible texts or legible text in the image. The orientation of the objects is typical for a residential street', '/home/arcyleung/Projects/frigate/media/frigate/clips/front-1723633706.046621-nn3d3i-clean.png': \"In the image, there are two individuals visible. One person is standing on the sidewalk, wearing a dark-colored top and light-colored pants. They appear to be facing away from the camera, and it's not clear what they are holding or what they are doing. The other person is walking on the sidewalk, wearing a light-colored top and dark pants. They are facing towards the camera.\\n\\nProminent vehicles in the scene include a white car parked on the street and a black SUV parked in a driveway. There is no legible text visible in the image. The orientation of the people and vehicles is such that the person walking is in the foreground, while the person standing is in the background. The white\", '/home/arcyleung/Projects/frigate/media/frigate/clips/front-1723632861.621463-wdwxu9-clean.png': 'In the image, there is a person walking across the street. The individual is wearing a bright yellow vest, which stands out against the darker clothing typically worn for safety while crossing streets. The person is holding a white object, which appears to be a bag or a package, and is looking to the side, possibly observing the traffic or waiting for the right moment to cross.\\n\\nProminent vehicles in the scene include a large yellow truck, which is parked on the side of the street, and a white car that is driving on the road. The truck is parked in front of a house with a red roof, and the white car is driving on the opposite side of the street.\\n\\nThere is no legible text visible in', '/home/arcyleung/Projects/frigate/media/frigate/clips/front-1723632842.708682-m2n52w-clean.png': 'In the image, there are two individuals who appear to be engaged in some sort of work or maintenance activity. One person is standing in front of a yellow truck, which is parked on the street. This individual is wearing a high-visibility vest, which is a common safety attire for workers in construction or utility fields. The vest is bright yellow with reflective stripes, making the person highly visible against the background.\\n\\nThe second person is standing a bit further away, also wearing a high-visibility vest. This person is holding a blue bucket, which could be used for holding tools or materials.\\n\\nThe yellow truck is a prominent vehicle in the scene. It is a large utility truck, which is typically used for', '/home/arcyleung/Projects/frigate/media/frigate/clips/front-1723630312.981885-vs4r97-clean.png': 'In the image, there are two individuals who appear to be engaged in some activity. One person is wearing a bright orange vest, which is often associated with safety or construction work, and they are walking towards the camera. The other person is wearing a dark-colored jacket and is walking away from the camera, towards the right side of the image.\\n\\nProminent vehicles in the scene include a large red truck, which is parked on the street. There are also several cars parked along the street, and a white car is visible in the foreground.\\n\\nThe image shows a residential area with houses on both sides of the street. The sky is overcast, suggesting either early morning or late afternoon. There are no visible texts or distinctive', '/home/arcyleung/Projects/frigate/media/frigate/clips/front-1723626834.715105-jb2osq-clean.png': 'In the image, there are several people visible. One individual is wearing a dark-colored jacket and is standing on the sidewalk, facing away from the camera. Another person is wearing a light-colored jacket and is walking on the sidewalk, also facing away from the camera.\\n\\nThere are no prominent vehicles or legible text in the image. The people appear to be going about their evening, possibly returning home or heading out for the night. The lighting suggests it is either dusk or nighttime, and the street is illuminated by streetlights. The overall scene is a typical urban nightscape with people and vehicles moving about. ', '/home/arcyleung/Projects/frigate/media/frigate/clips/front-1723615274.087239-f0t9yf-clean.png': \"In the image, there is a person standing on the right side, facing away from the camera. The person is wearing a dark-colored top and dark pants. They appear to be looking towards the left side of the image, possibly observing something outside the frame.\\n\\nIn the foreground, there is a large, round mirror with a reflective surface. The mirror is positioned in such a way that it captures a view of the street outside. Through the mirror, we can see a dark street with a few cars parked or moving along the road. The lighting suggests it might be nighttime.\\n\\nThe mirror's reflection also captures a glimpse of a person walking on the sidewalk, but their face is not visible due\", '/home/arcyleung/Projects/frigate/media/frigate/clips/front-1723605014.277534-3lq63t-clean.png': \"In the image, there are no people visible. The scene is dominated by vehicles, with the most prominent being a car in the foreground, which appears to be in motion. The car's headlights are on, illuminating the road ahead. In the background, there are other vehicles, including a truck, which are also in motion. The lighting suggests it is nighttime, and the streetlights are on, casting a glow on the road and the surrounding area. The image is taken from a perspective that is slightly elevated, looking down on the street. There is no legible text or any other objects that are clearly identifiable. The overall scene depicts a typical nighttime urban street with vehicles in motion. \"}\n"
     ]
    }
   ],
   "source": [
    "\n",
    "print(responses)\n",
    "\n",
    "json.dump(responses, open(f\"transcribed/analyze_{today}.json\", \"w\"))\n"
   ]
  }
 ],
 "metadata": {
  "kernelspec": {
   "display_name": "venv",
   "language": "python",
   "name": "python3"
  },
  "language_info": {
   "codemirror_mode": {
    "name": "ipython",
    "version": 3
   },
   "file_extension": ".py",
   "mimetype": "text/x-python",
   "name": "python",
   "nbconvert_exporter": "python",
   "pygments_lexer": "ipython3",
   "version": "3.12.3"
  }
 },
 "nbformat": 4,
 "nbformat_minor": 2
}
