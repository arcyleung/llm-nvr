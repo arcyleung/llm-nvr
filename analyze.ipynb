{
 "cells": [
  {
   "cell_type": "code",
   "execution_count": 1,
   "metadata": {},
   "outputs": [
    {
     "name": "stdout",
     "output_type": "stream",
     "text": [
      "Tables:\n",
      "migratehistory\n",
      "recordings\n",
      "timeline\n",
      "event\n",
      "regions\n",
      "start_time: 1722739350.902436\n",
      "end_time: 1722825750.902436\n",
      "136 events found\n",
      "['front-1722818479.36576-2y22cv', 'front-1722818476.88936-7k21b5', 'front-1722815507.428464-wxpzlj', 'front-1722815501.166458-xp6bqb', 'front-1722814631.375881-wza9un', 'front-1722814627.028648-0yreg8', 'front-1722812710.037991-93xrxj', 'front-1722812696.283096-oxk84h', 'front-1722812689.273292-jmxlz6', 'front-1722811510.775395-k4dzld', 'front-1722811506.360419-7ubo8b', 'front-1722811330.364074-f4e2rv', 'front-1722810597.211508-od8wmw', 'front-1722810399.889922-2091ah', 'front-1722810399.83827-1pid0u', 'front-1722810397.028705-sf940v', 'front-1722810250.32689-727phi', 'front-1722810217.716625-7ri4uz', 'front-1722810217.201836-ld6ox4', 'front-1722810214.260108-3ac7jr', 'front-1722810212.726919-jufj46', 'front-1722810212.225093-cduplt', 'front-1722810211.889601-2sxwfg', 'front-1722809373.755573-w573qf', 'front-1722809371.221085-g3jfzd', 'front-1722809355.651525-orlg7p', 'front-1722809355.483597-uelekm', 'front-1722809348.147341-115o4u', 'front-1722809187.139019-94ipon', 'front-1722807236.246528-upu4ke', 'front-1722807230.684592-50imak', 'front-1722807216.192457-fac7hb', 'front-1722806905.077282-m5o64m', 'front-1722806898.527802-ytvuhn', 'front-1722806877.806552-3onyle', 'front-1722806877.163411-fj826n', 'front-1722806876.996122-jk67g3', 'front-1722806860.566503-xbs3as', 'front-1722806857.369914-gecwhh', 'front-1722806797.884813-8x6uoo', 'front-1722806795.8036-lam7uf', 'front-1722806702.999045-470t8v', 'front-1722806696.189064-2b8pm0', 'front-1722806660.972531-tan8mr', 'front-1722806637.385544-fhbb1j', 'front-1722806624.781485-2g9qmm', 'front-1722806619.790428-b9s5gg', 'front-1722806581.613767-asoqpp', 'front-1722806457.550563-v21nuf', 'front-1722806454.528605-zx5ugi', 'front-1722805813.204059-q0l7ah', 'front-1722805733.097624-2g2451', 'front-1722805718.439811-sdycte', 'front-1722805715.774576-ujzmym', 'front-1722805611.95682-1z31sw', 'front-1722805092.833008-p1zw0e', 'front-1722805090.704416-9k61yq', 'front-1722804611.36944-pwbjp5', 'front-1722804347.764626-5qchdf', 'front-1722803670.010401-frtsyk', 'front-1722803665.872126-mcp5je', 'front-1722803664.98484-yvcd1z', 'front-1722803487.962145-jfyjs0', 'front-1722803463.632915-9gd958', 'front-1722803448.524397-t31let', 'front-1722802860.45027-zjtf3k', 'front-1722801457.604793-oa36f5', 'front-1722801454.476092-256i1d', 'front-1722800369.856728-6pzjve', 'front-1722800359.074969-k42cu1', 'front-1722800357.0823-7k41ty', 'front-1722800092.486055-jrbsm4', 'front-1722799373.082766-7b3vtf', 'front-1722799365.929691-4lmkmg', 'front-1722799345.821894-f08xik', 'front-1722799033.968697-d6idxo', 'front-1722798908.175004-66gpo1', 'front-1722797260.545888-nzzpm1', 'front-1722797257.133099-otddaz', 'front-1722795894.253328-yz1ywq', 'front-1722795892.394624-c3bt9a', 'front-1722793910.348885-403c63', 'front-1722793488.09179-l5idaf', 'front-1722793449.366451-i8gnds', 'front-1722793443.384229-x97kun', 'front-1722793424.990264-3dvtnu', 'front-1722793009.66488-zgr0ca', 'front-1722793004.35608-6wkpjb', 'front-1722793001.373817-1vpic1', 'front-1722792660.039553-wxdokx', 'front-1722790294.980918-9abyrb', 'front-1722790289.992581-7phait', 'front-1722789481.374154-lusrgg', 'front-1722789283.269898-jydx8n', 'front-1722788453.059519-bb5g5q', 'front-1722787007.676523-yd2jry', 'front-1722786851.985759-7rlo3f', 'front-1722786845.650557-4a53jt', 'front-1722786824.822429-uka084', 'front-1722786389.444566-6kb2xb', 'front-1722786384.348937-5yl5uf', 'front-1722786351.326647-rabnxb', 'front-1722785238.458191-so7sw6', 'front-1722785219.578399-vjqzlu', 'front-1722785186.157532-e83i1p', 'front-1722785184.36829-1a92fs', 'front-1722785178.201483-gfok5q', 'front-1722784280.502125-g19g9j', 'front-1722784275.292545-e9uhki', 'front-1722784262.032369-capbg8', 'front-1722783619.543527-k7f539', 'front-1722782728.513069-nugmmr', 'front-1722782717.976632-b6zvit', 'front-1722782709.215829-pok4k9', 'front-1722782674.162191-pkjoqj', 'front-1722782671.616958-w6hnbq', 'front-1722782236.638288-g9ohab', 'front-1722781193.38171-px66m8', 'front-1722779756.453588-54u22u', 'front-1722779747.411268-7xbrst', 'front-1722779449.239518-tk3ez5', 'front-1722779394.789454-bikgp6', 'front-1722778571.497269-aialv8', 'front-1722778564.496518-ggtljs', 'front-1722778141.151058-5ketz6', 'front-1722778129.109968-qkkmvu', 'front-1722778121.841805-b38ewe', 'front-1722778110.870605-xybcl1', 'front-1722778105.096-coyh66', 'front-1722778102.19413-p2d4ba', 'front-1722777789.631745-o5fde3', 'front-1722777787.016028-ml25s5', 'front-1722776498.849242-h3lkwf', 'front-1722775239.527045-87drix', 'front-1722774172.890696-4okyxc', 'front-1722774172.220247-sguyc2']\n"
     ]
    }
   ],
   "source": [
    "import sqlite3\n",
    "import datetime\n",
    "conn = sqlite3.connect('/home/arcyleung/Projects/frigate/config/frigate.db')\n",
    "cursor = conn.cursor()\n",
    "\n",
    "print(\"Tables:\")\n",
    "for row in cursor.execute(\"SELECT name FROM sqlite_master WHERE type='table';\"):\n",
    "    print(row[0])\n",
    "\n",
    "# Define the start time (now - 24 hours)\n",
    "end_time = datetime.datetime.now()\n",
    "start_time = end_time - datetime.timedelta(hours=24)\n",
    "\n",
    "# print(\"schema:\", cursor.execute(\"SELECT * FROM event\").description)\n",
    "\n",
    "# Read the \"event\" table and filter records with \"start_time\" within the last 24 hours\n",
    "print(\"start_time:\", start_time.timestamp())\n",
    "print(\"end_time:\", end_time.timestamp())\n",
    "cursor.execute(\"SELECT * FROM event WHERE start_time >= :start_time AND start_time <= :end_time\", {'start_time': start_time.timestamp(), 'end_time': end_time.timestamp()})\n",
    "events = cursor.fetchall()\n",
    "\n",
    "# Print the filtered events\n",
    "print(len(events), \"events found\")\n",
    "ids = [ f\"{event[2]}-{event[0]}\" for event in events]\n",
    "# for event in events:\n",
    "#     print(event)\n",
    "#     print(event[0], event[1])\n",
    "print(ids)\n",
    "\n",
    "conn.close()\n"
   ]
  },
  {
   "cell_type": "code",
   "execution_count": 2,
   "metadata": {},
   "outputs": [
    {
     "name": "stdout",
     "output_type": "stream",
     "text": [
      "['/tmp/storage/clips/front-1722818479.36576-2y22cv-clean.png', '/tmp/storage/clips/front-1722818476.88936-7k21b5-clean.png', '/tmp/storage/clips/front-1722815507.428464-wxpzlj-clean.png', '/tmp/storage/clips/front-1722815501.166458-xp6bqb-clean.png', '/tmp/storage/clips/front-1722814631.375881-wza9un-clean.png', '/tmp/storage/clips/front-1722814627.028648-0yreg8-clean.png', '/tmp/storage/clips/front-1722812710.037991-93xrxj-clean.png', '/tmp/storage/clips/front-1722812696.283096-oxk84h-clean.png', '/tmp/storage/clips/front-1722812689.273292-jmxlz6-clean.png', '/tmp/storage/clips/front-1722811510.775395-k4dzld-clean.png', '/tmp/storage/clips/front-1722811506.360419-7ubo8b-clean.png', '/tmp/storage/clips/front-1722811330.364074-f4e2rv-clean.png', '/tmp/storage/clips/front-1722810597.211508-od8wmw-clean.png', '/tmp/storage/clips/front-1722810399.889922-2091ah-clean.png', '/tmp/storage/clips/front-1722810399.83827-1pid0u-clean.png', '/tmp/storage/clips/front-1722810397.028705-sf940v-clean.png', '/tmp/storage/clips/front-1722810250.32689-727phi-clean.png', '/tmp/storage/clips/front-1722810217.716625-7ri4uz-clean.png', '/tmp/storage/clips/front-1722810217.201836-ld6ox4-clean.png', '/tmp/storage/clips/front-1722810214.260108-3ac7jr-clean.png', '/tmp/storage/clips/front-1722810212.726919-jufj46-clean.png', '/tmp/storage/clips/front-1722810212.225093-cduplt-clean.png', '/tmp/storage/clips/front-1722810211.889601-2sxwfg-clean.png', '/tmp/storage/clips/front-1722809373.755573-w573qf-clean.png', '/tmp/storage/clips/front-1722809371.221085-g3jfzd-clean.png', '/tmp/storage/clips/front-1722809355.651525-orlg7p-clean.png', '/tmp/storage/clips/front-1722809355.483597-uelekm-clean.png', '/tmp/storage/clips/front-1722809348.147341-115o4u-clean.png', '/tmp/storage/clips/front-1722809187.139019-94ipon-clean.png', '/tmp/storage/clips/front-1722807236.246528-upu4ke-clean.png', '/tmp/storage/clips/front-1722807230.684592-50imak-clean.png', '/tmp/storage/clips/front-1722807216.192457-fac7hb-clean.png', '/tmp/storage/clips/front-1722806905.077282-m5o64m-clean.png', '/tmp/storage/clips/front-1722806898.527802-ytvuhn-clean.png', '/tmp/storage/clips/front-1722806877.806552-3onyle-clean.png', '/tmp/storage/clips/front-1722806877.163411-fj826n-clean.png', '/tmp/storage/clips/front-1722806876.996122-jk67g3-clean.png', '/tmp/storage/clips/front-1722806860.566503-xbs3as-clean.png', '/tmp/storage/clips/front-1722806857.369914-gecwhh-clean.png', '/tmp/storage/clips/front-1722806797.884813-8x6uoo-clean.png', '/tmp/storage/clips/front-1722806795.8036-lam7uf-clean.png', '/tmp/storage/clips/front-1722806702.999045-470t8v-clean.png', '/tmp/storage/clips/front-1722806696.189064-2b8pm0-clean.png', '/tmp/storage/clips/front-1722806660.972531-tan8mr-clean.png', '/tmp/storage/clips/front-1722806637.385544-fhbb1j-clean.png', '/tmp/storage/clips/front-1722806624.781485-2g9qmm-clean.png', '/tmp/storage/clips/front-1722806619.790428-b9s5gg-clean.png', '/tmp/storage/clips/front-1722806581.613767-asoqpp-clean.png', '/tmp/storage/clips/front-1722806457.550563-v21nuf-clean.png', '/tmp/storage/clips/front-1722806454.528605-zx5ugi-clean.png', '/tmp/storage/clips/front-1722805813.204059-q0l7ah-clean.png', '/tmp/storage/clips/front-1722805733.097624-2g2451-clean.png', '/tmp/storage/clips/front-1722805718.439811-sdycte-clean.png', '/tmp/storage/clips/front-1722805715.774576-ujzmym-clean.png', '/tmp/storage/clips/front-1722805611.95682-1z31sw-clean.png', '/tmp/storage/clips/front-1722805092.833008-p1zw0e-clean.png', '/tmp/storage/clips/front-1722805090.704416-9k61yq-clean.png', '/tmp/storage/clips/front-1722804611.36944-pwbjp5-clean.png', '/tmp/storage/clips/front-1722804347.764626-5qchdf-clean.png', '/tmp/storage/clips/front-1722803670.010401-frtsyk-clean.png', '/tmp/storage/clips/front-1722803665.872126-mcp5je-clean.png', '/tmp/storage/clips/front-1722803664.98484-yvcd1z-clean.png', '/tmp/storage/clips/front-1722803487.962145-jfyjs0-clean.png', '/tmp/storage/clips/front-1722803463.632915-9gd958-clean.png', '/tmp/storage/clips/front-1722803448.524397-t31let-clean.png', '/tmp/storage/clips/front-1722802860.45027-zjtf3k-clean.png', '/tmp/storage/clips/front-1722801457.604793-oa36f5-clean.png', '/tmp/storage/clips/front-1722801454.476092-256i1d-clean.png', '/tmp/storage/clips/front-1722800369.856728-6pzjve-clean.png', '/tmp/storage/clips/front-1722800359.074969-k42cu1-clean.png', '/tmp/storage/clips/front-1722800357.0823-7k41ty-clean.png', '/tmp/storage/clips/front-1722800092.486055-jrbsm4-clean.png', '/tmp/storage/clips/front-1722799373.082766-7b3vtf-clean.png', '/tmp/storage/clips/front-1722799365.929691-4lmkmg-clean.png', '/tmp/storage/clips/front-1722799345.821894-f08xik-clean.png', '/tmp/storage/clips/front-1722799033.968697-d6idxo-clean.png', '/tmp/storage/clips/front-1722798908.175004-66gpo1-clean.png', '/tmp/storage/clips/front-1722797260.545888-nzzpm1-clean.png', '/tmp/storage/clips/front-1722797257.133099-otddaz-clean.png', '/tmp/storage/clips/front-1722795894.253328-yz1ywq-clean.png', '/tmp/storage/clips/front-1722795892.394624-c3bt9a-clean.png', '/tmp/storage/clips/front-1722793910.348885-403c63-clean.png', '/tmp/storage/clips/front-1722793488.09179-l5idaf-clean.png', '/tmp/storage/clips/front-1722793449.366451-i8gnds-clean.png', '/tmp/storage/clips/front-1722793443.384229-x97kun-clean.png', '/tmp/storage/clips/front-1722793424.990264-3dvtnu-clean.png', '/tmp/storage/clips/front-1722793009.66488-zgr0ca-clean.png', '/tmp/storage/clips/front-1722793004.35608-6wkpjb-clean.png', '/tmp/storage/clips/front-1722793001.373817-1vpic1-clean.png', '/tmp/storage/clips/front-1722792660.039553-wxdokx-clean.png', '/tmp/storage/clips/front-1722790294.980918-9abyrb-clean.png', '/tmp/storage/clips/front-1722790289.992581-7phait-clean.png', '/tmp/storage/clips/front-1722789481.374154-lusrgg-clean.png', '/tmp/storage/clips/front-1722789283.269898-jydx8n-clean.png', '/tmp/storage/clips/front-1722788453.059519-bb5g5q-clean.png', '/tmp/storage/clips/front-1722787007.676523-yd2jry-clean.png', '/tmp/storage/clips/front-1722786851.985759-7rlo3f-clean.png', '/tmp/storage/clips/front-1722786845.650557-4a53jt-clean.png', '/tmp/storage/clips/front-1722786824.822429-uka084-clean.png', '/tmp/storage/clips/front-1722786389.444566-6kb2xb-clean.png', '/tmp/storage/clips/front-1722786384.348937-5yl5uf-clean.png', '/tmp/storage/clips/front-1722786351.326647-rabnxb-clean.png', '/tmp/storage/clips/front-1722785238.458191-so7sw6-clean.png', '/tmp/storage/clips/front-1722785219.578399-vjqzlu-clean.png', '/tmp/storage/clips/front-1722785186.157532-e83i1p-clean.png', '/tmp/storage/clips/front-1722785184.36829-1a92fs-clean.png', '/tmp/storage/clips/front-1722785178.201483-gfok5q-clean.png', '/tmp/storage/clips/front-1722784280.502125-g19g9j-clean.png', '/tmp/storage/clips/front-1722784275.292545-e9uhki-clean.png', '/tmp/storage/clips/front-1722784262.032369-capbg8-clean.png', '/tmp/storage/clips/front-1722783619.543527-k7f539-clean.png', '/tmp/storage/clips/front-1722782728.513069-nugmmr-clean.png', '/tmp/storage/clips/front-1722782717.976632-b6zvit-clean.png', '/tmp/storage/clips/front-1722782709.215829-pok4k9-clean.png', '/tmp/storage/clips/front-1722782674.162191-pkjoqj-clean.png', '/tmp/storage/clips/front-1722782671.616958-w6hnbq-clean.png', '/tmp/storage/clips/front-1722782236.638288-g9ohab-clean.png', '/tmp/storage/clips/front-1722781193.38171-px66m8-clean.png', '/tmp/storage/clips/front-1722779756.453588-54u22u-clean.png', '/tmp/storage/clips/front-1722779747.411268-7xbrst-clean.png', '/tmp/storage/clips/front-1722779449.239518-tk3ez5-clean.png', '/tmp/storage/clips/front-1722779394.789454-bikgp6-clean.png', '/tmp/storage/clips/front-1722778571.497269-aialv8-clean.png', '/tmp/storage/clips/front-1722778564.496518-ggtljs-clean.png', '/tmp/storage/clips/front-1722778141.151058-5ketz6-clean.png', '/tmp/storage/clips/front-1722778129.109968-qkkmvu-clean.png', '/tmp/storage/clips/front-1722778121.841805-b38ewe-clean.png', '/tmp/storage/clips/front-1722778110.870605-xybcl1-clean.png', '/tmp/storage/clips/front-1722778105.096-coyh66-clean.png', '/tmp/storage/clips/front-1722778102.19413-p2d4ba-clean.png', '/tmp/storage/clips/front-1722777789.631745-o5fde3-clean.png', '/tmp/storage/clips/front-1722777787.016028-ml25s5-clean.png', '/tmp/storage/clips/front-1722776498.849242-h3lkwf-clean.png', '/tmp/storage/clips/front-1722775239.527045-87drix-clean.png', '/tmp/storage/clips/front-1722774172.890696-4okyxc-clean.png', '/tmp/storage/clips/front-1722774172.220247-sguyc2-clean.png']\n"
     ]
    }
   ],
   "source": [
    "import os\n",
    "\n",
    "def get_filenames(path, ids=None):\n",
    "    filenames = []\n",
    "    if ids is not None:\n",
    "        for id in ids:\n",
    "            filenames.append(os.path.join(path, id) + \"-clean.png\")\n",
    "    else:\n",
    "        for root, dirs, files in os.walk(path):\n",
    "            for file in files:\n",
    "                if file.endswith('-clean.png'):\n",
    "                    filenames.append(os.path.join(root, file))\n",
    "    return filenames\n",
    "\n",
    "filenames = get_filenames('/tmp/storage/clips', ids)\n",
    "print(filenames)"
   ]
  },
  {
   "cell_type": "code",
   "execution_count": 3,
   "metadata": {},
   "outputs": [
    {
     "name": "stderr",
     "output_type": "stream",
     "text": [
      "/home/arcyleung/Projects/llm-nvr/venv/lib/python3.12/site-packages/tqdm/auto.py:21: TqdmWarning: IProgress not found. Please update jupyter and ipywidgets. See https://ipywidgets.readthedocs.io/en/stable/user_install.html\n",
      "  from .autonotebook import tqdm as notebook_tqdm\n",
      "The `load_in_4bit` and `load_in_8bit` arguments are deprecated and will be removed in the future versions. Please, pass a `BitsAndBytesConfig` object in `quantization_config` argument instead.\n",
      "Loading checkpoint shards: 100%|██████████| 4/4 [00:16<00:00,  4.01s/it]\n"
     ]
    }
   ],
   "source": [
    "from transformers import LlavaNextProcessor, LlavaNextForConditionalGeneration\n",
    "import torch\n",
    "\n",
    "processor = LlavaNextProcessor.from_pretrained(\"llava-hf/llava-v1.6-mistral-7b-hf\")\n",
    "\n",
    "model = LlavaNextForConditionalGeneration.from_pretrained(\"llava-hf/llava-v1.6-mistral-7b-hf\", torch_dtype=torch.float16, low_cpu_mem_usage=True, load_in_4bit=True, use_flash_attention_2=False)\n",
    "# model.to(\"cuda:0\")\n",
    "\n",
    "# Define a chat histiry and use `apply_chat_template` to get correctly formatted prompt\n",
    "# Each value in \"content\" has to be a list of dicts with types (\"text\", \"image\")\n",
    "conversation = [\n",
    "    {\n",
    "\n",
    "      \"role\": \"user\",\n",
    "      \"content\": [\n",
    "          {\"type\": \"text\", \"text\": \"Describe any people in the scene, what clothing they are wearing, orientation with other objects, anything they are holding and what do they appear to be doing. Also describe prominent vehicles or legible text, and do not mention anything that shoule be ordinary.\"},\n",
    "          {\"type\": \"image\"},\n",
    "        ],\n",
    "    },\n",
    "]\n",
    "prompt = processor.apply_chat_template(conversation, add_generation_prompt=True)\n"
   ]
  },
  {
   "cell_type": "code",
   "execution_count": 6,
   "metadata": {},
   "outputs": [
    {
     "name": "stderr",
     "output_type": "stream",
     "text": [
      "Setting `pad_token_id` to `eos_token_id`:2 for open-end generation.\n"
     ]
    },
    {
     "name": "stdout",
     "output_type": "stream",
     "text": [
      "1 of 136\n"
     ]
    },
    {
     "name": "stderr",
     "output_type": "stream",
     "text": [
      "Setting `pad_token_id` to `eos_token_id`:2 for open-end generation.\n"
     ]
    },
    {
     "name": "stdout",
     "output_type": "stream",
     "text": [
      "2 of 136\n"
     ]
    },
    {
     "name": "stderr",
     "output_type": "stream",
     "text": [
      "Setting `pad_token_id` to `eos_token_id`:2 for open-end generation.\n"
     ]
    },
    {
     "name": "stdout",
     "output_type": "stream",
     "text": [
      "3 of 136\n"
     ]
    },
    {
     "name": "stderr",
     "output_type": "stream",
     "text": [
      "Setting `pad_token_id` to `eos_token_id`:2 for open-end generation.\n"
     ]
    },
    {
     "name": "stdout",
     "output_type": "stream",
     "text": [
      "4 of 136\n"
     ]
    },
    {
     "name": "stderr",
     "output_type": "stream",
     "text": [
      "Setting `pad_token_id` to `eos_token_id`:2 for open-end generation.\n"
     ]
    },
    {
     "name": "stdout",
     "output_type": "stream",
     "text": [
      "5 of 136\n"
     ]
    },
    {
     "name": "stderr",
     "output_type": "stream",
     "text": [
      "Setting `pad_token_id` to `eos_token_id`:2 for open-end generation.\n"
     ]
    },
    {
     "name": "stdout",
     "output_type": "stream",
     "text": [
      "6 of 136\n"
     ]
    },
    {
     "name": "stderr",
     "output_type": "stream",
     "text": [
      "Setting `pad_token_id` to `eos_token_id`:2 for open-end generation.\n"
     ]
    },
    {
     "name": "stdout",
     "output_type": "stream",
     "text": [
      "7 of 136\n"
     ]
    },
    {
     "name": "stderr",
     "output_type": "stream",
     "text": [
      "Setting `pad_token_id` to `eos_token_id`:2 for open-end generation.\n"
     ]
    },
    {
     "name": "stdout",
     "output_type": "stream",
     "text": [
      "8 of 136\n"
     ]
    },
    {
     "name": "stderr",
     "output_type": "stream",
     "text": [
      "Setting `pad_token_id` to `eos_token_id`:2 for open-end generation.\n"
     ]
    },
    {
     "name": "stdout",
     "output_type": "stream",
     "text": [
      "9 of 136\n"
     ]
    },
    {
     "name": "stderr",
     "output_type": "stream",
     "text": [
      "Setting `pad_token_id` to `eos_token_id`:2 for open-end generation.\n"
     ]
    },
    {
     "name": "stdout",
     "output_type": "stream",
     "text": [
      "10 of 136\n"
     ]
    },
    {
     "name": "stderr",
     "output_type": "stream",
     "text": [
      "Setting `pad_token_id` to `eos_token_id`:2 for open-end generation.\n"
     ]
    },
    {
     "name": "stdout",
     "output_type": "stream",
     "text": [
      "11 of 136\n"
     ]
    },
    {
     "name": "stderr",
     "output_type": "stream",
     "text": [
      "Setting `pad_token_id` to `eos_token_id`:2 for open-end generation.\n"
     ]
    },
    {
     "name": "stdout",
     "output_type": "stream",
     "text": [
      "12 of 136\n"
     ]
    },
    {
     "name": "stderr",
     "output_type": "stream",
     "text": [
      "Setting `pad_token_id` to `eos_token_id`:2 for open-end generation.\n"
     ]
    },
    {
     "name": "stdout",
     "output_type": "stream",
     "text": [
      "13 of 136\n"
     ]
    },
    {
     "name": "stderr",
     "output_type": "stream",
     "text": [
      "Setting `pad_token_id` to `eos_token_id`:2 for open-end generation.\n"
     ]
    },
    {
     "name": "stdout",
     "output_type": "stream",
     "text": [
      "14 of 136\n"
     ]
    },
    {
     "name": "stderr",
     "output_type": "stream",
     "text": [
      "Setting `pad_token_id` to `eos_token_id`:2 for open-end generation.\n"
     ]
    },
    {
     "name": "stdout",
     "output_type": "stream",
     "text": [
      "15 of 136\n"
     ]
    },
    {
     "name": "stderr",
     "output_type": "stream",
     "text": [
      "Setting `pad_token_id` to `eos_token_id`:2 for open-end generation.\n"
     ]
    },
    {
     "name": "stdout",
     "output_type": "stream",
     "text": [
      "16 of 136\n"
     ]
    },
    {
     "name": "stderr",
     "output_type": "stream",
     "text": [
      "Setting `pad_token_id` to `eos_token_id`:2 for open-end generation.\n"
     ]
    },
    {
     "name": "stdout",
     "output_type": "stream",
     "text": [
      "17 of 136\n"
     ]
    },
    {
     "name": "stderr",
     "output_type": "stream",
     "text": [
      "Setting `pad_token_id` to `eos_token_id`:2 for open-end generation.\n"
     ]
    },
    {
     "name": "stdout",
     "output_type": "stream",
     "text": [
      "18 of 136\n"
     ]
    },
    {
     "name": "stderr",
     "output_type": "stream",
     "text": [
      "Setting `pad_token_id` to `eos_token_id`:2 for open-end generation.\n"
     ]
    },
    {
     "name": "stdout",
     "output_type": "stream",
     "text": [
      "19 of 136\n"
     ]
    },
    {
     "name": "stderr",
     "output_type": "stream",
     "text": [
      "Setting `pad_token_id` to `eos_token_id`:2 for open-end generation.\n"
     ]
    },
    {
     "name": "stdout",
     "output_type": "stream",
     "text": [
      "20 of 136\n"
     ]
    },
    {
     "name": "stderr",
     "output_type": "stream",
     "text": [
      "Setting `pad_token_id` to `eos_token_id`:2 for open-end generation.\n"
     ]
    },
    {
     "name": "stdout",
     "output_type": "stream",
     "text": [
      "21 of 136\n"
     ]
    },
    {
     "name": "stderr",
     "output_type": "stream",
     "text": [
      "Setting `pad_token_id` to `eos_token_id`:2 for open-end generation.\n"
     ]
    },
    {
     "name": "stdout",
     "output_type": "stream",
     "text": [
      "22 of 136\n"
     ]
    },
    {
     "name": "stderr",
     "output_type": "stream",
     "text": [
      "Setting `pad_token_id` to `eos_token_id`:2 for open-end generation.\n"
     ]
    },
    {
     "name": "stdout",
     "output_type": "stream",
     "text": [
      "23 of 136\n"
     ]
    },
    {
     "name": "stderr",
     "output_type": "stream",
     "text": [
      "Setting `pad_token_id` to `eos_token_id`:2 for open-end generation.\n"
     ]
    },
    {
     "name": "stdout",
     "output_type": "stream",
     "text": [
      "24 of 136\n"
     ]
    },
    {
     "name": "stderr",
     "output_type": "stream",
     "text": [
      "Setting `pad_token_id` to `eos_token_id`:2 for open-end generation.\n"
     ]
    },
    {
     "name": "stdout",
     "output_type": "stream",
     "text": [
      "25 of 136\n"
     ]
    },
    {
     "name": "stderr",
     "output_type": "stream",
     "text": [
      "Setting `pad_token_id` to `eos_token_id`:2 for open-end generation.\n"
     ]
    },
    {
     "name": "stdout",
     "output_type": "stream",
     "text": [
      "26 of 136\n"
     ]
    },
    {
     "name": "stderr",
     "output_type": "stream",
     "text": [
      "Setting `pad_token_id` to `eos_token_id`:2 for open-end generation.\n"
     ]
    },
    {
     "name": "stdout",
     "output_type": "stream",
     "text": [
      "27 of 136\n"
     ]
    },
    {
     "name": "stderr",
     "output_type": "stream",
     "text": [
      "Setting `pad_token_id` to `eos_token_id`:2 for open-end generation.\n"
     ]
    },
    {
     "name": "stdout",
     "output_type": "stream",
     "text": [
      "28 of 136\n"
     ]
    },
    {
     "name": "stderr",
     "output_type": "stream",
     "text": [
      "Setting `pad_token_id` to `eos_token_id`:2 for open-end generation.\n"
     ]
    },
    {
     "name": "stdout",
     "output_type": "stream",
     "text": [
      "29 of 136\n"
     ]
    },
    {
     "name": "stderr",
     "output_type": "stream",
     "text": [
      "Setting `pad_token_id` to `eos_token_id`:2 for open-end generation.\n"
     ]
    },
    {
     "name": "stdout",
     "output_type": "stream",
     "text": [
      "30 of 136\n"
     ]
    },
    {
     "name": "stderr",
     "output_type": "stream",
     "text": [
      "Setting `pad_token_id` to `eos_token_id`:2 for open-end generation.\n"
     ]
    },
    {
     "name": "stdout",
     "output_type": "stream",
     "text": [
      "31 of 136\n"
     ]
    },
    {
     "name": "stderr",
     "output_type": "stream",
     "text": [
      "Setting `pad_token_id` to `eos_token_id`:2 for open-end generation.\n"
     ]
    },
    {
     "name": "stdout",
     "output_type": "stream",
     "text": [
      "32 of 136\n"
     ]
    },
    {
     "name": "stderr",
     "output_type": "stream",
     "text": [
      "Setting `pad_token_id` to `eos_token_id`:2 for open-end generation.\n"
     ]
    },
    {
     "name": "stdout",
     "output_type": "stream",
     "text": [
      "33 of 136\n"
     ]
    },
    {
     "name": "stderr",
     "output_type": "stream",
     "text": [
      "Setting `pad_token_id` to `eos_token_id`:2 for open-end generation.\n"
     ]
    },
    {
     "name": "stdout",
     "output_type": "stream",
     "text": [
      "34 of 136\n"
     ]
    },
    {
     "name": "stderr",
     "output_type": "stream",
     "text": [
      "Setting `pad_token_id` to `eos_token_id`:2 for open-end generation.\n"
     ]
    },
    {
     "name": "stdout",
     "output_type": "stream",
     "text": [
      "35 of 136\n"
     ]
    },
    {
     "name": "stderr",
     "output_type": "stream",
     "text": [
      "Setting `pad_token_id` to `eos_token_id`:2 for open-end generation.\n"
     ]
    },
    {
     "name": "stdout",
     "output_type": "stream",
     "text": [
      "36 of 136\n"
     ]
    },
    {
     "name": "stderr",
     "output_type": "stream",
     "text": [
      "Setting `pad_token_id` to `eos_token_id`:2 for open-end generation.\n"
     ]
    },
    {
     "name": "stdout",
     "output_type": "stream",
     "text": [
      "37 of 136\n"
     ]
    },
    {
     "name": "stderr",
     "output_type": "stream",
     "text": [
      "Setting `pad_token_id` to `eos_token_id`:2 for open-end generation.\n"
     ]
    },
    {
     "name": "stdout",
     "output_type": "stream",
     "text": [
      "38 of 136\n"
     ]
    },
    {
     "name": "stderr",
     "output_type": "stream",
     "text": [
      "Setting `pad_token_id` to `eos_token_id`:2 for open-end generation.\n"
     ]
    },
    {
     "name": "stdout",
     "output_type": "stream",
     "text": [
      "39 of 136\n"
     ]
    },
    {
     "name": "stderr",
     "output_type": "stream",
     "text": [
      "Setting `pad_token_id` to `eos_token_id`:2 for open-end generation.\n"
     ]
    },
    {
     "name": "stdout",
     "output_type": "stream",
     "text": [
      "40 of 136\n"
     ]
    },
    {
     "name": "stderr",
     "output_type": "stream",
     "text": [
      "Setting `pad_token_id` to `eos_token_id`:2 for open-end generation.\n"
     ]
    },
    {
     "name": "stdout",
     "output_type": "stream",
     "text": [
      "41 of 136\n"
     ]
    },
    {
     "name": "stderr",
     "output_type": "stream",
     "text": [
      "Setting `pad_token_id` to `eos_token_id`:2 for open-end generation.\n"
     ]
    },
    {
     "name": "stdout",
     "output_type": "stream",
     "text": [
      "42 of 136\n"
     ]
    },
    {
     "name": "stderr",
     "output_type": "stream",
     "text": [
      "Setting `pad_token_id` to `eos_token_id`:2 for open-end generation.\n"
     ]
    },
    {
     "name": "stdout",
     "output_type": "stream",
     "text": [
      "43 of 136\n"
     ]
    },
    {
     "name": "stderr",
     "output_type": "stream",
     "text": [
      "Setting `pad_token_id` to `eos_token_id`:2 for open-end generation.\n"
     ]
    },
    {
     "name": "stdout",
     "output_type": "stream",
     "text": [
      "44 of 136\n"
     ]
    },
    {
     "name": "stderr",
     "output_type": "stream",
     "text": [
      "Setting `pad_token_id` to `eos_token_id`:2 for open-end generation.\n"
     ]
    },
    {
     "name": "stdout",
     "output_type": "stream",
     "text": [
      "45 of 136\n"
     ]
    },
    {
     "name": "stderr",
     "output_type": "stream",
     "text": [
      "Setting `pad_token_id` to `eos_token_id`:2 for open-end generation.\n"
     ]
    },
    {
     "name": "stdout",
     "output_type": "stream",
     "text": [
      "46 of 136\n"
     ]
    },
    {
     "name": "stderr",
     "output_type": "stream",
     "text": [
      "Setting `pad_token_id` to `eos_token_id`:2 for open-end generation.\n"
     ]
    },
    {
     "name": "stdout",
     "output_type": "stream",
     "text": [
      "47 of 136\n"
     ]
    },
    {
     "name": "stderr",
     "output_type": "stream",
     "text": [
      "Setting `pad_token_id` to `eos_token_id`:2 for open-end generation.\n"
     ]
    },
    {
     "name": "stdout",
     "output_type": "stream",
     "text": [
      "48 of 136\n"
     ]
    },
    {
     "name": "stderr",
     "output_type": "stream",
     "text": [
      "Setting `pad_token_id` to `eos_token_id`:2 for open-end generation.\n"
     ]
    },
    {
     "name": "stdout",
     "output_type": "stream",
     "text": [
      "49 of 136\n"
     ]
    },
    {
     "name": "stderr",
     "output_type": "stream",
     "text": [
      "Setting `pad_token_id` to `eos_token_id`:2 for open-end generation.\n"
     ]
    },
    {
     "name": "stdout",
     "output_type": "stream",
     "text": [
      "50 of 136\n"
     ]
    },
    {
     "name": "stderr",
     "output_type": "stream",
     "text": [
      "Setting `pad_token_id` to `eos_token_id`:2 for open-end generation.\n"
     ]
    },
    {
     "name": "stdout",
     "output_type": "stream",
     "text": [
      "51 of 136\n"
     ]
    },
    {
     "name": "stderr",
     "output_type": "stream",
     "text": [
      "Setting `pad_token_id` to `eos_token_id`:2 for open-end generation.\n"
     ]
    },
    {
     "name": "stdout",
     "output_type": "stream",
     "text": [
      "52 of 136\n"
     ]
    },
    {
     "name": "stderr",
     "output_type": "stream",
     "text": [
      "Setting `pad_token_id` to `eos_token_id`:2 for open-end generation.\n"
     ]
    },
    {
     "name": "stdout",
     "output_type": "stream",
     "text": [
      "53 of 136\n"
     ]
    },
    {
     "name": "stderr",
     "output_type": "stream",
     "text": [
      "Setting `pad_token_id` to `eos_token_id`:2 for open-end generation.\n"
     ]
    },
    {
     "name": "stdout",
     "output_type": "stream",
     "text": [
      "54 of 136\n"
     ]
    },
    {
     "name": "stderr",
     "output_type": "stream",
     "text": [
      "Setting `pad_token_id` to `eos_token_id`:2 for open-end generation.\n"
     ]
    },
    {
     "name": "stdout",
     "output_type": "stream",
     "text": [
      "55 of 136\n"
     ]
    },
    {
     "name": "stderr",
     "output_type": "stream",
     "text": [
      "Setting `pad_token_id` to `eos_token_id`:2 for open-end generation.\n"
     ]
    },
    {
     "name": "stdout",
     "output_type": "stream",
     "text": [
      "56 of 136\n"
     ]
    },
    {
     "name": "stderr",
     "output_type": "stream",
     "text": [
      "Setting `pad_token_id` to `eos_token_id`:2 for open-end generation.\n"
     ]
    },
    {
     "name": "stdout",
     "output_type": "stream",
     "text": [
      "57 of 136\n"
     ]
    },
    {
     "name": "stderr",
     "output_type": "stream",
     "text": [
      "Setting `pad_token_id` to `eos_token_id`:2 for open-end generation.\n"
     ]
    },
    {
     "name": "stdout",
     "output_type": "stream",
     "text": [
      "58 of 136\n"
     ]
    },
    {
     "name": "stderr",
     "output_type": "stream",
     "text": [
      "Setting `pad_token_id` to `eos_token_id`:2 for open-end generation.\n"
     ]
    },
    {
     "name": "stdout",
     "output_type": "stream",
     "text": [
      "59 of 136\n"
     ]
    },
    {
     "name": "stderr",
     "output_type": "stream",
     "text": [
      "Setting `pad_token_id` to `eos_token_id`:2 for open-end generation.\n"
     ]
    },
    {
     "name": "stdout",
     "output_type": "stream",
     "text": [
      "60 of 136\n"
     ]
    },
    {
     "name": "stderr",
     "output_type": "stream",
     "text": [
      "Setting `pad_token_id` to `eos_token_id`:2 for open-end generation.\n"
     ]
    },
    {
     "name": "stdout",
     "output_type": "stream",
     "text": [
      "61 of 136\n"
     ]
    },
    {
     "name": "stderr",
     "output_type": "stream",
     "text": [
      "Setting `pad_token_id` to `eos_token_id`:2 for open-end generation.\n"
     ]
    },
    {
     "name": "stdout",
     "output_type": "stream",
     "text": [
      "62 of 136\n"
     ]
    },
    {
     "name": "stderr",
     "output_type": "stream",
     "text": [
      "Setting `pad_token_id` to `eos_token_id`:2 for open-end generation.\n"
     ]
    },
    {
     "name": "stdout",
     "output_type": "stream",
     "text": [
      "63 of 136\n"
     ]
    },
    {
     "name": "stderr",
     "output_type": "stream",
     "text": [
      "Setting `pad_token_id` to `eos_token_id`:2 for open-end generation.\n"
     ]
    },
    {
     "name": "stdout",
     "output_type": "stream",
     "text": [
      "64 of 136\n"
     ]
    },
    {
     "name": "stderr",
     "output_type": "stream",
     "text": [
      "Setting `pad_token_id` to `eos_token_id`:2 for open-end generation.\n"
     ]
    },
    {
     "name": "stdout",
     "output_type": "stream",
     "text": [
      "65 of 136\n"
     ]
    },
    {
     "name": "stderr",
     "output_type": "stream",
     "text": [
      "Setting `pad_token_id` to `eos_token_id`:2 for open-end generation.\n"
     ]
    },
    {
     "name": "stdout",
     "output_type": "stream",
     "text": [
      "66 of 136\n"
     ]
    },
    {
     "name": "stderr",
     "output_type": "stream",
     "text": [
      "Setting `pad_token_id` to `eos_token_id`:2 for open-end generation.\n"
     ]
    },
    {
     "name": "stdout",
     "output_type": "stream",
     "text": [
      "67 of 136\n"
     ]
    },
    {
     "name": "stderr",
     "output_type": "stream",
     "text": [
      "Setting `pad_token_id` to `eos_token_id`:2 for open-end generation.\n"
     ]
    },
    {
     "name": "stdout",
     "output_type": "stream",
     "text": [
      "68 of 136\n"
     ]
    },
    {
     "name": "stderr",
     "output_type": "stream",
     "text": [
      "Setting `pad_token_id` to `eos_token_id`:2 for open-end generation.\n"
     ]
    },
    {
     "name": "stdout",
     "output_type": "stream",
     "text": [
      "69 of 136\n"
     ]
    },
    {
     "name": "stderr",
     "output_type": "stream",
     "text": [
      "Setting `pad_token_id` to `eos_token_id`:2 for open-end generation.\n"
     ]
    },
    {
     "name": "stdout",
     "output_type": "stream",
     "text": [
      "70 of 136\n"
     ]
    },
    {
     "name": "stderr",
     "output_type": "stream",
     "text": [
      "Setting `pad_token_id` to `eos_token_id`:2 for open-end generation.\n"
     ]
    },
    {
     "name": "stdout",
     "output_type": "stream",
     "text": [
      "71 of 136\n"
     ]
    },
    {
     "name": "stderr",
     "output_type": "stream",
     "text": [
      "Setting `pad_token_id` to `eos_token_id`:2 for open-end generation.\n"
     ]
    },
    {
     "name": "stdout",
     "output_type": "stream",
     "text": [
      "72 of 136\n"
     ]
    },
    {
     "name": "stderr",
     "output_type": "stream",
     "text": [
      "Setting `pad_token_id` to `eos_token_id`:2 for open-end generation.\n"
     ]
    },
    {
     "name": "stdout",
     "output_type": "stream",
     "text": [
      "73 of 136\n"
     ]
    },
    {
     "name": "stderr",
     "output_type": "stream",
     "text": [
      "Setting `pad_token_id` to `eos_token_id`:2 for open-end generation.\n"
     ]
    },
    {
     "name": "stdout",
     "output_type": "stream",
     "text": [
      "74 of 136\n"
     ]
    },
    {
     "name": "stderr",
     "output_type": "stream",
     "text": [
      "Setting `pad_token_id` to `eos_token_id`:2 for open-end generation.\n"
     ]
    },
    {
     "name": "stdout",
     "output_type": "stream",
     "text": [
      "75 of 136\n"
     ]
    },
    {
     "name": "stderr",
     "output_type": "stream",
     "text": [
      "Setting `pad_token_id` to `eos_token_id`:2 for open-end generation.\n"
     ]
    },
    {
     "name": "stdout",
     "output_type": "stream",
     "text": [
      "76 of 136\n"
     ]
    },
    {
     "name": "stderr",
     "output_type": "stream",
     "text": [
      "Setting `pad_token_id` to `eos_token_id`:2 for open-end generation.\n"
     ]
    },
    {
     "name": "stdout",
     "output_type": "stream",
     "text": [
      "77 of 136\n"
     ]
    },
    {
     "name": "stderr",
     "output_type": "stream",
     "text": [
      "Setting `pad_token_id` to `eos_token_id`:2 for open-end generation.\n"
     ]
    },
    {
     "name": "stdout",
     "output_type": "stream",
     "text": [
      "78 of 136\n"
     ]
    },
    {
     "name": "stderr",
     "output_type": "stream",
     "text": [
      "Setting `pad_token_id` to `eos_token_id`:2 for open-end generation.\n"
     ]
    },
    {
     "name": "stdout",
     "output_type": "stream",
     "text": [
      "79 of 136\n"
     ]
    },
    {
     "name": "stderr",
     "output_type": "stream",
     "text": [
      "Setting `pad_token_id` to `eos_token_id`:2 for open-end generation.\n"
     ]
    },
    {
     "name": "stdout",
     "output_type": "stream",
     "text": [
      "80 of 136\n"
     ]
    },
    {
     "name": "stderr",
     "output_type": "stream",
     "text": [
      "Setting `pad_token_id` to `eos_token_id`:2 for open-end generation.\n"
     ]
    },
    {
     "name": "stdout",
     "output_type": "stream",
     "text": [
      "81 of 136\n"
     ]
    },
    {
     "name": "stderr",
     "output_type": "stream",
     "text": [
      "Setting `pad_token_id` to `eos_token_id`:2 for open-end generation.\n"
     ]
    },
    {
     "name": "stdout",
     "output_type": "stream",
     "text": [
      "82 of 136\n"
     ]
    },
    {
     "name": "stderr",
     "output_type": "stream",
     "text": [
      "Setting `pad_token_id` to `eos_token_id`:2 for open-end generation.\n"
     ]
    },
    {
     "name": "stdout",
     "output_type": "stream",
     "text": [
      "83 of 136\n"
     ]
    },
    {
     "name": "stderr",
     "output_type": "stream",
     "text": [
      "Setting `pad_token_id` to `eos_token_id`:2 for open-end generation.\n"
     ]
    },
    {
     "name": "stdout",
     "output_type": "stream",
     "text": [
      "84 of 136\n"
     ]
    },
    {
     "name": "stderr",
     "output_type": "stream",
     "text": [
      "Setting `pad_token_id` to `eos_token_id`:2 for open-end generation.\n"
     ]
    },
    {
     "name": "stdout",
     "output_type": "stream",
     "text": [
      "85 of 136\n"
     ]
    },
    {
     "name": "stderr",
     "output_type": "stream",
     "text": [
      "Setting `pad_token_id` to `eos_token_id`:2 for open-end generation.\n"
     ]
    },
    {
     "name": "stdout",
     "output_type": "stream",
     "text": [
      "86 of 136\n"
     ]
    },
    {
     "name": "stderr",
     "output_type": "stream",
     "text": [
      "Setting `pad_token_id` to `eos_token_id`:2 for open-end generation.\n"
     ]
    },
    {
     "name": "stdout",
     "output_type": "stream",
     "text": [
      "87 of 136\n"
     ]
    },
    {
     "name": "stderr",
     "output_type": "stream",
     "text": [
      "Setting `pad_token_id` to `eos_token_id`:2 for open-end generation.\n"
     ]
    },
    {
     "name": "stdout",
     "output_type": "stream",
     "text": [
      "88 of 136\n"
     ]
    },
    {
     "name": "stderr",
     "output_type": "stream",
     "text": [
      "Setting `pad_token_id` to `eos_token_id`:2 for open-end generation.\n"
     ]
    },
    {
     "name": "stdout",
     "output_type": "stream",
     "text": [
      "89 of 136\n"
     ]
    },
    {
     "name": "stderr",
     "output_type": "stream",
     "text": [
      "Setting `pad_token_id` to `eos_token_id`:2 for open-end generation.\n"
     ]
    },
    {
     "name": "stdout",
     "output_type": "stream",
     "text": [
      "90 of 136\n"
     ]
    },
    {
     "name": "stderr",
     "output_type": "stream",
     "text": [
      "Setting `pad_token_id` to `eos_token_id`:2 for open-end generation.\n"
     ]
    },
    {
     "name": "stdout",
     "output_type": "stream",
     "text": [
      "91 of 136\n"
     ]
    },
    {
     "name": "stderr",
     "output_type": "stream",
     "text": [
      "Setting `pad_token_id` to `eos_token_id`:2 for open-end generation.\n"
     ]
    },
    {
     "name": "stdout",
     "output_type": "stream",
     "text": [
      "92 of 136\n"
     ]
    },
    {
     "name": "stderr",
     "output_type": "stream",
     "text": [
      "Setting `pad_token_id` to `eos_token_id`:2 for open-end generation.\n"
     ]
    },
    {
     "name": "stdout",
     "output_type": "stream",
     "text": [
      "93 of 136\n"
     ]
    },
    {
     "name": "stderr",
     "output_type": "stream",
     "text": [
      "Setting `pad_token_id` to `eos_token_id`:2 for open-end generation.\n"
     ]
    },
    {
     "name": "stdout",
     "output_type": "stream",
     "text": [
      "94 of 136\n"
     ]
    },
    {
     "name": "stderr",
     "output_type": "stream",
     "text": [
      "Setting `pad_token_id` to `eos_token_id`:2 for open-end generation.\n"
     ]
    },
    {
     "name": "stdout",
     "output_type": "stream",
     "text": [
      "95 of 136\n"
     ]
    },
    {
     "name": "stderr",
     "output_type": "stream",
     "text": [
      "Setting `pad_token_id` to `eos_token_id`:2 for open-end generation.\n"
     ]
    },
    {
     "name": "stdout",
     "output_type": "stream",
     "text": [
      "96 of 136\n"
     ]
    },
    {
     "name": "stderr",
     "output_type": "stream",
     "text": [
      "Setting `pad_token_id` to `eos_token_id`:2 for open-end generation.\n"
     ]
    },
    {
     "name": "stdout",
     "output_type": "stream",
     "text": [
      "97 of 136\n"
     ]
    },
    {
     "name": "stderr",
     "output_type": "stream",
     "text": [
      "Setting `pad_token_id` to `eos_token_id`:2 for open-end generation.\n"
     ]
    },
    {
     "name": "stdout",
     "output_type": "stream",
     "text": [
      "98 of 136\n"
     ]
    },
    {
     "name": "stderr",
     "output_type": "stream",
     "text": [
      "Setting `pad_token_id` to `eos_token_id`:2 for open-end generation.\n"
     ]
    },
    {
     "name": "stdout",
     "output_type": "stream",
     "text": [
      "99 of 136\n"
     ]
    },
    {
     "name": "stderr",
     "output_type": "stream",
     "text": [
      "Setting `pad_token_id` to `eos_token_id`:2 for open-end generation.\n"
     ]
    },
    {
     "name": "stdout",
     "output_type": "stream",
     "text": [
      "100 of 136\n"
     ]
    },
    {
     "name": "stderr",
     "output_type": "stream",
     "text": [
      "Setting `pad_token_id` to `eos_token_id`:2 for open-end generation.\n"
     ]
    },
    {
     "name": "stdout",
     "output_type": "stream",
     "text": [
      "101 of 136\n"
     ]
    },
    {
     "name": "stderr",
     "output_type": "stream",
     "text": [
      "Setting `pad_token_id` to `eos_token_id`:2 for open-end generation.\n"
     ]
    },
    {
     "name": "stdout",
     "output_type": "stream",
     "text": [
      "102 of 136\n"
     ]
    },
    {
     "name": "stderr",
     "output_type": "stream",
     "text": [
      "Setting `pad_token_id` to `eos_token_id`:2 for open-end generation.\n"
     ]
    },
    {
     "name": "stdout",
     "output_type": "stream",
     "text": [
      "103 of 136\n"
     ]
    },
    {
     "name": "stderr",
     "output_type": "stream",
     "text": [
      "Setting `pad_token_id` to `eos_token_id`:2 for open-end generation.\n"
     ]
    },
    {
     "name": "stdout",
     "output_type": "stream",
     "text": [
      "104 of 136\n"
     ]
    },
    {
     "name": "stderr",
     "output_type": "stream",
     "text": [
      "Setting `pad_token_id` to `eos_token_id`:2 for open-end generation.\n"
     ]
    },
    {
     "name": "stdout",
     "output_type": "stream",
     "text": [
      "105 of 136\n"
     ]
    },
    {
     "name": "stderr",
     "output_type": "stream",
     "text": [
      "Setting `pad_token_id` to `eos_token_id`:2 for open-end generation.\n"
     ]
    },
    {
     "name": "stdout",
     "output_type": "stream",
     "text": [
      "106 of 136\n"
     ]
    },
    {
     "name": "stderr",
     "output_type": "stream",
     "text": [
      "Setting `pad_token_id` to `eos_token_id`:2 for open-end generation.\n"
     ]
    },
    {
     "name": "stdout",
     "output_type": "stream",
     "text": [
      "107 of 136\n"
     ]
    },
    {
     "name": "stderr",
     "output_type": "stream",
     "text": [
      "Setting `pad_token_id` to `eos_token_id`:2 for open-end generation.\n"
     ]
    },
    {
     "name": "stdout",
     "output_type": "stream",
     "text": [
      "108 of 136\n"
     ]
    },
    {
     "name": "stderr",
     "output_type": "stream",
     "text": [
      "Setting `pad_token_id` to `eos_token_id`:2 for open-end generation.\n"
     ]
    },
    {
     "name": "stdout",
     "output_type": "stream",
     "text": [
      "109 of 136\n"
     ]
    },
    {
     "name": "stderr",
     "output_type": "stream",
     "text": [
      "Setting `pad_token_id` to `eos_token_id`:2 for open-end generation.\n"
     ]
    },
    {
     "name": "stdout",
     "output_type": "stream",
     "text": [
      "110 of 136\n"
     ]
    },
    {
     "name": "stderr",
     "output_type": "stream",
     "text": [
      "Setting `pad_token_id` to `eos_token_id`:2 for open-end generation.\n"
     ]
    },
    {
     "name": "stdout",
     "output_type": "stream",
     "text": [
      "111 of 136\n"
     ]
    },
    {
     "name": "stderr",
     "output_type": "stream",
     "text": [
      "Setting `pad_token_id` to `eos_token_id`:2 for open-end generation.\n"
     ]
    },
    {
     "name": "stdout",
     "output_type": "stream",
     "text": [
      "112 of 136\n"
     ]
    },
    {
     "name": "stderr",
     "output_type": "stream",
     "text": [
      "Setting `pad_token_id` to `eos_token_id`:2 for open-end generation.\n"
     ]
    },
    {
     "name": "stdout",
     "output_type": "stream",
     "text": [
      "113 of 136\n"
     ]
    },
    {
     "name": "stderr",
     "output_type": "stream",
     "text": [
      "Setting `pad_token_id` to `eos_token_id`:2 for open-end generation.\n"
     ]
    },
    {
     "name": "stdout",
     "output_type": "stream",
     "text": [
      "114 of 136\n"
     ]
    },
    {
     "name": "stderr",
     "output_type": "stream",
     "text": [
      "Setting `pad_token_id` to `eos_token_id`:2 for open-end generation.\n"
     ]
    },
    {
     "name": "stdout",
     "output_type": "stream",
     "text": [
      "115 of 136\n"
     ]
    },
    {
     "name": "stderr",
     "output_type": "stream",
     "text": [
      "Setting `pad_token_id` to `eos_token_id`:2 for open-end generation.\n"
     ]
    },
    {
     "name": "stdout",
     "output_type": "stream",
     "text": [
      "116 of 136\n"
     ]
    },
    {
     "name": "stderr",
     "output_type": "stream",
     "text": [
      "Setting `pad_token_id` to `eos_token_id`:2 for open-end generation.\n"
     ]
    },
    {
     "name": "stdout",
     "output_type": "stream",
     "text": [
      "117 of 136\n"
     ]
    },
    {
     "name": "stderr",
     "output_type": "stream",
     "text": [
      "Setting `pad_token_id` to `eos_token_id`:2 for open-end generation.\n"
     ]
    },
    {
     "name": "stdout",
     "output_type": "stream",
     "text": [
      "118 of 136\n"
     ]
    },
    {
     "name": "stderr",
     "output_type": "stream",
     "text": [
      "Setting `pad_token_id` to `eos_token_id`:2 for open-end generation.\n"
     ]
    },
    {
     "name": "stdout",
     "output_type": "stream",
     "text": [
      "119 of 136\n"
     ]
    },
    {
     "name": "stderr",
     "output_type": "stream",
     "text": [
      "Setting `pad_token_id` to `eos_token_id`:2 for open-end generation.\n"
     ]
    },
    {
     "name": "stdout",
     "output_type": "stream",
     "text": [
      "120 of 136\n"
     ]
    },
    {
     "name": "stderr",
     "output_type": "stream",
     "text": [
      "Setting `pad_token_id` to `eos_token_id`:2 for open-end generation.\n"
     ]
    },
    {
     "name": "stdout",
     "output_type": "stream",
     "text": [
      "121 of 136\n"
     ]
    },
    {
     "name": "stderr",
     "output_type": "stream",
     "text": [
      "Setting `pad_token_id` to `eos_token_id`:2 for open-end generation.\n"
     ]
    },
    {
     "name": "stdout",
     "output_type": "stream",
     "text": [
      "122 of 136\n"
     ]
    },
    {
     "name": "stderr",
     "output_type": "stream",
     "text": [
      "Setting `pad_token_id` to `eos_token_id`:2 for open-end generation.\n"
     ]
    },
    {
     "name": "stdout",
     "output_type": "stream",
     "text": [
      "123 of 136\n"
     ]
    },
    {
     "name": "stderr",
     "output_type": "stream",
     "text": [
      "Setting `pad_token_id` to `eos_token_id`:2 for open-end generation.\n"
     ]
    },
    {
     "name": "stdout",
     "output_type": "stream",
     "text": [
      "124 of 136\n"
     ]
    },
    {
     "name": "stderr",
     "output_type": "stream",
     "text": [
      "Setting `pad_token_id` to `eos_token_id`:2 for open-end generation.\n"
     ]
    },
    {
     "name": "stdout",
     "output_type": "stream",
     "text": [
      "125 of 136\n"
     ]
    },
    {
     "name": "stderr",
     "output_type": "stream",
     "text": [
      "Setting `pad_token_id` to `eos_token_id`:2 for open-end generation.\n"
     ]
    },
    {
     "name": "stdout",
     "output_type": "stream",
     "text": [
      "126 of 136\n"
     ]
    },
    {
     "name": "stderr",
     "output_type": "stream",
     "text": [
      "Setting `pad_token_id` to `eos_token_id`:2 for open-end generation.\n"
     ]
    },
    {
     "name": "stdout",
     "output_type": "stream",
     "text": [
      "127 of 136\n"
     ]
    },
    {
     "name": "stderr",
     "output_type": "stream",
     "text": [
      "Setting `pad_token_id` to `eos_token_id`:2 for open-end generation.\n"
     ]
    },
    {
     "name": "stdout",
     "output_type": "stream",
     "text": [
      "128 of 136\n"
     ]
    },
    {
     "name": "stderr",
     "output_type": "stream",
     "text": [
      "Setting `pad_token_id` to `eos_token_id`:2 for open-end generation.\n"
     ]
    },
    {
     "name": "stdout",
     "output_type": "stream",
     "text": [
      "129 of 136\n"
     ]
    },
    {
     "name": "stderr",
     "output_type": "stream",
     "text": [
      "Setting `pad_token_id` to `eos_token_id`:2 for open-end generation.\n"
     ]
    },
    {
     "name": "stdout",
     "output_type": "stream",
     "text": [
      "130 of 136\n"
     ]
    },
    {
     "name": "stderr",
     "output_type": "stream",
     "text": [
      "Setting `pad_token_id` to `eos_token_id`:2 for open-end generation.\n"
     ]
    },
    {
     "name": "stdout",
     "output_type": "stream",
     "text": [
      "131 of 136\n"
     ]
    },
    {
     "name": "stderr",
     "output_type": "stream",
     "text": [
      "Setting `pad_token_id` to `eos_token_id`:2 for open-end generation.\n"
     ]
    },
    {
     "name": "stdout",
     "output_type": "stream",
     "text": [
      "132 of 136\n"
     ]
    },
    {
     "name": "stderr",
     "output_type": "stream",
     "text": [
      "Setting `pad_token_id` to `eos_token_id`:2 for open-end generation.\n"
     ]
    },
    {
     "name": "stdout",
     "output_type": "stream",
     "text": [
      "133 of 136\n"
     ]
    },
    {
     "name": "stderr",
     "output_type": "stream",
     "text": [
      "Setting `pad_token_id` to `eos_token_id`:2 for open-end generation.\n"
     ]
    },
    {
     "name": "stdout",
     "output_type": "stream",
     "text": [
      "134 of 136\n"
     ]
    },
    {
     "name": "stderr",
     "output_type": "stream",
     "text": [
      "Setting `pad_token_id` to `eos_token_id`:2 for open-end generation.\n"
     ]
    },
    {
     "name": "stdout",
     "output_type": "stream",
     "text": [
      "135 of 136\n"
     ]
    },
    {
     "name": "stderr",
     "output_type": "stream",
     "text": [
      "Setting `pad_token_id` to `eos_token_id`:2 for open-end generation.\n"
     ]
    },
    {
     "name": "stdout",
     "output_type": "stream",
     "text": [
      "136 of 136\n",
      "{'/tmp/storage/clips/front-1722818479.36576-2y22cv-clean.png': 'In the image, there is a person walking on the sidewalk. The individual is wearing a light-colored top and dark pants. They are facing away from the camera, so their face is not visible. The person appears to be walking in the same direction as the flow of traffic on the street.\\n\\nProminent vehicles in the scene include a white car parked on the side of the street and a white truck parked in a driveway. There is also a black car parked on the side of the street.\\n\\nThe image shows a residential area with houses on both sides of the street. The sky is dusky, suggesting either sunrise or sunset. There are no visible texts or distinctive markings on the vehicles that are leg', '/tmp/storage/clips/front-1722818476.88936-7k21b5-clean.png': 'In the image, there are two people visible. One person is standing on the sidewalk, wearing a dark-colored top and dark pants. They appear to be looking towards the street. The other person is walking on the sidewalk, wearing a light-colored top and dark pants. They are facing away from the camera, so their clothing is not fully visible.\\n\\nProminent vehicles in the scene include a white car parked on the street and a white truck parked in a driveway. There is also a black car parked on the street. The text \"100 BLOCK\" is visible on a sign, indicating the location of the street.\\n\\nThe image is taken from a high angle, looking down on the street and the surrounding', '/tmp/storage/clips/front-1722815507.428464-wxpzlj-clean.png': 'In the image, there are two individuals walking on the sidewalk. One person is wearing a dark-colored top and dark pants, while the other is wearing a light-colored top and dark pants. They appear to be walking in the same direction, away from the camera.\\n\\nProminent vehicles in the scene include a white car parked on the street and a white truck parked in a driveway. There is also a black car parked on the street. The text \"100\" is visible on the side of the white car, which could be a house number or a sign.\\n\\nThe image is taken from a high angle, looking down on the street and the surrounding area. The sky is visible in the background, suggesting that', '/tmp/storage/clips/front-1722815501.166458-xp6bqb-clean.png': 'In the scene, there are two individuals walking on the sidewalk. The person on the left is wearing a pink top and dark pants, while the person on the right is wearing a white top and dark pants. They appear to be walking in the same direction, away from the camera.\\n\\nProminent vehicles in the scene include a white car parked on the right side of the street and a white truck parked on the left side of the street. There is also a black car parked on the left side of the street.\\n\\nThe sky is clear, suggesting it might be early evening or late afternoon. The street is lined with houses and trees, and there are power lines running above the street. The overall scene is a typical residential area.', '/tmp/storage/clips/front-1722814631.375881-wza9un-clean.png': 'In the image, there is a person walking on the sidewalk. The individual is wearing a colorful top and has a handbag. The person is facing away from the camera, so their face is not visible. They appear to be walking in the same direction as the traffic flow.\\n\\nProminent vehicles in the scene include a white car parked on the side of the street and a white truck parked in a driveway. There is also a black car parked on the side of the street.\\n\\nThe image shows a residential street with houses on both sides. The sky is clear, suggesting it might be late afternoon or early evening. The street is lined with power lines and telephone poles. There are no visible texts or distinctive brands in', '/tmp/storage/clips/front-1722814627.028648-0yreg8-clean.png': 'In the image, there are two individuals walking on the sidewalk. The person on the left is wearing a dark-colored top and dark pants, while the person on the right is wearing a light-colored top and dark pants. They are both facing away from the camera, so their faces are not visible.\\n\\nThe vehicles in the scene include a white car parked on the right side of the street, and a black car parked on the left side of the street. There is also a white truck parked on the right side of the street.\\n\\nThe image shows a residential area with houses and trees. The sky is clear, suggesting it might be late afternoon or early evening. The street is lined with power lines, and there are no', '/tmp/storage/clips/front-1722812710.037991-93xrxj-clean.png': 'In the image, there are two individuals walking on the sidewalk. The person on the left is wearing a pink top and dark pants, while the person on the right is wearing a dark top and dark pants. They appear to be walking in the same direction, away from the camera.\\n\\nProminent vehicles in the scene include a white SUV parked on the street, and a red car parked on the driveway of a house. There is also a white car parked on the street.\\n\\nThe image shows a residential area with houses, trees, and power lines. The sky is clear, suggesting it might be a sunny day. The overall scene is typical of a suburban neighborhood. ', '/tmp/storage/clips/front-1722812696.283096-oxk84h-clean.png': 'In the image, there are two individuals visible. One person is standing on the sidewalk, wearing a dark-colored top and dark pants, and appears to be facing away from the camera, looking towards the street. The other person is standing on the grassy area near the sidewalk, wearing a light-colored top and dark pants, and is facing towards the camera.\\n\\nProminent vehicles in the scene include a white car parked on the street and a white truck parked on the grassy area. There is no legible text visible in the image.\\n\\nThe people in the image seem to be going about their day, possibly waiting for someone or something. The vehicles are stationary, suggesting that they are parked and not currently in motion', '/tmp/storage/clips/front-1722812689.273292-jmxlz6-clean.png': 'In the image, there are two people visible. One person is standing on the sidewalk, wearing a dark-colored top and dark pants, and appears to be looking towards the camera. The other person is walking on the sidewalk, wearing a light-colored top and dark pants, and is facing away from the camera.\\n\\nProminent vehicles in the scene include a white car parked on the street and a white truck parked in a driveway. There is also a red car parked on the street. The vehicles are stationary, and there is no visible text or legible license plates.\\n\\nThe scene is an urban residential area with houses, trees, and power lines. The sky is clear, suggesting it might be late afternoon or early', '/tmp/storage/clips/front-1722811510.775395-k4dzld-clean.png': 'In the image, there are two individuals standing on the sidewalk near the curb. One person is wearing a dark-colored jacket and shorts, while the other is wearing a dark-colored hoodie and shorts. They appear to be engaged in a conversation or waiting for something.\\n\\nProminent vehicles in the scene include a white van parked on the street, and a white car that is stopped at the intersection. There is also a black SUV parked on the street.\\n\\nThe image shows a residential area with houses and trees in the background. The sky is clear, suggesting it might be a sunny day. There are no visible texts or distinctive brands in the image. The focus is on the interaction between the people and the vehicles', '/tmp/storage/clips/front-1722811506.360419-7ubo8b-clean.png': \"In the image, there are two individuals who appear to be walking on the sidewalk. One person is wearing a dark-colored jacket and shorts, while the other is wearing a light-colored jacket and dark pants. They are walking away from the camera, and it's not clear if they are interacting with each other or just walking in the same direction.\\n\\nProminent vehicles in the scene include a white van parked on the side of the street and a white car parked in a driveway. There is also a black car parked on the side of the street. The vehicles are stationary, and there is no text legible in the image.\\n\\nThe scene is an urban residential area with houses, trees, and power lines\", '/tmp/storage/clips/front-1722811330.364074-f4e2rv-clean.png': 'In the image, there are two people visible. One person is standing on the sidewalk, wearing a dark-colored top and dark pants, and appears to be looking towards the camera. The other person is standing on the grassy area near the curb, wearing a light-colored top and dark pants, and is facing away from the camera, looking towards the street.\\n\\nProminent vehicles in the scene include a white van parked on the street, and a white car parked on the grassy area near the curb. There is also a black car parked on the street.\\n\\nThe image shows a residential street with houses on both sides. The sky is clear, and the sun is shining, casting shadows on the ground. The', '/tmp/storage/clips/front-1722810597.211508-od8wmw-clean.png': 'In the image, there is a person walking on the sidewalk. The individual is wearing a dark-colored top and light-colored pants. They are facing away from the camera, so their face is not visible. The person appears to be walking in a straight line, parallel to the curb.\\n\\nProminent vehicles in the scene include a white van parked on the side of the street and a white car parked in a driveway. There is also a red car parked on the side of the street.\\n\\nThe image shows a residential area with houses, trees, and power lines. The sky is partly cloudy, suggesting a fair weather day. There is no legible text visible in the image. ', '/tmp/storage/clips/front-1722810399.889922-2091ah-clean.png': 'In the image, there are two individuals riding bicycles on a residential street. They are wearing casual clothing, with one person wearing a red top and the other in a white top. The cyclist in the red top is positioned slightly ahead of the one in white.\\n\\nProminent vehicles in the scene include a white van parked on the left side of the street and a black SUV parked on the right side. There is also a red car visible in the foreground.\\n\\nThe street is lined with houses, and there are power lines running above the street. The sky is partly cloudy, suggesting a pleasant day. The overall scene depicts a typical day in a residential neighborhood with people going about their daily activities. ', '/tmp/storage/clips/front-1722810399.83827-1pid0u-clean.png': 'In the image, there are two individuals riding bicycles on a residential street. They are wearing casual clothing, with one person wearing a red top and the other in a white top. The person in the red top is riding ahead of the person in the white top.\\n\\nProminent vehicles in the scene include a white van parked on the left side of the street and a black SUV parked on the right side of the street. There is also a red fire hydrant visible on the left side of the street.\\n\\nThe street is lined with houses and trees, and there are power lines running above the street. The sky is partly cloudy, suggesting a pleasant day. The overall scene depicts a typical day in a residential', '/tmp/storage/clips/front-1722810397.028705-sf940v-clean.png': 'In the scene, there are two individuals riding bicycles. They are wearing casual clothing, with one person wearing a white top and the other in a red top. The person in the red top is riding ahead of the person in the white top.\\n\\nProminent vehicles in the scene include a white van parked on the left side of the street and a black SUV parked on the right side of the street. There is also a red car parked on the left side of the street.\\n\\nThe street is lined with houses and trees, and there are power lines running above the street. The sky is partly cloudy, suggesting a pleasant day. The overall orientation of the objects is that the cyclists are moving from the left side of', '/tmp/storage/clips/front-1722810250.32689-727phi-clean.png': 'In the image, there are no people visible. The focus is on the vehicles and the residential area. There are several cars parked on the street, including a black SUV, a white sedan, and a white pickup truck. The vehicles are parked in various orientations, with some facing the camera and others facing away. There is no legible text visible in the image. The scene captures a typical suburban neighborhood with houses, trees, and power lines. The sky is partly cloudy, suggesting a pleasant day. ', '/tmp/storage/clips/front-1722810217.716625-7ri4uz-clean.png': 'In the image, there are two individuals who appear to be walking on the sidewalk. They are wearing casual clothing, with one person wearing a red top and the other in a white top. The person in red is slightly ahead of the person in white. They are walking away from the camera, and their orientation is towards the right side of the image.\\n\\nProminent vehicles in the scene include a white SUV parked on the left side of the street and a black SUV parked on the right side of the street. There is also a white car parked on the right side of the street.\\n\\nThe image shows a residential street with houses on both sides. The sky is overcast, and the overall atmosphere of the image is quiet', '/tmp/storage/clips/front-1722810217.201836-ld6ox4-clean.png': 'In the scene, there are two individuals riding bicycles. One person is wearing a red top and the other is wearing a white top. They are riding on the right side of the street, which is the correct side for cyclists in many countries. The person in red is slightly ahead of the person in white.\\n\\nProminent vehicles in the scene include a white SUV and a black sedan. The SUV is parked on the left side of the street, and the sedan is parked on the right side of the street. There is no legible text visible in the image.\\n\\nThe scene captures a typical residential street with houses on both sides. The sky is overcast, suggesting it might be a cool or cloudy', '/tmp/storage/clips/front-1722810214.260108-3ac7jr-clean.png': \"In the image, there are three individuals who appear to be walking on the sidewalk. The person in the foreground is wearing a red top and is facing away from the camera, walking towards the right side of the image. The other two individuals are walking in the opposite direction, towards the left side of the image. They are wearing casual clothing, and it's not possible to discern any specific details about their attire.\\n\\nProminent vehicles in the scene include a black SUV parked on the right side of the image, and a white car parked on the left side. There is also a white truck parked on the left side of the image, and a white van parked on the right side.\\n\\nThe image shows a\", '/tmp/storage/clips/front-1722810212.726919-jufj46-clean.png': 'In the image, there are several people engaged in various activities. On the left side of the street, there is a person riding a bicycle, wearing a white shirt and a helmet. This individual is moving away from the camera, and their bicycle is in motion.\\n\\nIn the center of the image, there are two children playing in the street. They are wearing colorful clothing, with one child wearing a red jacket and the other in a blue jacket. They appear to be enjoying themselves, possibly playing with a toy or engaging in a game.\\n\\nOn the right side of the street, there is a person walking, wearing a white shirt and a cap. This individual is facing away from the camera, and their head is', '/tmp/storage/clips/front-1722810212.225093-cduplt-clean.png': 'In the scene, there are several people engaged in various activities. On the left side of the image, there are two individuals riding bicycles. The person in the foreground is wearing a white shirt and a helmet, while the person in the background is wearing a red shirt and a helmet. They are both riding their bicycles on the sidewalk, away from the road.\\n\\nOn the right side of the image, there is a child standing on the grass near the curb. The child is wearing a pink shirt and a blue helmet, and they appear to be watching the bicyclists.\\n\\nIn the background, there are several vehicles parked along the street. There is a white truck parked in front of a house, and a', '/tmp/storage/clips/front-1722810211.889601-2sxwfg-clean.png': 'In the scene, there are three individuals riding bicycles. The person in the foreground is wearing a white shirt and a helmet, and they are riding a bicycle. The person in the middle is wearing a pink shirt and a helmet, and they are also riding a bicycle. The person in the background is wearing a red shirt and a helmet, and they are riding a bicycle.\\n\\nProminent vehicles in the scene include a white SUV and a black SUV. There is no legible text visible in the image. The bicyclists appear to be navigating through a residential area, possibly on a street or a cul-de-sac. The vehicles are parked or stationary, and there is no indication', '/tmp/storage/clips/front-1722809373.755573-w573qf-clean.png': 'In the image, there are no people visible. The focus is on the vehicles and the residential area. There are several cars parked on the street, including a white SUV, a black SUV, and a white sedan. There are also a few trucks visible, including a white box truck and a white flatbed truck. The vehicles are parked in various orientations, with some facing the camera and others facing away.\\n\\nThe image shows a typical suburban street with houses on both sides. The sky is partly cloudy, suggesting a pleasant day. There are no people or any other objects that stand out as unusual or prominent. The text on the vehicles is not legible in this image. ', '/tmp/storage/clips/front-1722809371.221085-g3jfzd-clean.png': 'In the image, there are no people visible. The focus is on the vehicles and the residential area. There are several cars parked on the street, including a white SUV, a black sedan, and a white sedan. There is also a white van parked in a driveway. The vehicles are parked in various orientations, with some facing the camera and others facing away.\\n\\nThe street is lined with houses, and there are trees visible in the background. The sky is partly cloudy, suggesting a pleasant day. There are no people or any other objects that stand out as unusual or extraordinary. The image captures a typical suburban scene. ', '/tmp/storage/clips/front-1722809355.651525-orlg7p-clean.png': 'In the image, there are two people visible. One person is standing on the sidewalk, wearing a dark-colored top and shorts, and appears to be looking towards the camera. The other person is standing on the street, wearing a light-colored top and dark pants, and is facing away from the camera, towards the parked vehicles. This individual is holding a red object, which could be a bag or a container, and seems to be interacting with the parked cars.\\n\\nProminent vehicles in the scene include a white van parked on the street, and a black SUV parked on the grass. There is also a white car parked on the street. The vehicles are parked in a residential area with houses visible in the background. The', '/tmp/storage/clips/front-1722809355.483597-uelekm-clean.png': 'In the image, there are two people visible. One person is standing on the sidewalk, wearing a dark-colored top and light-colored pants. They appear to be looking towards the street. The other person is walking across the street, wearing a light-colored top and dark pants. They are holding a small object in their hand, but it is not clear what it is.\\n\\nProminent vehicles in the scene include a white van parked on the side of the street, a black SUV parked in front of a house, and a white car parked on the side of the street. There is no legible text visible in the image.\\n\\nThe scene is an urban residential area with houses on both sides of the street. The', '/tmp/storage/clips/front-1722809348.147341-115o4u-clean.png': 'In the image, there are several people visible. One individual is wearing a dark-colored jacket and is standing near a parked black SUV. This person appears to be looking towards the camera. Another person is wearing a light-colored shirt and is standing near a parked white car. This individual is facing away from the camera, towards the street.\\n\\nProminent vehicles in the scene include a white SUV parked on the street, a black SUV parked in a driveway, and a white car parked on the street. There is also a white truck parked in a driveway.\\n\\nThe image shows a residential street with houses on both sides. The sky is overcast, and the overall lighting suggests it might be late afternoon or', '/tmp/storage/clips/front-1722809187.139019-94ipon-clean.png': 'In the image, there are no people visible. The scene is dominated by parked vehicles, including cars and trucks, on both sides of a residential street. The vehicles are of various makes and models, and their colors range from dark to light. There are no people or distinctive clothing items that can be discerned from this perspective.\\n\\nProminent vehicles include a red car parked in the foreground, and a white truck parked further down the street. There is no legible text visible in the image. The orientation of the vehicles suggests a typical residential street layout, with parking on both sides of the road. The vehicles appear to be stationary, indicating that the photo was taken during a time when there was no significant activity on the street', '/tmp/storage/clips/front-1722807236.246528-upu4ke-clean.png': 'In the image, there are several people visible. One individual is walking on the sidewalk, wearing a red top and carrying a handbag. Another person is standing on the corner of the street, wearing a black top and holding a white object that appears to be a bottle.\\n\\nProminent vehicles in the scene include a white van parked on the side of the street, a black SUV parked in front of a house, and a white car parked on the side of the street. There is also a white truck parked on the side of the street.\\n\\nThe image shows a residential street with houses on both sides. The sky is partly cloudy, and the overall atmosphere of the image suggests a typical day in a suburban neighborhood.', '/tmp/storage/clips/front-1722807230.684592-50imak-clean.png': 'In the image, there are several people visible. One individual is walking across the street, wearing a dark-colored top and light-colored pants. Another person is standing on the sidewalk, wearing a red top and a white cap. There is also a child in the foreground, wearing a red top and a white cap, and holding a red object that appears to be a toy.\\n\\nProminent vehicles in the scene include a white van parked on the left side of the street, a black SUV parked on the right side of the street, and a white car parked on the right side of the street. There is no legible text visible in the image.\\n\\nThe people and vehicles are oriented in a way that suggests', '/tmp/storage/clips/front-1722807216.192457-fac7hb-clean.png': 'In the image, there are several people visible. One individual is standing on the sidewalk, wearing a dark-colored top and light-colored pants. They appear to be looking towards the street. Another person is walking on the sidewalk, wearing a light-colored top and dark pants. They are holding a bag in their hand and seem to be in motion.\\n\\nProminent vehicles in the scene include a white van parked on the street, a black SUV parked on the grass, and a white car parked on the street. There is also a red car parked on the street. The vehicles are parked in a residential area with houses and trees in the background.\\n\\nThe image does not contain any legible text or other objects that are', '/tmp/storage/clips/front-1722806905.077282-m5o64m-clean.png': 'In the image, there are no people visible. The focus is on the vehicles and the residential area. There are several cars parked on the street, and a white van is parked in a driveway. The vehicles are of various colors and models, and there is no legible text visible in the image. The orientation of the vehicles is such that they are parked along the street and in driveways, with the street running horizontally across the image. The residential area features houses with different architectural styles, and there are trees and power lines visible. The sky is partly cloudy, suggesting a pleasant day. ', '/tmp/storage/clips/front-1722806898.527802-ytvuhn-clean.png': 'In the image, there are two people visible. One person is standing near the front of a black SUV, wearing a dark-colored top and dark pants. The other person is walking towards the camera, wearing a light-colored shirt and dark pants.\\n\\nProminent vehicles in the scene include a white van parked in front of a house, a black SUV parked on the street, and a white car parked on the street. There is also a red car parked on the street.\\n\\nThe image shows a residential street with houses on both sides. The sky is partly cloudy, and the overall scene suggests a typical day in a suburban neighborhood. There is no text legible in the image. ', '/tmp/storage/clips/front-1722806877.806552-3onyle-clean.png': 'In the image, there are two individuals standing near a black SUV. One person is wearing a dark top and dark pants, while the other is wearing a light-colored top and dark pants. They appear to be engaged in a conversation or possibly inspecting the vehicle.\\n\\nProminent vehicles in the scene include a white van parked in front of a house, a white SUV parked on the street, and a black SUV parked on the grass. There is also a white car parked on the street.\\n\\nThe image shows a residential area with houses, trees, and power lines. The sky is partly cloudy, suggesting a fair weather day. There is no legible text visible in the image. ', '/tmp/storage/clips/front-1722806877.163411-fj826n-clean.png': 'In the image, there are two individuals who appear to be engaged in a conversation. One person is standing near the front of a black SUV, while the other is standing slightly behind and to the side of the first person. Both individuals are dressed in casual attire, and it is not possible to discern any specific details about their clothing.\\n\\nThe vehicles in the scene include a white van parked in front of a house, a black SUV with its door open, and a white car parked on the street. There is also a white truck parked in front of the house. The vehicles are parked in a residential area, and there are no visible texts or distinctive markings that provide additional information about the vehicles or their owners.\\n', '/tmp/storage/clips/front-1722806876.996122-jk67g3-clean.png': 'In the image, there are two individuals who appear to be engaged in a conversation. One person is standing near the front of a black SUV, while the other is standing slightly behind and to the side of the first person. The person standing near the SUV is wearing a dark top and dark pants, and they are holding a handbag. The other person is wearing a dark top and dark pants as well, and they are holding a clipboard.\\n\\nProminent vehicles in the scene include a white van parked in front of a house, a black SUV parked on the street, and a white car parked on the street. There is also a white truck parked on the street. The text \"111\" is visible on', '/tmp/storage/clips/front-1722806860.566503-xbs3as-clean.png': 'In the image, there are two individuals standing in the street. One person is wearing a dark-colored top and dark pants, while the other is wearing a light-colored top and dark pants. They appear to be engaged in a conversation or possibly observing something in the distance.\\n\\nProminent vehicles in the scene include a white van parked on the left side of the street, a black SUV parked on the right side of the street, and a white car parked on the right side of the street. There is also a red car parked on the left side of the street.\\n\\nThe street is lined with residential houses, and there are power lines running above the street. The sky is partly cloudy, suggesting a fair weather', '/tmp/storage/clips/front-1722806857.369914-gecwhh-clean.png': 'In the image, there are two people visible. One person is standing next to a black SUV, which is parked on the street. The individual is wearing a dark-colored top and dark pants. They appear to be looking at something off-camera, possibly the sky or a distant object.\\n\\nThe other person is standing near a red car, which is parked on the street. This individual is wearing a light-colored top and dark pants. They seem to be looking down, possibly at the ground or at something on the ground.\\n\\nThere are several vehicles visible in the image, including cars and trucks. The vehicles are parked on the street, and there is no legible text visible in the image. The orientation of the', '/tmp/storage/clips/front-1722806797.884813-8x6uoo-clean.png': 'In the image, there are two people visible. One person is standing next to a black SUV, which is parked on the street. This individual is wearing a dark-colored top and dark pants. The other person is standing next to a white car, which is also parked on the street. This person is wearing a light-colored top and dark pants.\\n\\nThe vehicles in the scene include a white van parked in front of a house, a white car parked on the street, and a black SUV parked on the street. There is also a red car parked on the street.\\n\\nThe scene is set in a residential area with houses visible in the background. The sky is clear, suggesting it might be a sunny day', '/tmp/storage/clips/front-1722806795.8036-lam7uf-clean.png': 'In the image, there are two people standing near the center of the street. One person is wearing a dark top and dark pants, while the other person is wearing a light-colored top and dark pants. They appear to be engaged in a conversation or possibly observing something in the distance.\\n\\nProminent vehicles in the scene include a white van parked on the left side of the street, a black SUV parked on the right side of the street, and a white car parked on the right side of the street. There is also a red car parked on the left side of the street.\\n\\nThe street is lined with residential houses, and there are power lines running above the street. The sky is partly cloudy, suggesting a', '/tmp/storage/clips/front-1722806702.999045-470t8v-clean.png': 'In the image, there are no people visible. The scene is dominated by a variety of vehicles parked on the street and in driveways. There are several cars and a truck, with one car prominently visible in the foreground. The vehicles are parked in different orientations, with some facing the camera and others facing away.\\n\\nThere is no legible text visible in the image. The vehicles are parked in a residential area, with houses visible in the background. The sky is clear, suggesting it might be a sunny day. The overall scene is typical of a suburban neighborhood with parked vehicles. ', '/tmp/storage/clips/front-1722806696.189064-2b8pm0-clean.png': 'In the image, there are no people visible. The scene is dominated by a residential street with various vehicles parked along the sides. There are no people in the image, and no clothing or actions can be discerned. The vehicles include cars and a truck, and there is no legible text or prominent vehicles that stand out. The orientation of the objects is typical for a residential street, with vehicles parked along the sides and a clear view of the sky above. ', '/tmp/storage/clips/front-1722806660.972531-tan8mr-clean.png': 'In the image, there are no people visible. The scene is dominated by a variety of vehicles parked on the street and in driveways. There are several cars and a truck, with one car prominently visible in the foreground. The vehicles are parked in different orientations, with some facing the camera and others facing away.\\n\\nThere is no legible text visible in the image. The vehicles are parked in a residential area, with houses visible in the background. The sky is clear, suggesting it might be a sunny day. The overall scene is typical of a suburban neighborhood with parked vehicles. ', '/tmp/storage/clips/front-1722806637.385544-fhbb1j-clean.png': 'In the image, there are no people visible. The scene is dominated by a variety of vehicles parked on the street and in driveways. There are several cars, including a white sedan, a red SUV, and a black sedan. There is also a white van parked in a driveway. The vehicles are parked in an orderly manner, with the white sedan and the red SUV parked on the street, while the white van is parked in a driveway.\\n\\nThe image is taken from a high angle, looking down on the street and the parked vehicles. The sky is clear and blue, suggesting a sunny day. The street is lined with houses, and there are trees visible in the background. The image does not contain', '/tmp/storage/clips/front-1722806624.781485-2g9qmm-clean.png': 'In the image, there are no people visible. The scene is dominated by residential houses and vehicles parked on the street. The vehicles include cars and a truck, and there are no people or their actions discernible from this perspective. The text on the vehicles is not legible. The image captures a typical suburban street scene with no extraordinary elements. ', '/tmp/storage/clips/front-1722806619.790428-b9s5gg-clean.png': 'In the image, there are no people visible. The scene is dominated by a variety of vehicles parked on the street and in driveways. There are several cars and a truck, with one car prominently featuring a red roof rack. The vehicles are parked in different orientations, with some facing the camera and others facing away.\\n\\nThere are no legible texts or distinctive clothing visible in the image. The focus is on the vehicles and the residential setting. The street is lined with houses, and there are trees and a fire hydrant visible in the foreground. The sky is clear, suggesting a sunny day. The overall scene is a typical suburban neighborhood with residential architecture and parked vehicles. ', '/tmp/storage/clips/front-1722806581.613767-asoqpp-clean.png': 'In the image, there are no people visible. The scene is dominated by a variety of vehicles parked on the street and in driveways. There are several cars, including a white sedan, a red SUV, and a black sedan. There is also a white van parked in a driveway. The vehicles are parked in an orderly manner, with the white sedan and the red SUV parked on the street, while the white van is parked in a driveway.\\n\\nThe image is taken from a high angle, providing a view of the street and the surrounding area. The sky is clear, suggesting it might be a sunny day. The street is lined with houses, and there are trees visible in the background. The image does', '/tmp/storage/clips/front-1722806457.550563-v21nuf-clean.png': 'In the image, there are no people visible. The scene is dominated by a variety of vehicles parked on the street and in driveways. There are several cars, including a white sedan, a red SUV, and a black sedan. There is also a white van parked in a driveway. The vehicles are parked in an orderly manner, with the white sedan and the red SUV parked on the street, while the white van is parked in a driveway.\\n\\nThe image is taken from a high angle, providing a view of the street and the surrounding area. The sky is clear, suggesting it might be a sunny day. The street is lined with houses, and there are trees visible in the background. The image does', '/tmp/storage/clips/front-1722806454.528605-zx5ugi-clean.png': 'In the image, there are no people visible. The scene is dominated by a variety of vehicles parked on the street and in driveways. There are several cars and a truck, with one car prominently visible in the foreground. The vehicles are parked in different orientations, with some facing the camera and others facing away.\\n\\nThere is no legible text visible in the image. The vehicles are parked in a residential area, with houses visible in the background. The sky is clear, suggesting it might be a sunny day. The overall scene is typical of a suburban neighborhood with parked vehicles. ', '/tmp/storage/clips/front-1722805813.204059-q0l7ah-clean.png': 'In the image, there are no people visible. The scene is dominated by a variety of vehicles parked on both sides of the street. On the left side, there are several cars and a truck, while on the right side, there are more cars and a truck. The vehicles are parked in a residential area with houses visible in the background. The sky is clear, suggesting it might be a sunny day. There are no people or any other objects that stand out as prominent. The image is taken from a perspective that looks down the street, providing a view of the parked vehicles and the houses in the background. ', '/tmp/storage/clips/front-1722805733.097624-2g2451-clean.png': 'In the image, there are two people visible. One person is walking on the sidewalk, wearing a blue top and dark pants, and appears to be looking towards the camera. The other person is standing on the corner of the street, wearing a white top and dark pants, and is facing away from the camera.\\n\\nProminent vehicles in the scene include a red car parked on the left side of the street and a white car parked on the right side of the street. There is also a white van parked on the left side of the street.\\n\\nThe image shows a residential street with houses on both sides. The sky is clear, and the overall scene suggests a typical day in a suburban neighborhood. There is no text visible in', '/tmp/storage/clips/front-1722805718.439811-sdycte-clean.png': 'In the image, there is a person walking on the sidewalk. The individual is wearing a dark-colored top and light-colored pants. They are facing away from the camera, so their face is not visible. The person appears to be walking in the same direction as the traffic flow on the street.\\n\\nProminent vehicles in the scene include a white SUV parked on the side of the street and a red car parked in a driveway. There is also a white truck parked on the side of the street.\\n\\nThe image shows a residential area with houses, trees, and a clear blue sky. The street is lined with parked cars and power lines. There are no visible texts or distinctive markings on the vehicles that are leg', '/tmp/storage/clips/front-1722805715.774576-ujzmym-clean.png': 'In the image, there are no people visible. The scene is dominated by a variety of vehicles parked on both sides of the street. On the left side, there are several cars and a truck, while on the right side, there are more cars and a truck. The vehicles are parked in a residential area with houses visible in the background. The sky is clear, suggesting it might be a sunny day. There are no people or any other objects that stand out as prominent. The image is taken from a perspective that looks down the street, providing a view of the parked vehicles and the houses in the background. ', '/tmp/storage/clips/front-1722805611.95682-1z31sw-clean.png': 'In the image, there are no people visible. The scene is dominated by a variety of vehicles parked on the street. There are several cars, including a red one, and a white truck. The vehicles are parked in a residential area with houses visible in the background. The sky is clear with a few clouds, suggesting a sunny day. There are no people or any other objects that stand out as prominent. The image does not contain any legible text or any actions that can be confidently described. ', '/tmp/storage/clips/front-1722805092.833008-p1zw0e-clean.png': 'In the image, there are two individuals walking on the sidewalk. The person on the left is wearing a dark-colored top and dark pants, while the person on the right is wearing a light-colored top and dark pants. They are walking in the same direction, away from the camera.\\n\\nProminent vehicles in the scene include a white van parked on the side of the street, a red car parked in a driveway, and a white truck parked on the side of the street. There is also a white car parked on the side of the street.\\n\\nThe image shows a residential area with houses, trees, and a clear blue sky. The street is lined with parked cars and there are no visible texts or distinctive markings', '/tmp/storage/clips/front-1722805090.704416-9k61yq-clean.png': \"In the image, there are three individuals who appear to be walking on a sidewalk. The person in the foreground is wearing a white shirt and dark shorts, and they are holding a small child's hand. The child is wearing a blue shirt and is holding the hand of the person in the middle, who is wearing a white shirt and dark shorts as well. The person in the middle is also holding the hand of the child in the background, who is wearing a red shirt.\\n\\nProminent vehicles in the scene include a red car parked on the left side of the street and a white van parked on the right side of the street. There is no legible text visible in the image.\\n\\nThe scene is an everyday residential\", '/tmp/storage/clips/front-1722804611.36944-pwbjp5-clean.png': 'In the image, there is a person standing on the sidewalk, facing away from the camera. The individual is wearing a dark top and dark pants. They appear to be looking towards the street, possibly observing the traffic or the parked cars.\\n\\nProminent vehicles in the scene include a red car parked on the street and an orange sports car driving on the road. There are also several other cars parked along the street.\\n\\nThe image shows a residential area with houses and trees visible. The sky is clear, suggesting it might be a sunny day. There are no visible texts or distinctive brands that stand out in the image. The overall scene is a typical suburban street with a mix of parked and moving vehicles. ', '/tmp/storage/clips/front-1722804347.764626-5qchdf-clean.png': 'In the scene, there is a person walking a dog on a leash. The person is wearing a dark-colored top and shorts, and they are facing away from the camera, so their face is not visible. The dog is a medium-sized breed with a brown coat.\\n\\nThe person and the dog are walking on the sidewalk, which is adjacent to a street with parked cars. The cars vary in color and model, but there is no text or distinctive features that make them stand out.\\n\\nProminent vehicles in the scene include a white van parked on the street and a red car parked on the grass near the sidewalk. There is no legible text visible in the image.\\n\\nThe person and the dog are moving', '/tmp/storage/clips/front-1722803670.010401-frtsyk-clean.png': 'In the image, there is a person walking a dog on a leash. The person is wearing a dark-colored top and light-colored shorts. They are holding the leash with their right hand and appear to be walking towards the camera. The dog is a medium-sized breed with a dark coat.\\n\\nProminent vehicles in the scene include a red car parked on the left side of the street, and a white car parked on the right side of the street. There is also a white van parked on the left side of the street.\\n\\nThe image shows a residential area with houses, trees, and a clear blue sky with some clouds. The street is curved, and there are power lines running above the street.', '/tmp/storage/clips/front-1722803665.872126-mcp5je-clean.png': 'In the image, there is a person walking a dog on a leash. The person is wearing a dark-colored t-shirt and shorts. The dog is black and appears to be a medium-sized breed. The person and the dog are in the foreground, with the person walking towards the right side of the image.\\n\\nProminent vehicles in the scene include a red car parked on the left side of the image, a white van parked on the right side, and a white SUV parked on the right side as well. There is also a white car parked on the left side of the image.\\n\\nThe image shows a residential street with houses on both sides. The sky is clear with a few clouds, suggesting a', '/tmp/storage/clips/front-1722803664.98484-yvcd1z-clean.png': 'In the image, there is a person walking a dog on a leash. The person is wearing a dark-colored top and light-colored shorts. They are holding the leash with their right hand and appear to be walking towards the camera. The dog is a medium-sized breed with a dark coat.\\n\\nProminent vehicles in the scene include a red car parked on the left side of the street, and a white car parked on the right side of the street. There is also a white van parked on the left side of the street.\\n\\nThe image shows a residential area with houses, trees, and a clear blue sky with some clouds. The street is curved, and there are power lines running above the street.', '/tmp/storage/clips/front-1722803487.962145-jfyjs0-clean.png': 'In the image, there are no people visible. The scene is dominated by a variety of vehicles parked on the street and in driveways. There are several cars, including a red one, and a white truck. A white motorcycle is also parked on the street. The vehicles are parked in different orientations, with some facing the camera and others facing away.\\n\\nThere is no legible text visible in the image. The scene is a typical residential street with houses on both sides. The sky is clear with a few clouds, suggesting a sunny day. The image is taken from a perspective that is slightly elevated, looking down on the street. ', '/tmp/storage/clips/front-1722803463.632915-9gd958-clean.png': 'In the image, there are no people visible. The scene is dominated by a variety of vehicles parked on the street and in driveways. There are several cars, including a red one, and a white truck. The vehicles are parked in different orientations, with some facing the camera and others facing away.\\n\\nProminent vehicles include a red car parked in the foreground, a white truck parked in the middle of the street, and a white car parked in the background. There is no legible text visible in the image.\\n\\nThe scene is a typical residential street with houses on both sides. The sky is clear, and the overall atmosphere is calm and quiet. The image does not contain any extraordinary elements; it is a common', '/tmp/storage/clips/front-1722803448.524397-t31let-clean.png': 'In the image, there are two individuals visible. One person is standing on the sidewalk, wearing a dark-colored top and light-colored pants. They appear to be looking towards the street. The other person is seated on the curb, wearing a dark-colored top and light-colored pants. They seem to be engaged in a conversation or observing something in the distance.\\n\\nProminent vehicles in the scene include a red car parked on the street, a white van parked in a driveway, and a white car parked on the street. There is also a white truck parked in a driveway.\\n\\nThe image shows a residential street with houses on both sides. The sky is clear, and there are no visible texts or', '/tmp/storage/clips/front-1722802860.45027-zjtf3k-clean.png': 'In the image, there are three individuals walking on a sidewalk. The person in the foreground is wearing a dark-colored top and dark pants, while the other two individuals are wearing lighter-colored tops and dark pants. They appear to be walking in the same direction, away from the camera.\\n\\nProminent vehicles in the scene include a red car parked on the left side of the street and a white car parked on the right side of the street. There is also a white van parked on the left side of the street.\\n\\nThe image shows a residential area with houses and trees visible in the background. The sky is clear, suggesting it might be a sunny day. There are no visible texts or distinctive brands in the image', '/tmp/storage/clips/front-1722801457.604793-oa36f5-clean.png': 'In the image, there are two individuals who appear to be walking on a sidewalk. The person on the left is wearing a white shirt and dark pants, while the person on the right is wearing a blue shirt and dark pants. They are walking in the same direction, away from the camera.\\n\\nProminent vehicles in the scene include a red car parked on the left side of the street and a white van parked on the right side of the street. There is also a white car parked on the right side of the street.\\n\\nThe image shows a residential area with houses and trees. The sky is clear, suggesting it might be a sunny day. There are no visible texts or distinctive markings on the vehicles that are legible', '/tmp/storage/clips/front-1722801454.476092-256i1d-clean.png': 'In the image, there are several people visible. One individual is walking on the sidewalk, wearing a white shirt and dark shorts. Another person is standing on the corner of the street, wearing a white shirt and dark pants. There is also a child playing in the grass, wearing a red shirt and blue shorts.\\n\\nProminent vehicles in the scene include a red car parked on the street, a white van parked in a driveway, and a white truck parked on the street. There is no legible text visible in the image.\\n\\nThe people appear to be going about their daily activities. The person walking on the sidewalk might be commuting or running errands, while the person standing on the corner could be waiting for someone or', '/tmp/storage/clips/front-1722800369.856728-6pzjve-clean.png': 'In the image, there are two people walking on the sidewalk. The person on the left is wearing a dark-colored top and dark pants, while the person on the right is wearing a light-colored top and dark pants. They appear to be engaged in a conversation as they walk.\\n\\nProminent vehicles in the scene include a red car parked on the street, and a white van parked in a driveway. There is also a white car parked on the street. The vehicles are stationary, and there is no text legible in the image.\\n\\nThe scene is an everyday residential street with houses, trees, and power lines. The orientation of the people and vehicles is typical for a street scene, with the people walking along', '/tmp/storage/clips/front-1722800359.074969-k42cu1-clean.png': \"In the image, there are two individuals visible. One person is standing on the sidewalk, wearing a dark-colored top and light-colored pants. They appear to be facing away from the camera, and it's not clear what they are holding or what they are doing. The other person is standing on the grassy area near the curb, wearing a light-colored top and dark pants. They are facing towards the camera, and it's not clear if they are holding anything or what they are doing.\\n\\nProminent vehicles in the scene include a white van parked on the street, a red car parked on the grassy area, and a white car parked on the street. There is no legible text visible in the\", '/tmp/storage/clips/front-1722800357.0823-7k41ty-clean.png': \"In the image, there are two individuals visible. One person is standing on the sidewalk, wearing a dark-colored top and light-colored pants. They appear to be facing away from the camera, and it's not clear what they are holding or what they are doing. The other person is standing on the grassy area near the curb, wearing a light-colored top and dark pants. They are facing towards the camera, and it's not clear if they are holding anything or what they are doing.\\n\\nProminent vehicles in the scene include a white van parked on the street, a red car parked on the grassy area, and a white car parked on the street. There is no legible text visible in the\", '/tmp/storage/clips/front-1722800092.486055-jrbsm4-clean.png': 'In the image, there is a person walking across a street. The individual is wearing a white tank top and dark shorts. They are holding a red object in their right hand, which appears to be a bag or a case of some sort. The person is oriented towards the right side of the image, and they seem to be in the process of crossing the street.\\n\\nProminent vehicles in the scene include a white van parked on the left side of the street and a red car parked on the right side of the street. There is also a white car visible in the background.\\n\\nThe image shows a residential area with houses and trees. The sky is clear, suggesting it might be a sunny day. There are no visible', '/tmp/storage/clips/front-1722799373.082766-7b3vtf-clean.png': 'In the image, there are no people visible. The scene is dominated by a variety of vehicles parked on the street and in driveways. There are several cars, including a white sedan, a black SUV, and a red car. There are also trucks present, including a white box truck and a white flatbed truck.\\n\\nThe vehicles are parked in a residential area with houses visible in the background. The street is lined with utility poles and wires, and there are trees and shrubs along the sidewalks. The sky is clear, suggesting it might be a sunny day.\\n\\nThere is no legible text visible in the image, and no people are engaged in any activities that are discernible from this', '/tmp/storage/clips/front-1722799365.929691-4lmkmg-clean.png': 'In the image, there are no people visible. The scene is dominated by a variety of vehicles parked on the street and in driveways. There are several cars, including a white sedan, a black SUV, and a red car. There are also trucks, including a white box truck and a white flatbed truck.\\n\\nThe vehicles are parked in a residential area with houses visible in the background. The street is lined with power lines and trees, and there is a clear blue sky overhead. The image is taken from a perspective that looks down on the street, providing a view of the vehicles and the surrounding environment.\\n\\nThere is no legible text visible in the image, and no people are holding anything or engaging in any activities', '/tmp/storage/clips/front-1722799345.821894-f08xik-clean.png': 'In the image, there are two individuals walking on the sidewalk. They are dressed in casual attire, with one person wearing a dark top and the other in a light-colored top. The person in the dark top is slightly ahead of the other, and they appear to be walking in the same direction.\\n\\nProminent vehicles in the scene include a white van parked on the street, a red car parked on the grass, and a white car parked on the street. There is also a white truck parked on the grass. The vehicles are stationary, and there is no visible text or distinctive markings that provide additional information about them.\\n\\nThe orientation of the people and vehicles suggests a typical residential street with parked cars and pedestri', '/tmp/storage/clips/front-1722799033.968697-d6idxo-clean.png': 'In the image, there are several people visible. One individual is wearing a dark-colored top and is standing near a red pickup truck. Another person is wearing a light-colored top and is standing near a white car. The orientation of these individuals is such that they are facing the camera, and they appear to be engaged in conversation or observing something.\\n\\nProminent vehicles in the scene include a red pickup truck and a white car. There is also a white van parked on the street. The vehicles are parked in a residential area, and there are no visible texts or legible text in the image.\\n\\nThe scene is an everyday residential street with houses, trees, and power lines. The focus of the image is', '/tmp/storage/clips/front-1722798908.175004-66gpo1-clean.png': 'In the image, there are several people visible. One individual is standing on the sidewalk, wearing a dark-colored top and dark pants, and appears to be looking towards the camera. Another person is walking on the sidewalk, wearing a light-colored top and dark pants, and is facing away from the camera.\\n\\nProminent vehicles in the scene include a red pickup truck parked on the street, and a white car parked on the driveway of a house. There are also several other cars parked along the street.\\n\\nThe image shows a residential area with houses and trees. The sky is clear, and the overall scene suggests a typical day in a suburban neighborhood. There is no legible text visible in the image. ', '/tmp/storage/clips/front-1722797260.545888-nzzpm1-clean.png': 'In the image, there is a person walking a dog on a leash. The person is wearing a dark-colored t-shirt and dark pants. The dog appears to be a medium-sized breed with a short coat, possibly a German Shepherd or a similar breed. The person and the dog are on the right side of the image, and the dog is walking towards the left side of the image.\\n\\nProminent vehicles in the scene include a white van parked on the left side of the image, a red car parked on the right side of the image, and a white car parked on the right side of the image. There is no legible text visible in the image.\\n\\nThe person and the dog are the', '/tmp/storage/clips/front-1722797257.133099-otddaz-clean.png': 'In the image, there is a person walking a dog on a leash. The person is wearing a dark-colored t-shirt and dark pants. The dog appears to be a large breed, possibly a German Shepherd or a similar breed. The person and the dog are in the foreground of the image, and the dog is walking towards the right side of the photo.\\n\\nIn the background, there are several parked vehicles, including cars and a truck. The vehicles are parked on both sides of the street, and there are no visible texts or distinctive features that would make them stand out.\\n\\nThe street itself is a residential area with houses on both sides. The sky is clear with a few clouds, suggesting a sun', '/tmp/storage/clips/front-1722795894.253328-yz1ywq-clean.png': 'In the image, there are no people visible. The scene is dominated by a variety of vehicles parked on the street and in driveways. There are several cars, a truck, and a van. The vehicles are parked in different orientations, with some facing the camera and others facing away. There is no text visible in the image. The scene is a typical residential street with houses, trees, and power lines. The sky is partly cloudy, suggesting a pleasant day. The image is taken from a perspective that looks down on the street, providing a view of the vehicles and the surrounding environment. ', '/tmp/storage/clips/front-1722795892.394624-c3bt9a-clean.png': 'In the image, there are no people visible. The scene is dominated by a variety of vehicles parked on the street and in driveways. There are several cars, a truck, and a van. The vehicles are parked in different orientations, with some facing the camera and others facing away. There is no text visible in the image. The scene is a typical residential street with houses, trees, and power lines. The sky is partly cloudy, suggesting a pleasant day. The image does not contain any extraordinary elements; it is a common suburban scene. ', '/tmp/storage/clips/front-1722793910.348885-403c63-clean.png': 'In the image, there are two people visible. One person is wearing a black top and is walking towards the camera, while the other person is wearing a red top and is walking away from the camera. The person in the red top is holding a red object, which appears to be a bag or a case.\\n\\nProminent vehicles in the scene include a white van parked on the left side of the street, a red car parked on the right side of the street, and a white truck parked on the right side of the street. There is also a black SUV parked on the left side of the street.\\n\\nThe image shows a residential street with houses on both sides. The sky is overcast, suggesting it might be a', '/tmp/storage/clips/front-1722793488.09179-l5idaf-clean.png': 'In the image, there are no people visible. The scene is dominated by vehicles and residential architecture. There are several cars parked on the street, including a red car in the foreground and a white car in the background. There is also a white van parked on the street.\\n\\nProminent vehicles include a white van parked on the street and a white car parked in a driveway. There is also a red car parked in a driveway.\\n\\nThe image shows a residential area with houses and trees. The sky is overcast, suggesting it might be a cloudy day. The street is lined with parked cars, and there are no people visible in the image. The focus is on the vehicles and the residential setting. ', '/tmp/storage/clips/front-1722793449.366451-i8gnds-clean.png': 'In the image, there are no people visible. The scene is dominated by vehicles and residential architecture. There are several cars parked on the street, including a red car in the foreground and a white van in the background. The vehicles are parked in a residential area with houses on both sides of the street. The sky is overcast, suggesting a cloudy day. There are no people or distinctive clothing visible in this image. ', '/tmp/storage/clips/front-1722793443.384229-x97kun-clean.png': 'In the image, there are no people visible. The focus is on the vehicles and the residential area. There are several cars parked on the street, including a red car and a white car. A white van is parked in a driveway. There are also utility vehicles, such as a bucket truck, parked on the street. The vehicles are parked in various orientations, with some facing the camera and others facing away. There is no legible text visible in the image. The scene depicts a typical residential area with houses, trees, and a street corner. ', '/tmp/storage/clips/front-1722793424.990264-3dvtnu-clean.png': 'In the image, there are two individuals visible. One person is standing on the sidewalk, wearing a dark-colored top and light-colored pants. They appear to be facing away from the camera, looking towards the street. The other person is standing on the grassy area near the curb, wearing a light-colored top and dark pants. They are facing towards the camera, and it seems they are looking at something off-camera.\\n\\nProminent vehicles in the scene include a red car parked on the street, a white van parked on the grassy area, and a white car parked on the street. There is also a white truck parked on the grassy area.\\n\\nThe image shows a residential street with houses on both', '/tmp/storage/clips/front-1722793009.66488-zgr0ca-clean.png': 'In the image, there are several people visible. One individual is standing on the sidewalk, wearing a dark-colored top and light-colored pants. They appear to be looking towards the street. Another person is walking on the sidewalk, wearing a light-colored top and dark pants. They are facing away from the camera, so their clothing is not fully visible.\\n\\nProminent vehicles in the scene include a white van parked on the street, a black SUV parked on the grass, and a white car parked on the street. There is also a red car parked on the grass. The vehicles are stationary, and there is no visible text or legible text on the vehicles.\\n\\nThe people and vehicles are oriented in a', '/tmp/storage/clips/front-1722793004.35608-6wkpjb-clean.png': 'In the image, there are several people visible. One individual is walking on the sidewalk, wearing a dark top and dark pants. Another person is standing on the corner, wearing a dark top and dark pants, and appears to be looking towards the camera. There is also a person walking on the sidewalk, wearing a dark top and dark pants, and carrying a bag.\\n\\nProminent vehicles in the scene include a white van parked on the side of the street, a white car parked on the side of the street, and a black car parked on the side of the street. There is also a red car parked on the side of the street.\\n\\nThe image shows a residential street with houses on both sides. The sky is overcast', '/tmp/storage/clips/front-1722793001.373817-1vpic1-clean.png': 'In the image, there are two people visible. One person is walking on the sidewalk, wearing a dark top and dark pants, and appears to be carrying a bag. The other person is standing on the corner of the street, wearing a light-colored top and dark pants, and is holding a bag. They seem to be waiting or observing something.\\n\\nProminent vehicles in the scene include a white van parked on the side of the street, a black SUV parked in a driveway, and a white car parked on the side of the street. There is also a white truck parked on the side of the street.\\n\\nThe image shows a residential street with houses on both sides. The sky is overcast, and the', '/tmp/storage/clips/front-1722792660.039553-wxdokx-clean.png': 'In the image, there is a person walking on the sidewalk. The individual is wearing a bright orange shirt, blue jeans, and white shoes. They are holding a black object, which appears to be a bag or a case, and are looking to the side, possibly observing something off-camera.\\n\\nProminent vehicles in the scene include a white van parked on the street, and a red car parked on the grass. There is also a white car parked on the street. The text \"15\" is visible on the white van, which could be a phone number or a license plate.\\n\\nThe person is walking away from the camera, and the vehicles are parked in the background. The orientation of the person and the vehicles', '/tmp/storage/clips/front-1722790294.980918-9abyrb-clean.png': 'In the image, there are two people visible. One person is standing on the sidewalk, wearing a yellow jacket, and appears to be looking towards the camera. The other person is walking on the sidewalk, wearing a green jacket, and is facing away from the camera.\\n\\nProminent vehicles in the scene include a white van parked on the street, and a red car parked on the driveway. There is also a white car parked on the street.\\n\\nThe image shows a residential street with houses on both sides. The sky is overcast, and the overall scene suggests a typical day in a suburban neighborhood. There are no texts or other objects that are legible or prominent in the image. ', '/tmp/storage/clips/front-1722790289.992581-7phait-clean.png': 'In the scene, there is a person walking on the sidewalk. The individual is wearing a bright yellow top, which stands out against the more muted colors of the surroundings. The person is facing away from the camera, so their face is not visible. They appear to be walking in the same direction as the traffic flow, which suggests they might be a pedestrian navigating the neighborhood.\\n\\nProminent vehicles in the scene include a white van parked on the side of the street, and a white car parked in front of the van. There is also a red car parked on the side of the street. The vehicles are stationary, and there is no visible text or distinctive markings that provide additional information about them.\\n\\nThe person', '/tmp/storage/clips/front-1722789481.374154-lusrgg-clean.png': 'In the image, there is a person walking on the sidewalk. The individual is wearing a white long-sleeved shirt and dark pants. They are holding a handbag and appear to be walking away from the camera.\\n\\nProminent vehicles in the scene include a white van parked on the street, and a red car parked on the driveway of a house. There is also a black SUV parked on the street.\\n\\nThe person is walking towards the right side of the image, away from the camera. The white van is parked on the left side of the street, and the red car is parked on the right side of the street, in front of the house. The black SUV is parked on the right side', '/tmp/storage/clips/front-1722789283.269898-jydx8n-clean.png': 'In the image, there are no people visible. The focus is on the residential street and the vehicles parked on the sides. There are several vehicles, including cars and a truck, parked along the street. The vehicles are of various colors and models, and there is no legible text visible in the image. The orientation of the vehicles is parallel to the street, and they are parked on both sides of the road. The street itself is a cul-de-sac, and there are no people or other objects that stand out as prominent. The image captures a typical suburban scene with residential houses, trees, and a clear sky. ', '/tmp/storage/clips/front-1722788453.059519-bb5g5q-clean.png': 'In the image, there are no people visible. The scene is dominated by vehicles and residential architecture. There are several cars parked on the street, including a red car in the foreground, a white van, and a black SUV. A white truck is parked on the grass near the curb. There are also utility vehicles, such as a bucket truck, parked in the driveway of a house. The vehicles are parked in various orientations, with some facing the camera and others facing away.\\n\\nThe residential area features houses with white siding and brown roofs. There are trees lining the street, and the sky is clear with a few clouds. The image is taken from a perspective that looks down a residential street, providing', '/tmp/storage/clips/front-1722787007.676523-yd2jry-clean.png': 'In the image, there are no people visible. The scene is dominated by a residential street with various vehicles parked or moving along the road. There are no people in the street, and the focus is on the vehicles and the surrounding environment.\\n\\nProminent vehicles include a red car parked on the left side of the street, a white van parked on the right side, and a white truck parked in the middle of the street. There is also a black SUV parked on the right side of the street.\\n\\nThe street is lined with houses on both sides, and there are trees and power lines visible. The sky is clear, suggesting it might be a sunny day. The image is taken from a perspective that looks down the street', '/tmp/storage/clips/front-1722786851.985759-7rlo3f-clean.png': 'In the image, there are two individuals visible. One person is standing near the center of the image, wearing a dark-colored top and dark pants. They appear to be facing away from the camera, and their posture suggests they might be engaged in a conversation or observing something.\\n\\nThe second person is standing near the right edge of the image, wearing a light-colored top and dark pants. They are facing towards the camera, and their posture indicates they might be in the process of walking or standing still.\\n\\nThere are several vehicles in the scene. Prominently, there is a white van parked near the right edge of the image, with the words \"CITY\" visible on its side. There is also', '/tmp/storage/clips/front-1722786845.650557-4a53jt-clean.png': 'In the image, there are two individuals visible. One person is standing on the sidewalk, wearing a dark-colored top and dark pants, and appears to be facing away from the camera, possibly looking at something off-camera. The other person is standing in the street, wearing a dark-colored top and dark pants, and is facing towards the camera. This individual is holding a clipboard and seems to be observing or inspecting something on the ground.\\n\\nProminent vehicles in the scene include a white van with a red logo on the side, which is parked on the street. There is also a red car parked on the street. The vehicles are not in motion, and there is no text legible in the image.\\n', '/tmp/storage/clips/front-1722786824.822429-uka084-clean.png': 'In the scene, there is a person walking on the sidewalk. The individual is wearing a sleeveless top and dark pants. They are holding a smartphone in their right hand and appear to be looking at the screen. The person is oriented towards the left side of the image.\\n\\nProminent vehicles in the scene include a red SUV parked on the right side of the image, and a white van parked on the left side. There is also a black car parked on the left side of the image.\\n\\nThe image shows a residential street with houses on both sides. The sky is clear, suggesting it might be a sunny day. There are no visible texts or distinctive brands in the image. The overall scene is a', '/tmp/storage/clips/front-1722786389.444566-6kb2xb-clean.png': 'In the image, there are two people visible. One person is standing on the sidewalk, wearing a blue shirt and dark pants, and appears to be looking towards the camera. The other person is walking on the sidewalk, wearing a red shirt and blue jeans, and is facing away from the camera.\\n\\nProminent vehicles in the scene include a white van parked on the street, and a red car parked on the driveway. There is also a black SUV parked on the street.\\n\\nThe image shows a residential street with houses on both sides. The sky is clear, suggesting it might be a sunny day. There are no visible texts or legible text in the image. The orientation of the people and vehicles is consistent with', '/tmp/storage/clips/front-1722786384.348937-5yl5uf-clean.png': 'In the image, there are no people visible. The scene is dominated by a variety of vehicles parked on the street. There is a red car in the foreground, and behind it, there is a white van and a black SUV. Further back, there is a white truck and a black car. The vehicles are parked on both sides of the street, and there is a clear view of the road ahead.\\n\\nThe street itself is a cul-de-sac, with a curved road leading to a dead end. The road is lined with houses on both sides, and there are trees and power lines visible in the background. The sky is clear, suggesting it might be a sunny day.\\n\\nThere is no', '/tmp/storage/clips/front-1722786351.326647-rabnxb-clean.png': 'In the image, there are two people visible. One person is standing on the sidewalk, wearing a dark-colored top and light-colored pants. They appear to be looking towards the street. The other person is walking on the sidewalk, wearing a light-colored top and dark pants. They are facing away from the camera, so their clothing is not fully visible.\\n\\nProminent vehicles in the scene include a white van parked on the street, and a red car parked on the driveway of a house. There is also a black SUV parked on the street.\\n\\nThe image shows a residential street with houses on both sides. The sky is clear, suggesting it might be a sunny day. There are no visible texts or', '/tmp/storage/clips/front-1722785238.458191-so7sw6-clean.png': 'In the image, there is a person standing on the sidewalk. The individual is wearing a dark-colored top and dark pants. They appear to be facing away from the camera, looking towards the street. The person is holding a black object, which could be a handbag or a small bag.\\n\\nProminent vehicles in the scene include a red car parked on the street and a white van parked in a driveway. There is also a black SUV parked on the street. The vehicles are stationary, and there is no visible text on them.\\n\\nThe person is standing on the sidewalk, which is adjacent to the street. The street is lined with parked cars and a fire hydrant. The sky is clear, suggesting', '/tmp/storage/clips/front-1722785219.578399-vjqzlu-clean.png': 'In the image, there are two people visible. One person is standing on the sidewalk, wearing a dark-colored top and dark pants, and appears to be looking towards the camera. The other person is walking on the sidewalk, wearing a dark-colored top and dark pants, and is facing away from the camera.\\n\\nProminent vehicles in the scene include a red car parked on the street, a white van parked in a driveway, and a white truck parked on the street. There is also a black car parked on the street.\\n\\nThe image shows a residential street with houses on both sides. The sky is partly cloudy, and the overall scene suggests a typical day in a suburban neighborhood. There is no legible', '/tmp/storage/clips/front-1722785186.157532-e83i1p-clean.png': 'In the image, there are two people visible. One person is standing on the sidewalk, wearing a dark-colored top and dark pants, and appears to be looking towards the camera. The other person is standing in the driveway of a house, wearing a dark-colored top and dark pants, and is facing away from the camera, towards the street.\\n\\nProminent vehicles in the scene include a red car parked on the street, a white van parked in the driveway of a house, and a white truck parked on the street. There is no legible text visible in the image.\\n\\nThe people and vehicles are oriented in a way that suggests a residential area with a mix of parked cars and trucks. The red car', '/tmp/storage/clips/front-1722785184.36829-1a92fs-clean.png': 'In the image, there are two people visible. One person is standing near the center of the image, wearing a dark-colored top and dark pants. They appear to be facing away from the camera, and their back is turned to the viewer. The other person is standing near the right edge of the image, wearing a dark-colored top and dark pants. They are facing towards the left side of the image, and their back is turned to the viewer as well.\\n\\nProminent vehicles in the scene include a red car parked near the center of the image, and a white van parked near the right edge of the image. There is also a black car parked near the left edge of the image.\\n\\nThe image shows', '/tmp/storage/clips/front-1722785178.201483-gfok5q-clean.png': 'In the image, there are two people visible. One person is standing on the sidewalk, wearing a dark-colored top and dark pants. They appear to be facing away from the camera, looking towards the street. The other person is standing on the driveway of a house, wearing a dark-colored top and dark pants. They are facing towards the camera, and it seems they are engaged in a conversation or looking at something off-camera.\\n\\nProminent vehicles in the scene include a red car parked on the street and a white van parked in a driveway. There is also a black car parked on the street. The text \"100\" is visible on the side of the red car, which could be a house number', '/tmp/storage/clips/front-1722784280.502125-g19g9j-clean.png': 'In the image, there is a person walking on the sidewalk. The individual is wearing a dark-colored top and light-colored pants. They are facing away from the camera, so their face is not visible. The person appears to be walking in the same direction as the traffic flow on the street.\\n\\nProminent vehicles in the scene include a red car parked on the side of the street and a white van parked in a driveway. There is also a black SUV parked on the side of the street.\\n\\nThe image shows a residential area with houses, trees, and power lines. The sky is clear, suggesting it might be a sunny day. There is no visible text or legible text in the image. The', '/tmp/storage/clips/front-1722784275.292545-e9uhki-clean.png': \"In the image, there is a person standing in the middle of the street. The individual is wearing a dark-colored top and dark pants. They appear to be looking towards the right side of the image, possibly observing something or someone.\\n\\nProminent vehicles in the scene include a red car parked on the left side of the street and a white truck parked on the right side. There is also a black SUV parked on the left side of the street.\\n\\nThe street itself is a cul-de-sac with houses on both sides. The sky is clear, suggesting it might be a sunny day. There are no visible texts or legible text in the image. The person's actions and the parked vehicles\", '/tmp/storage/clips/front-1722784262.032369-capbg8-clean.png': 'In the image, there are two people visible. One person is standing on the sidewalk, wearing a dark-colored top and dark pants, and appears to be looking towards the camera. The other person is walking on the sidewalk, wearing a light-colored top and dark pants, and is facing away from the camera.\\n\\nProminent vehicles in the scene include a red car parked on the street, a white van parked in a driveway, and a white truck parked on the street. There is also a black car parked on the street.\\n\\nThe image shows a residential street with houses on both sides. The sky is clear, suggesting it might be a sunny day. There are no visible texts or distinctive markings that provide additional', '/tmp/storage/clips/front-1722783619.543527-k7f539-clean.png': 'In the scene, there is a person walking on the sidewalk. The individual is wearing a dark-colored t-shirt and light-colored shorts. They are holding a black object, which appears to be a handheld device, possibly a smartphone or a remote control. The person is walking away from the camera, and their back is facing the viewer.\\n\\nProminent vehicles in the scene include a white van parked on the street, and a red car parked in a driveway. There is also a black SUV parked on the street. The vehicles are stationary, and there is no visible text or legible license plates.\\n\\nThe person walking is oriented towards the right side of the image, and they are walking', '/tmp/storage/clips/front-1722782728.513069-nugmmr-clean.png': 'In the image, there are no people visible. The scene is dominated by parked vehicles, including cars and a truck, on a residential street. The vehicles are parked on both sides of the street, and there is a clear view of the road ahead. The sky is blue with some clouds, suggesting a pleasant day. There are no prominent vehicles or legible text in the image. The orientation of the objects is such that the vehicles are parked parallel to the curb, and the road curves to the left in the distance. The image captures a typical suburban street scene. ', '/tmp/storage/clips/front-1722782717.976632-b6zvit-clean.png': 'In the image, there are two people visible. One person is walking on the sidewalk, wearing a dark-colored top and light-colored pants. The other person is standing on the corner of the street, wearing a light-colored top and dark pants. They appear to be engaged in a conversation or waiting for someone.\\n\\nProminent vehicles in the scene include a red car parked on the street, a white car parked on the driveway, and a white van parked on the street. There is no legible text visible in the image.\\n\\nThe people and vehicles are oriented in a typical residential street setting. The red car is parked on the street, while the white car and van are parked on the driveway. The', '/tmp/storage/clips/front-1722782709.215829-pok4k9-clean.png': 'In the image, there is a person standing in the middle of the street. The person is wearing a dark-colored top and light-colored pants. They appear to be looking towards the camera.\\n\\nProminent vehicles in the scene include a red car parked on the left side of the street, a white car parked on the right side of the street, and a white van parked on the left side of the street. There is also a black SUV parked on the right side of the street.\\n\\nThe street is lined with houses on both sides. The sky is clear, suggesting it might be a sunny day. There are no visible texts or legible text in the image. The person in the street is the main focus', '/tmp/storage/clips/front-1722782674.162191-pkjoqj-clean.png': 'In the image, there is a person walking on the sidewalk. The individual is wearing a yellow top and dark pants. They appear to be walking away from the camera, moving towards the right side of the image. The person is holding a small object in their right hand, but it is not clear what the object is.\\n\\nProminent vehicles in the scene include a red SUV parked on the left side of the image, a white car parked on the right side, and a white van parked in the middle of the image. There is also a black SUV parked on the left side of the image.\\n\\nThe image shows a residential street with houses on both sides. The sky is clear, suggesting it might be a sunny', '/tmp/storage/clips/front-1722782671.616958-w6hnbq-clean.png': 'In the image, there are two people visible. One person is standing on the sidewalk, wearing a yellow jacket and a white hat, and appears to be looking towards the camera. The other person is walking on the sidewalk, wearing a white shirt and a dark-colored cap, and is facing away from the camera.\\n\\nProminent vehicles in the scene include a red car parked on the street, a white van parked in a driveway, and a white car parked on the street. There is also a black car parked on the street.\\n\\nThe image shows a residential street with houses on both sides. The sky is clear, and the overall scene suggests a quiet, suburban neighborhood. There are no visible texts or distinctive markings', '/tmp/storage/clips/front-1722782236.638288-g9ohab-clean.png': 'In the image, there are no people visible. The scene is dominated by parked vehicles, including cars and a truck, on a residential street. The vehicles are parked in various orientations, with some facing the camera and others facing away. There is no text visible in the image. The street is lined with houses, and the sky is clear, suggesting it might be a sunny day. The image is taken from a perspective that is slightly elevated, looking down on the street. ', '/tmp/storage/clips/front-1722781193.38171-px66m8-clean.png': 'In the image, there are two individuals visible. One person is standing on the sidewalk, wearing a dark-colored top and dark pants. They appear to be looking down at something in their hand, possibly a smartphone or a small object. The other person is walking on the sidewalk, wearing a light-colored top and dark pants. They are facing away from the camera, so their clothing details are not visible.\\n\\nProminent vehicles in the scene include a red car parked on the street, a white van parked in a driveway, and a white car parked on the street. There is also a white truck parked in a driveway. The vehicles are stationary, and there is no visible text or distinctive markings that provide additional', '/tmp/storage/clips/front-1722779756.453588-54u22u-clean.png': 'In the image, there are no people visible. The scene is dominated by parked vehicles, including cars and a truck, on a residential street. The vehicles are parked in various orientations, with some facing the camera and others facing away. There is no text visible in the image. The street is lined with houses, and the sky is clear, suggesting it might be a sunny day. The image is taken from a perspective that is slightly elevated, looking down on the street. ', '/tmp/storage/clips/front-1722779747.411268-7xbrst-clean.png': \"In the image, there are two people walking on the sidewalk. The person on the left is wearing a white top and dark pants, while the person on the right is wearing a light-colored top and dark pants. They are walking away from the camera, and the person on the right is holding a child's hand.\\n\\nProminent vehicles in the scene include a red SUV parked on the left side of the street, and a white sedan parked on the right side of the street. There is also a white pickup truck parked on the right side of the street.\\n\\nThe image shows a residential street with houses on both sides. The sky is clear, suggesting it might be a sunny day. There are no visible\", '/tmp/storage/clips/front-1722779449.239518-tk3ez5-clean.png': \"In the image, there are two individuals visible. One person is standing on the sidewalk, wearing a dark-colored top and dark pants. They appear to be facing away from the camera, and it's not clear what they are holding or what they are doing. The other person is standing on the street, wearing a light-colored top and dark pants. They are facing towards the camera, and it's not clear what they are holding or what they are doing.\\n\\nProminent vehicles in the scene include a red car parked on the street, a white car parked on the street, and a black car parked on the street. There is also a white truck parked on the street.\\n\\nThe image shows a residential street with\", '/tmp/storage/clips/front-1722779394.789454-bikgp6-clean.png': 'In the image, there is a person standing on the sidewalk near the intersection. The person is wearing a dark-colored top and dark pants. They appear to be looking towards the street, possibly observing the traffic or waiting for someone.\\n\\nProminent vehicles in the scene include a red car parked on the left side of the image, a white car parked on the right side, and a white truck parked in the middle of the image. There is also a black SUV parked on the right side of the image.\\n\\nThe image shows a residential area with houses on both sides of the street. The sky is clear, suggesting it might be a sunny day. There are no visible texts or distinctive markings on the vehicles that', '/tmp/storage/clips/front-1722778571.497269-aialv8-clean.png': 'In the image, there are two individuals who appear to be walking on the sidewalk. One person is wearing a dark-colored top and shorts, while the other is wearing a light-colored top and dark pants. They are walking away from the camera, and their orientation suggests they are moving towards the right side of the image.\\n\\nProminent vehicles in the scene include a red car parked on the left side of the image and a white car parked on the right side. There is also a black SUV parked on the left side of the image.\\n\\nThe image shows a residential area with houses, trees, and power lines. There is no legible text visible in the image. The overall scene is a typical suburban neighborhood with', '/tmp/storage/clips/front-1722778564.496518-ggtljs-clean.png': 'In the image, there are two individuals visible. One person is standing on the sidewalk, wearing a dark-colored top and light-colored pants. They appear to be facing away from the camera, and their back is turned to the viewer. The other person is walking on the sidewalk, wearing a light-colored top and dark pants. They are facing towards the camera.\\n\\nProminent vehicles in the scene include a red car parked on the street, a white car parked on the grass, and a black SUV parked on the street. There is no legible text visible in the image.\\n\\nThe people in the scene seem to be going about their daily activities, with one person possibly waiting for someone or something, and the', '/tmp/storage/clips/front-1722778141.151058-5ketz6-clean.png': 'In the image, there are no people visible. The scene is dominated by parked vehicles, including cars and a truck, on both sides of the street. The vehicles are of various colors and models, and they are parked in a manner that suggests a residential area. There are no people or distinctive clothing visible in the image. The focus is on the vehicles and the street itself. There is no legible text or prominent vehicles that stand out in the image. The orientation of the objects is such that the vehicles are parked along the sides of the street, and the street itself appears to be a cul-de-sac with a curved layout. The image does not provide any information about the actions of the people or the vehicles, as they', '/tmp/storage/clips/front-1722778129.109968-qkkmvu-clean.png': 'In the image, there are two people visible. One person is walking a dog on a leash, and the other person is walking in the opposite direction, away from the camera. The person walking the dog is wearing a dark-colored top and dark pants, and the other person is wearing a light-colored top and dark pants.\\n\\nProminent vehicles in the scene include a red car parked on the left side of the street, a white car parked on the right side of the street, and a white truck parked in a driveway. There is no legible text visible in the image.\\n\\nThe orientation of the people and vehicles suggests a typical residential street scene. The person walking the dog is moving towards the camera, while', '/tmp/storage/clips/front-1722778121.841805-b38ewe-clean.png': 'In the image, there is a person walking a dog on a leash. The person is wearing a dark-colored top and light-colored pants. The dog is white and appears to be a medium-sized breed. The person and the dog are on the sidewalk, and the dog is facing towards the street.\\n\\nProminent vehicles in the scene include a red car parked on the left side of the street and a white car parked on the right side of the street. There is also a black SUV parked on the left side of the street.\\n\\nThe image shows a residential street with houses on both sides. The sky is clear, and the overall scene suggests a calm, suburban setting. There is no text visible in', '/tmp/storage/clips/front-1722778110.870605-xybcl1-clean.png': 'In the image, there are two people visible. One person is walking a dog on a leash, and the dog appears to be a medium-sized breed with a white coat. The person is wearing a dark-colored top and light-colored pants, and they are facing away from the camera, so their face is not visible. The other person is standing near a parked white car, and they are wearing a dark-colored top and light-colored pants as well. They are facing towards the camera, and their face is partially visible.\\n\\nProminent vehicles in the scene include a red car parked on the left side of the image and a white car parked on the right side. There is no legible text visible in the image', '/tmp/storage/clips/front-1722778105.096-coyh66-clean.png': 'In the image, there are two people visible. One person is walking on the sidewalk, wearing a dark-colored top and light-colored pants. The other person is standing on the corner of the street, wearing a light-colored top and dark pants. They are holding a leash attached to a white dog. The dog appears to be looking towards the camera.\\n\\nProminent vehicles in the scene include a red car parked on the street, a white car parked on the driveway, and a black SUV parked on the street. There is no legible text visible in the image.\\n\\nThe orientation of the people and vehicles suggests a typical residential street scene. The person walking on the sidewalk is moving away from the camera,', '/tmp/storage/clips/front-1722778102.19413-p2d4ba-clean.png': 'In the image, there are two people visible. One person is walking on the sidewalk, wearing a dark-colored top and light-colored pants. The other person is standing on the corner of the street, wearing a light-colored top and dark pants. They appear to be waiting or observing something.\\n\\nProminent vehicles in the scene include a red car parked on the left side of the street and a white car parked on the right side of the street. There is also a black SUV parked on the left side of the street.\\n\\nThe image shows a residential street with houses on both sides. The sky is clear, and the overall scene suggests a quiet, suburban neighborhood. There is no legible text visible in', '/tmp/storage/clips/front-1722777789.631745-o5fde3-clean.png': 'In the image, there are two people visible. One person is standing on the sidewalk, wearing a dark-colored top and dark pants, and appears to be looking towards the camera. The other person is walking on the sidewalk, wearing a light-colored top and dark pants, and is facing away from the camera.\\n\\nProminent vehicles in the scene include a red car parked on the street, a white car parked on the driveway, and a black SUV parked on the street. There is also a white truck parked on the driveway.\\n\\nThe image shows a residential street with houses on both sides. The sky is clear, and the overall scene suggests a quiet, suburban neighborhood. There is no legible text visible', '/tmp/storage/clips/front-1722777787.016028-ml25s5-clean.png': 'In the image, there are two people visible. One person is standing on the sidewalk, wearing a dark-colored top and dark pants, and appears to be looking towards the camera. The other person is walking on the sidewalk, wearing a light-colored top and dark pants, and is facing away from the camera.\\n\\nProminent vehicles in the scene include a red car parked on the street, a white car parked on the driveway, and a black SUV parked on the street. There is also a white truck parked on the driveway.\\n\\nThe image shows a residential street with houses on both sides. The sky is clear, and the overall scene suggests a quiet, suburban neighborhood. There is no legible text visible', '/tmp/storage/clips/front-1722776498.849242-h3lkwf-clean.png': 'In the image, there are no people visible. The scene is dominated by a variety of vehicles parked on the street. There are several cars, including a red SUV, a white sedan, and a black SUV. There is also a white truck parked on the side of the street. The vehicles are parked in a residential area, with houses visible in the background. The street is lined with power lines and trees, and there is a clear blue sky above. The image is taken from a low angle, looking up at the sky, which gives a sense of the height of the trees and the power lines. There is no legible text or any people visible in this image. ', '/tmp/storage/clips/front-1722775239.527045-87drix-clean.png': 'In the image, there are no people visible. The scene is dominated by parked cars and a residential street. The cars are of various makes and models, and they are parked in a manner that suggests a typical suburban neighborhood. There is no legible text visible in the image. The orientation of the objects is such that the cars are parked on the side of the street, and the houses are on the opposite side. The street itself appears to be a cul-de-sac, as there are no visible roads leading to other streets. The sky is clear, indicating fair weather. The image is taken from a perspective that is slightly elevated, looking down on the street and the parked cars. ', '/tmp/storage/clips/front-1722774172.890696-4okyxc-clean.png': 'In the image, there are no people visible. The scene is dominated by a variety of vehicles parked on the street. There are several cars, including a red one, and a white truck. The vehicles are parked in a residential area, with houses visible in the background. The street is lined with power lines and trees, and there is a clear blue sky above. The image is taken from a low angle, looking up the street, which gives a sense of depth and perspective. There is no legible text or any people engaged in activities that are not ordinary for a residential area. ', '/tmp/storage/clips/front-1722774172.220247-sguyc2-clean.png': 'In the image, there are no people visible. The scene is dominated by a variety of vehicles parked on the street and in driveways. The vehicles include cars and trucks, with one car prominently visible in the foreground. There is no legible text in the image. The orientation of the vehicles suggests a typical residential area with parking spaces and driveways. The image is taken from a perspective that looks down a street, capturing the front of parked vehicles and the facades of houses. The sky is clear, indicating fair weather. '}\n"
     ]
    }
   ],
   "source": [
    "\n",
    "from PIL import Image\n",
    "import datetime\n",
    "import json\n",
    "\n",
    "def transcribe_one(filename, responses):\n",
    "    image = Image.open(filename)\n",
    "    inputs = processor(prompt, image, return_tensors=\"pt\").to(\"cuda:0\")\n",
    "\n",
    "    # autoregressively complete prompt\n",
    "    output = model.generate(**inputs, max_new_tokens=150)\n",
    "\n",
    "    text = processor.decode(output[0], skip_special_tokens=True)\n",
    "    responses[filename] = text[len(prompt) - 5:]\n",
    "\n",
    "\n",
    "def upsert_transcriptions_to_sqlite3(responses, db=None):\n",
    "    if db is None:\n",
    "        print(\"No db provided\")\n",
    "        return\n",
    "    for filename, text in responses.items():\n",
    "        db.run(\"UPDATE tbl SET name = ? WHERE id = ?\", [ \"bar\", 2 ]);\n",
    "\n",
    "\n",
    "responses = {}\n",
    "today = datetime.datetime.now().isoformat()\n",
    "\n",
    "for idx, filename in enumerate(filenames):\n",
    "    print(f\"{idx + 1} of {len(filenames)}\")\n",
    "    transcribe_one(filename, responses)\n",
    "\n",
    "upsert_transcriptions_to_sqlite3(responses)\n",
    "\n",
    "# transcribe_one(\"/tmp/storage/clips/front-1722009392.383259-1jcmy8-clean.png\", responses)\n",
    "\n",
    "print(responses)\n",
    "\n",
    "json.dump(responses, open(f\"transcribed/analyze_{today}.json\", \"w\"))\n"
   ]
  }
 ],
 "metadata": {
  "kernelspec": {
   "display_name": "venv",
   "language": "python",
   "name": "python3"
  },
  "language_info": {
   "codemirror_mode": {
    "name": "ipython",
    "version": 3
   },
   "file_extension": ".py",
   "mimetype": "text/x-python",
   "name": "python",
   "nbconvert_exporter": "python",
   "pygments_lexer": "ipython3",
   "version": "3.12.3"
  }
 },
 "nbformat": 4,
 "nbformat_minor": 2
}
